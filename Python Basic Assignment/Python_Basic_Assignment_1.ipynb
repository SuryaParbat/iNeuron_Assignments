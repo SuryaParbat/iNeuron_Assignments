{
 "cells": [
  {
   "cell_type": "markdown",
   "id": "efficient-paraguay",
   "metadata": {},
   "source": [
    "# Python Basic Assignment 1"
   ]
  },
  {
   "cell_type": "markdown",
   "id": "oriented-accessory",
   "metadata": {},
   "source": [
    "# Q1 :\n",
    "In the below elements which of them are values or an expression?\n",
    "eg:- \n",
    "values can be integer or string and expressions will be mathematical operators.\n",
    "*\n",
    "\n",
    "&#39;hello&#39;\n",
    "\n",
    "-87.8\n",
    "\n",
    "-\n",
    "\n",
    "/\n",
    "\n",
    "+\n",
    "\n",
    "6"
   ]
  },
  {
   "cell_type": "markdown",
   "id": "organized-paraguay",
   "metadata": {},
   "source": [
    "# Ans:"
   ]
  },
  {
   "cell_type": "markdown",
   "id": "coordinate-finland",
   "metadata": {},
   "source": [
    "### Following are operators: \n",
    "\n",
    "*,-,/,+"
   ]
  },
  {
   "cell_type": "markdown",
   "id": "atmospheric-furniture",
   "metadata": {},
   "source": [
    "### Following are values:\n",
    "\n",
    "'hello', -87.8, 6"
   ]
  },
  {
   "cell_type": "markdown",
   "id": "signed-criminal",
   "metadata": {},
   "source": [
    "# Q2 :\n",
    "What is the difference between string and variable?"
   ]
  },
  {
   "cell_type": "markdown",
   "id": "introductory-georgia",
   "metadata": {},
   "source": [
    "# Ans:"
   ]
  },
  {
   "cell_type": "markdown",
   "id": "secret-label",
   "metadata": {},
   "source": [
    "### String : \n",
    "\n",
    "A string is a sequence of characters.\n",
    "\n",
    "A character is simply a symbol. For example, the English language has 26 characters.\n",
    "\n",
    "Strings can be created by enclosing characters inside a single quote or double-quotes. Even triple quotes can be used in Python but generally used to represent multiline strings and docstrings.\n"
   ]
  },
  {
   "cell_type": "markdown",
   "id": "little-intervention",
   "metadata": {},
   "source": [
    "### Examples:\n",
    "\n",
    "\"My Name is Surya\", 'Hello!!!'"
   ]
  },
  {
   "cell_type": "markdown",
   "id": "satisfied-depth",
   "metadata": {},
   "source": [
    "### Variable:\n",
    "\n",
    "Variables are containers for storing data values.\n",
    "\n",
    "Variables are nothing but reserved memory locations to store values. This means that when you create a variable you reserve some space in memory.\n",
    "\n",
    "Based on the data type of a variable, the interpreter allocates memory and decides what can be stored in the reserved memory. Therefore, by assigning different data types to variables, you can store integers, decimals or characters in these variables.\n",
    "\n"
   ]
  },
  {
   "cell_type": "markdown",
   "id": "stock-ivory",
   "metadata": {},
   "source": [
    "### Examples:\n",
    "\n",
    "X_int = 100, \n",
    "Y_float = 100.1,\n",
    "Z_string = \"surya\",\n",
    "A_bool = Trure"
   ]
  },
  {
   "cell_type": "markdown",
   "id": "enhanced-building",
   "metadata": {},
   "source": [
    "# Q3 :\n",
    "Describe three different data types."
   ]
  },
  {
   "cell_type": "markdown",
   "id": "viral-offense",
   "metadata": {},
   "source": [
    "# Ans:"
   ]
  },
  {
   "cell_type": "markdown",
   "id": "respective-resort",
   "metadata": {},
   "source": [
    "Three diferent data types as follows:\n",
    "    \n",
    "1- int ---> A positive or negative whole number without a decimal point. X = 100\n",
    "\n",
    "2- float ---> A positive or negative whole number with a decimal point. Y = 10.4\n",
    "\n",
    "3 - string ---> any text with in two single or double quotes. Z = \"Surya\""
   ]
  },
  {
   "cell_type": "markdown",
   "id": "expanded-limitation",
   "metadata": {},
   "source": [
    "# Q4:\n",
    "What is an expression made up of? What do all expressions do?"
   ]
  },
  {
   "cell_type": "markdown",
   "id": "tropical-authorization",
   "metadata": {},
   "source": [
    "# Ans:"
   ]
  },
  {
   "cell_type": "markdown",
   "id": "elegant-metabolism",
   "metadata": {},
   "source": [
    "An expression is a combination of values, variables, operators, and calls to functions. Expressions need to be evaluated. If you ask Python to print an expression, the interpreter evaluates the expression and displays the result."
   ]
  },
  {
   "cell_type": "code",
   "execution_count": 3,
   "id": "atlantic-hammer",
   "metadata": {},
   "outputs": [
    {
     "name": "stdout",
     "output_type": "stream",
     "text": [
      "Z = 10 * 20\n",
      "Z = 200\n"
     ]
    }
   ],
   "source": [
    "# variables \n",
    "X = 10\n",
    "Y = 20\n",
    "\n",
    "# The expression for multiplication\n",
    "Z = X * Y\n",
    "    \n",
    "# Evalues and store the value in C\n",
    "print('Z = {} * {}'.format(X,Y))\n",
    "print('Z =',Z)"
   ]
  },
  {
   "cell_type": "markdown",
   "id": "japanese-honolulu",
   "metadata": {},
   "source": [
    "# Q5:\n",
    "This assignment statements, like spam = 10. What is the difference between an\n",
    "expression and a statement?"
   ]
  },
  {
   "cell_type": "markdown",
   "id": "opposite-arena",
   "metadata": {},
   "source": [
    "# Ans:"
   ]
  },
  {
   "cell_type": "markdown",
   "id": "acquired-exclusion",
   "metadata": {},
   "source": [
    "The assignment statement creates new variables and gives them values.\n",
    "\n",
    "In spam = 10 , value 10 in assigned to spam, and now spam will have value 10.\n",
    "\n",
    "The expressions evalues the value to a variable.\n",
    "\n",
    "In expression Z = X*Y, the value of a depends on the value of X and Y."
   ]
  },
  {
   "cell_type": "markdown",
   "id": "satellite-nashville",
   "metadata": {},
   "source": [
    "# Q6 :\n",
    "After running the following code, what does the variable bacon contain?\n",
    "\n",
    "bacon = 22\n",
    "\n",
    "bacon + 1"
   ]
  },
  {
   "cell_type": "markdown",
   "id": "breeding-village",
   "metadata": {},
   "source": [
    "# Ans:"
   ]
  },
  {
   "cell_type": "raw",
   "id": "satellite-headset",
   "metadata": {},
   "source": [
    "becon will still have value 22.\n",
    "\n",
    "The becon is assinged with 22, but becon + 1 is not reassigned to becon again like, becon= becon + 1. So the value of becon is not changed"
   ]
  },
  {
   "cell_type": "markdown",
   "id": "western-benchmark",
   "metadata": {},
   "source": [
    "# Q7 :\n",
    "What should the values of the following two terms be?\n",
    "\n",
    "&#39;spam&#39; + &#39;spamspam&#39;\n",
    "\n",
    "&#39;spam&#39; * 3"
   ]
  },
  {
   "cell_type": "markdown",
   "id": "intelligent-panic",
   "metadata": {},
   "source": [
    "# Ans:"
   ]
  },
  {
   "cell_type": "markdown",
   "id": "romantic-johns",
   "metadata": {},
   "source": [
    "Both outputs 'spamspamspam'"
   ]
  },
  {
   "cell_type": "code",
   "execution_count": 5,
   "id": "grand-ontario",
   "metadata": {},
   "outputs": [
    {
     "data": {
      "text/plain": [
       "'spamspamspam'"
      ]
     },
     "execution_count": 5,
     "metadata": {},
     "output_type": "execute_result"
    }
   ],
   "source": [
    "'spam' + 'spamspam'"
   ]
  },
  {
   "cell_type": "code",
   "execution_count": 6,
   "id": "received-sullivan",
   "metadata": {},
   "outputs": [
    {
     "data": {
      "text/plain": [
       "'spamspamspam'"
      ]
     },
     "execution_count": 6,
     "metadata": {},
     "output_type": "execute_result"
    }
   ],
   "source": [
    "'spam' * 3"
   ]
  },
  {
   "cell_type": "markdown",
   "id": "foreign-discretion",
   "metadata": {},
   "source": [
    "# Q8 :\n",
    "Why is eggs a valid variable name while 100 is invalid?"
   ]
  },
  {
   "cell_type": "markdown",
   "id": "explicit-payroll",
   "metadata": {},
   "source": [
    "# Ans:"
   ]
  },
  {
   "cell_type": "markdown",
   "id": "successful-theater",
   "metadata": {},
   "source": [
    "Variable name can not starts with numbers."
   ]
  },
  {
   "cell_type": "code",
   "execution_count": 8,
   "id": "square-watson",
   "metadata": {},
   "outputs": [
    {
     "name": "stdout",
     "output_type": "stream",
     "text": [
      "100\n"
     ]
    }
   ],
   "source": [
    "eggs = 100\n",
    "print(eggs)"
   ]
  },
  {
   "cell_type": "code",
   "execution_count": 9,
   "id": "accessible-comment",
   "metadata": {},
   "outputs": [
    {
     "ename": "SyntaxError",
     "evalue": "cannot assign to literal (<ipython-input-9-3f6ec732c716>, line 1)",
     "output_type": "error",
     "traceback": [
      "\u001b[1;36m  File \u001b[1;32m\"<ipython-input-9-3f6ec732c716>\"\u001b[1;36m, line \u001b[1;32m1\u001b[0m\n\u001b[1;33m    100 = \"XYZ\"\u001b[0m\n\u001b[1;37m    ^\u001b[0m\n\u001b[1;31mSyntaxError\u001b[0m\u001b[1;31m:\u001b[0m cannot assign to literal\n"
     ]
    }
   ],
   "source": [
    "100 = \"XYZ\"\n",
    "100"
   ]
  },
  {
   "cell_type": "markdown",
   "id": "frozen-april",
   "metadata": {},
   "source": [
    "# Q9 :\n",
    "What three functions can be used to get the integer, floating-point number, or string\n",
    "version of a value?"
   ]
  },
  {
   "cell_type": "markdown",
   "id": "derived-measure",
   "metadata": {},
   "source": [
    "# Ans:"
   ]
  },
  {
   "cell_type": "markdown",
   "id": "christian-briefs",
   "metadata": {},
   "source": [
    "The following functions \n",
    "\n",
    "    - int()\n",
    "    \n",
    "    - float()\n",
    "    \n",
    "    - str()  will convert the values to integer, float or string versions of the values passed to them"
   ]
  },
  {
   "cell_type": "code",
   "execution_count": 11,
   "id": "liable-singer",
   "metadata": {},
   "outputs": [
    {
     "name": "stdout",
     "output_type": "stream",
     "text": [
      "X =  100.1\n"
     ]
    }
   ],
   "source": [
    "X = 100.10\n",
    "print(\"X = \",  X)"
   ]
  },
  {
   "cell_type": "code",
   "execution_count": 12,
   "id": "tribal-timeline",
   "metadata": {},
   "outputs": [
    {
     "data": {
      "text/plain": [
       "100"
      ]
     },
     "execution_count": 12,
     "metadata": {},
     "output_type": "execute_result"
    }
   ],
   "source": [
    "int(X)"
   ]
  },
  {
   "cell_type": "code",
   "execution_count": 13,
   "id": "empirical-palmer",
   "metadata": {},
   "outputs": [
    {
     "data": {
      "text/plain": [
       "100.1"
      ]
     },
     "execution_count": 13,
     "metadata": {},
     "output_type": "execute_result"
    }
   ],
   "source": [
    "float(X)"
   ]
  },
  {
   "cell_type": "code",
   "execution_count": 14,
   "id": "noted-october",
   "metadata": {},
   "outputs": [
    {
     "data": {
      "text/plain": [
       "'100.1'"
      ]
     },
     "execution_count": 14,
     "metadata": {},
     "output_type": "execute_result"
    }
   ],
   "source": [
    "str(X)"
   ]
  },
  {
   "cell_type": "markdown",
   "id": "instrumental-galaxy",
   "metadata": {},
   "source": [
    "# Q10 :\n",
    "Why does this expression cause an error? How can you fix it?\n",
    "\n",
    "&#39;I have eaten &#39; + 99 + &#39; burritos.&#39;"
   ]
  },
  {
   "cell_type": "markdown",
   "id": "still-great",
   "metadata": {},
   "source": [
    "# Ans:"
   ]
  },
  {
   "cell_type": "markdown",
   "id": "fresh-baker",
   "metadata": {},
   "source": [
    "Baecause We can not concatenate string with integers\n",
    "\n",
    "We can concatenate two or more strings.\n",
    "\n",
    "So we need to change 99 to string by using str() function."
   ]
  },
  {
   "cell_type": "code",
   "execution_count": 15,
   "id": "impaired-trial",
   "metadata": {},
   "outputs": [
    {
     "data": {
      "text/plain": [
       "'i have eaten 99 burritos.'"
      ]
     },
     "execution_count": 15,
     "metadata": {},
     "output_type": "execute_result"
    }
   ],
   "source": [
    "'i have eaten ' + str(99) + ' burritos.'"
   ]
  },
  {
   "cell_type": "code",
   "execution_count": null,
   "id": "disabled-recognition",
   "metadata": {},
   "outputs": [],
   "source": []
  }
 ],
 "metadata": {
  "kernelspec": {
   "display_name": "Python 3",
   "language": "python",
   "name": "python3"
  },
  "language_info": {
   "codemirror_mode": {
    "name": "ipython",
    "version": 3
   },
   "file_extension": ".py",
   "mimetype": "text/x-python",
   "name": "python",
   "nbconvert_exporter": "python",
   "pygments_lexer": "ipython3",
   "version": "3.8.8"
  }
 },
 "nbformat": 4,
 "nbformat_minor": 5
}
