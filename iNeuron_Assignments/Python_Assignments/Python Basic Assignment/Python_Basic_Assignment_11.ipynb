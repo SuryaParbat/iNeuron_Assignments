{
 "cells": [
  {
   "cell_type": "markdown",
   "id": "broke-substitute",
   "metadata": {},
   "source": [
    "# Python Basic Assignment 11"
   ]
  },
  {
   "cell_type": "markdown",
   "id": "independent-subdivision",
   "metadata": {},
   "source": [
    "# Q1 :\n",
    "#### Create an assert statement that throws an AssertionError if the variable spam is a negative integer."
   ]
  },
  {
   "cell_type": "markdown",
   "id": "approved-nursing",
   "metadata": {},
   "source": [
    "# Ans:"
   ]
  },
  {
   "cell_type": "markdown",
   "id": "derived-extent",
   "metadata": {},
   "source": [
    "> The assert statement is used to continue the execute if the given condition evaluates to True. If the assert condition evaluates to False, then it raises the AssertionError exception with the specified error message."
   ]
  },
  {
   "cell_type": "code",
   "execution_count": 9,
   "id": "american-destruction",
   "metadata": {},
   "outputs": [
    {
     "name": "stdout",
     "output_type": "stream",
     "text": [
      "Enter a positive number :11\n",
      "11 is a positive number\n"
     ]
    }
   ],
   "source": [
    "import pyinputplus as pyip\n",
    "\n",
    "spam = pyip.inputNum(\"Enter a positive number :\")\n",
    "assert spam > 0\n",
    "print(spam,'is a positive number')\n"
   ]
  },
  {
   "cell_type": "markdown",
   "id": "defined-retrieval",
   "metadata": {},
   "source": [
    "# Q2 :\n",
    "#### Write an assert statement that triggers an AssertionError if the variables eggs and bacon contain strings that are the same as each other, even if their cases are different (that is, &#39;hello&#39; and &#39;hello&#39; are considered the same, and &#39;goodbye&#39; and &#39;GOODbye&#39; are also considered the same)."
   ]
  },
  {
   "cell_type": "markdown",
   "id": "criminal-consensus",
   "metadata": {},
   "source": [
    "# Ans:"
   ]
  },
  {
   "cell_type": "code",
   "execution_count": 10,
   "id": "stretch-inspector",
   "metadata": {},
   "outputs": [
    {
     "ename": "AssertionError",
     "evalue": "",
     "output_type": "error",
     "traceback": [
      "\u001b[1;31m---------------------------------------------------------------------------\u001b[0m",
      "\u001b[1;31mAssertionError\u001b[0m                            Traceback (most recent call last)",
      "\u001b[1;32m<ipython-input-10-ff14aa322207>\u001b[0m in \u001b[0;36m<module>\u001b[1;34m\u001b[0m\n\u001b[0;32m      2\u001b[0m \u001b[0mbacon\u001b[0m \u001b[1;33m=\u001b[0m\u001b[1;34m'hello'\u001b[0m\u001b[1;33m\u001b[0m\u001b[1;33m\u001b[0m\u001b[0m\n\u001b[0;32m      3\u001b[0m \u001b[1;33m\u001b[0m\u001b[0m\n\u001b[1;32m----> 4\u001b[1;33m \u001b[1;32massert\u001b[0m \u001b[0meggs\u001b[0m\u001b[1;33m.\u001b[0m\u001b[0mlower\u001b[0m\u001b[1;33m(\u001b[0m\u001b[1;33m)\u001b[0m \u001b[1;33m!=\u001b[0m \u001b[0mbacon\u001b[0m\u001b[1;33m.\u001b[0m\u001b[0mlower\u001b[0m\u001b[1;33m(\u001b[0m\u001b[1;33m)\u001b[0m \u001b[1;32mor\u001b[0m \u001b[0meggs\u001b[0m\u001b[1;33m.\u001b[0m\u001b[0mupper\u001b[0m\u001b[1;33m(\u001b[0m\u001b[1;33m)\u001b[0m \u001b[1;33m!=\u001b[0m \u001b[0mbacon\u001b[0m\u001b[1;33m.\u001b[0m\u001b[0mupper\u001b[0m\u001b[1;33m(\u001b[0m\u001b[1;33m)\u001b[0m\u001b[1;33m\u001b[0m\u001b[1;33m\u001b[0m\u001b[0m\n\u001b[0m\u001b[0;32m      5\u001b[0m \u001b[0mprint\u001b[0m\u001b[1;33m(\u001b[0m\u001b[1;34m'The eggs and bacon variables are not the same!'\u001b[0m\u001b[1;33m)\u001b[0m\u001b[1;33m\u001b[0m\u001b[1;33m\u001b[0m\u001b[0m\n",
      "\u001b[1;31mAssertionError\u001b[0m: "
     ]
    }
   ],
   "source": [
    "eggs='Hello'\n",
    "bacon ='hello'\n",
    "\n",
    "assert eggs.lower() != bacon.lower() or eggs.upper() != bacon.upper()\n",
    "print('The eggs and bacon variables are not the same!')"
   ]
  },
  {
   "cell_type": "markdown",
   "id": "clinical-business",
   "metadata": {},
   "source": [
    "# Q3 :\n",
    "#### Create an assert statement that throws an AssertionError every time."
   ]
  },
  {
   "cell_type": "markdown",
   "id": "anticipated-filling",
   "metadata": {},
   "source": [
    "# Ans:"
   ]
  },
  {
   "cell_type": "markdown",
   "id": "rising-rider",
   "metadata": {},
   "source": [
    "> assert False, 'This assertion always triggers.'"
   ]
  },
  {
   "cell_type": "markdown",
   "id": "minimal-ensemble",
   "metadata": {},
   "source": [
    "# Q4 :\n",
    "#### What are the two lines that must be present in your software in order to call logging.debug()?"
   ]
  },
  {
   "cell_type": "markdown",
   "id": "permanent-annual",
   "metadata": {},
   "source": [
    "# Ans:"
   ]
  },
  {
   "cell_type": "markdown",
   "id": "efficient-freeze",
   "metadata": {},
   "source": [
    "> To be able to call logging.debug(), you must have these two lines at the start of your program:\n",
    "\n",
    "\n",
    "> import logging\n",
    "\n",
    "> logging.basicConfig(level=logging.DEBUG, format=' %(asctime)s -\n",
    "%(levelname)s -  %(message)s')"
   ]
  },
  {
   "cell_type": "markdown",
   "id": "growing-psychology",
   "metadata": {},
   "source": [
    "# Q5 :\n",
    "#### What are the two lines that your program must have in order to have logging.debug() send a logging message to a file named programLog.txt?"
   ]
  },
  {
   "cell_type": "markdown",
   "id": "sorted-cliff",
   "metadata": {},
   "source": [
    "# Ans:"
   ]
  },
  {
   "cell_type": "markdown",
   "id": "korean-oasis",
   "metadata": {},
   "source": [
    "> To be able to send logging messages to a file named programLog.txt with logging.debug(), you must have these two lines at the start of your program:\n",
    "\n",
    "\n",
    "> import logging\n",
    "\n",
    "> logging.basicConfig(filename='programLog.txt', level=logging.DEBUG,\n",
    "format=' %(asctime)s -  %(levelname)s -  %(message)s')"
   ]
  },
  {
   "cell_type": "markdown",
   "id": "caring-headline",
   "metadata": {},
   "source": [
    "# Q6 :\n",
    "#### What are the five levels of logging?"
   ]
  },
  {
   "cell_type": "markdown",
   "id": "linear-township",
   "metadata": {},
   "source": [
    "# Ans:"
   ]
  },
  {
   "cell_type": "markdown",
   "id": "clear-teacher",
   "metadata": {},
   "source": [
    "> Five level of loggins are DEBUG, INFO, WARNING, ERROR, and CRITICAL\n",
    "\n",
    "> logging.debug() - variable's state and small details\n",
    "\n",
    "> logging.info() - general events, confirm a program is working\n",
    "\n",
    "> logging.warning() - potiental problem to work on in the future\n",
    "\n",
    "> logging.error() - record an error that caused program to fail to do something\n",
    "\n",
    "> logging.critical() - fatal error that has caused"
   ]
  },
  {
   "cell_type": "markdown",
   "id": "compact-newspaper",
   "metadata": {},
   "source": [
    "# Q7 :\n",
    "#### What line of code would you add to your software to disable all logging messages?"
   ]
  },
  {
   "cell_type": "markdown",
   "id": "present-arabic",
   "metadata": {},
   "source": [
    "# Ans:"
   ]
  },
  {
   "cell_type": "markdown",
   "id": "established-curve",
   "metadata": {},
   "source": [
    "> logging.disable(logging.CRITICAL)\n",
    "\n",
    "> Disables all logging calls of severity 'level' and below. set level = logging.CRITICAL since\n",
    "CRITICAL being the highest level , every other level loggings will be disabled."
   ]
  },
  {
   "cell_type": "markdown",
   "id": "employed-canada",
   "metadata": {},
   "source": [
    "# Q8 :\n",
    "#### Why is using logging messages better than using print() to display the same message?"
   ]
  },
  {
   "cell_type": "markdown",
   "id": "genuine-intervention",
   "metadata": {},
   "source": [
    "# Ans:"
   ]
  },
  {
   "cell_type": "markdown",
   "id": "comparable-dating",
   "metadata": {},
   "source": [
    "> You can disable logging messages without removing the logging function calls.\n",
    "\n",
    "> You can selectively disable lower-level logging messages.\n",
    "\n",
    "> You can create logging messages. Logging messages provides a timestamp."
   ]
  },
  {
   "cell_type": "markdown",
   "id": "developed-chemistry",
   "metadata": {},
   "source": [
    "# Q9 :\n",
    "#### What are the differences between the Step Over, Step In, and Step Out buttons in the debugger?"
   ]
  },
  {
   "cell_type": "markdown",
   "id": "cellular-survey",
   "metadata": {},
   "source": [
    "# Ans:"
   ]
  },
  {
   "cell_type": "markdown",
   "id": "legendary-offering",
   "metadata": {},
   "source": [
    "> The Step button will move the debugger into a function call.\n",
    "\n",
    "> The Over button will quickly execute the function call without stepping into it.\n",
    "\n",
    "> The Out button will quickly execute the rest of the code until it steps out of the function it currently is in.\n",
    "\n"
   ]
  },
  {
   "cell_type": "markdown",
   "id": "internal-process",
   "metadata": {},
   "source": [
    "# Q10 :\n",
    "#### After you click Continue, when will the debugger stop ?"
   ]
  },
  {
   "cell_type": "markdown",
   "id": "isolated-possibility",
   "metadata": {},
   "source": [
    "# Ans:"
   ]
  },
  {
   "cell_type": "markdown",
   "id": "respected-audience",
   "metadata": {},
   "source": [
    "> It will stops at next breakpoint, if there are no further breakpoints program will be fully executed."
   ]
  },
  {
   "cell_type": "markdown",
   "id": "delayed-malawi",
   "metadata": {},
   "source": [
    "# Q11 :\n",
    "#### What is the concept of a breakpoint?"
   ]
  },
  {
   "cell_type": "markdown",
   "id": "annual-channel",
   "metadata": {},
   "source": [
    "# Ans:"
   ]
  },
  {
   "cell_type": "markdown",
   "id": "virtual-bridal",
   "metadata": {},
   "source": [
    "> A breakpoint is a setting on a line of code that causes the debugger to pause when the program execution reaches the line.\n",
    "\n",
    "> To set a breakpoint in IDLE, right-click the line and select Set Breakpoint from the context menu."
   ]
  }
 ],
 "metadata": {
  "kernelspec": {
   "display_name": "Python 3",
   "language": "python",
   "name": "python3"
  },
  "language_info": {
   "codemirror_mode": {
    "name": "ipython",
    "version": 3
   },
   "file_extension": ".py",
   "mimetype": "text/x-python",
   "name": "python",
   "nbconvert_exporter": "python",
   "pygments_lexer": "ipython3",
   "version": "3.8.8"
  }
 },
 "nbformat": 4,
 "nbformat_minor": 5
}
