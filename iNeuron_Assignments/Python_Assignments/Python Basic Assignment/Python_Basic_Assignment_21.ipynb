{
 "cells": [
  {
   "cell_type": "markdown",
   "id": "limited-creature",
   "metadata": {},
   "source": [
    "# Python Basic Assignment 21"
   ]
  },
  {
   "cell_type": "markdown",
   "id": "tight-dayton",
   "metadata": {},
   "source": [
    "# Q1 :\n",
    "### Add the current date to the text file today.txt as a string."
   ]
  },
  {
   "cell_type": "code",
   "execution_count": 1,
   "id": "exciting-jason",
   "metadata": {},
   "outputs": [
    {
     "data": {
      "text/plain": [
       "'2021-07-30'"
      ]
     },
     "execution_count": 1,
     "metadata": {},
     "output_type": "execute_result"
    }
   ],
   "source": [
    "import datetime\n",
    "from datetime import date\n",
    "now = date.today()\n",
    "cur_date = now.isoformat()\n",
    "cur_date"
   ]
  },
  {
   "cell_type": "code",
   "execution_count": 2,
   "id": "neutral-ideal",
   "metadata": {},
   "outputs": [],
   "source": [
    "with open('today.txt','w') as file:\n",
    "    file.write(cur_date)"
   ]
  },
  {
   "cell_type": "markdown",
   "id": "random-cylinder",
   "metadata": {},
   "source": [
    "# Q2 :\n",
    "### Read the text file today.txt into the string today_string"
   ]
  },
  {
   "cell_type": "code",
   "execution_count": 3,
   "id": "mobile-florida",
   "metadata": {},
   "outputs": [
    {
     "data": {
      "text/plain": [
       "'2021-07-30'"
      ]
     },
     "execution_count": 3,
     "metadata": {},
     "output_type": "execute_result"
    }
   ],
   "source": [
    "with open('today.txt','r') as file:\n",
    "    today_string = file.read()\n",
    "today_string"
   ]
  },
  {
   "cell_type": "markdown",
   "id": "about-soundtrack",
   "metadata": {},
   "source": [
    "# Q3 :\n",
    "### Parse the date from today_string."
   ]
  },
  {
   "cell_type": "code",
   "execution_count": 4,
   "id": "fleet-desktop",
   "metadata": {},
   "outputs": [
    {
     "data": {
      "text/plain": [
       "datetime.datetime(2021, 7, 30, 0, 0)"
      ]
     },
     "execution_count": 4,
     "metadata": {},
     "output_type": "execute_result"
    }
   ],
   "source": [
    "from datetime import datetime\n",
    "format = '%Y-%m-%d'\n",
    "datetime.strptime(today_string,format)"
   ]
  },
  {
   "cell_type": "markdown",
   "id": "religious-tragedy",
   "metadata": {},
   "source": [
    "# Q4 :\n",
    "### List the files in your current directory"
   ]
  },
  {
   "cell_type": "code",
   "execution_count": 5,
   "id": "threatened-cream",
   "metadata": {},
   "outputs": [
    {
     "data": {
      "text/plain": [
       "['.ipynb_checkpoints',\n",
       " 'books.csv',\n",
       " 'books.db',\n",
       " 'drawing.png',\n",
       " 'Eric Matthes - Python Crash Course_ A Hands-On, Project-Based Introduction to Programming-No Starch Press (2019).pdf',\n",
       " 'example.csv',\n",
       " 'example1.csv',\n",
       " 'MYSQL application.docx',\n",
       " 'MYSQL application.pdf',\n",
       " 'mysql1.jpg',\n",
       " 'mysql11.jpg',\n",
       " 'output.csv',\n",
       " 'Python_Basic_Assignment_1.ipynb',\n",
       " 'Python_Basic_Assignment_10.ipynb',\n",
       " 'Python_Basic_Assignment_11.ipynb',\n",
       " 'Python_Basic_Assignment_12.ipynb',\n",
       " 'Python_Basic_Assignment_13.ipynb',\n",
       " 'Python_Basic_Assignment_14.ipynb',\n",
       " 'Python_Basic_Assignment_15.ipynb',\n",
       " 'Python_Basic_Assignment_16.ipynb',\n",
       " 'Python_Basic_Assignment_17.ipynb',\n",
       " 'Python_Basic_Assignment_18.ipynb',\n",
       " 'Python_Basic_Assignment_19.ipynb',\n",
       " 'Python_Basic_Assignment_2.ipynb',\n",
       " 'Python_Basic_Assignment_20.ipynb',\n",
       " 'Python_Basic_Assignment_21.ipynb',\n",
       " 'Python_Basic_Assignment_3.ipynb',\n",
       " 'Python_Basic_Assignment_4.ipynb',\n",
       " 'Python_Basic_Assignment_5.ipynb',\n",
       " 'Python_Basic_Assignment_6.ipynb',\n",
       " 'Python_Basic_Assignment_7.ipynb',\n",
       " 'Python_Basic_Assignment_8.ipynb',\n",
       " 'Python_Basic_Assignment_9.ipynb',\n",
       " 'sample-zip-file.zip',\n",
       " 'sample.txt',\n",
       " 'test.txt',\n",
       " 'today.txt',\n",
       " 'updatedimg.png',\n",
       " 'updatedmysql.jpg',\n",
       " 'zoo.py',\n",
       " '__pycache__']"
      ]
     },
     "execution_count": 5,
     "metadata": {},
     "output_type": "execute_result"
    }
   ],
   "source": [
    "import os\n",
    "os.listdir('.')"
   ]
  },
  {
   "cell_type": "markdown",
   "id": "fancy-lawyer",
   "metadata": {},
   "source": [
    "# Q5 :\n",
    "### Create a list of all of the files in your parent directory."
   ]
  },
  {
   "cell_type": "code",
   "execution_count": 6,
   "id": "hairy-solution",
   "metadata": {},
   "outputs": [
    {
     "data": {
      "text/plain": [
       "['.ipynb_checkpoints',\n",
       " 'Python Advance Programming Assignment',\n",
       " 'Python Basic Assignment',\n",
       " 'Python_Programming_Basic_Assignment']"
      ]
     },
     "execution_count": 6,
     "metadata": {},
     "output_type": "execute_result"
    }
   ],
   "source": [
    "os.listdir('..')"
   ]
  },
  {
   "cell_type": "markdown",
   "id": "interested-entertainment",
   "metadata": {},
   "source": [
    "# Q6 :\n",
    "### Use multiprocessing to create three separate processes. Make each one wait a random number of seconds between one and five, print the current time, and then exit."
   ]
  },
  {
   "cell_type": "code",
   "execution_count": 7,
   "id": "moderate-edwards",
   "metadata": {},
   "outputs": [],
   "source": [
    "import multiprocessing\n",
    "\n",
    "def printsec(seconds):\n",
    "    from datetime import datetime\n",
    "    from time import sleep\n",
    "    sleep(seconds)\n",
    "    print('wait', seconds, 'seconds, time is', datetime.utcnow())\n",
    "    \n",
    "if __name__ == '__main__':\n",
    "    import random    \n",
    "    for n in range(3):\n",
    "        seconds = random.random()\n",
    "        proc = multiprocessing.Process(target=printsec, args=(seconds,))\n",
    "        proc.start()"
   ]
  },
  {
   "cell_type": "code",
   "execution_count": 34,
   "id": "fundamental-restoration",
   "metadata": {},
   "outputs": [
    {
     "name": "stdout",
     "output_type": "stream",
     "text": [
      "wait 0.2844608460803326 seconds, time is 2021-07-30 16:28:46.232142\n",
      "wait 0.4587304809046988 seconds, time is 2021-07-30 16:28:46.326167\n",
      "wait 0.7859179164663043 seconds, time is 2021-07-30 16:28:46.916315\n"
     ]
    }
   ],
   "source": [
    "!python multipro.py"
   ]
  },
  {
   "cell_type": "markdown",
   "id": "constant-document",
   "metadata": {},
   "source": [
    "# Q7 :\n",
    "### Create a date object of your day of birth."
   ]
  },
  {
   "cell_type": "code",
   "execution_count": 35,
   "id": "processed-operator",
   "metadata": {},
   "outputs": [
    {
     "data": {
      "text/plain": [
       "datetime.date(1996, 1, 7)"
      ]
     },
     "execution_count": 35,
     "metadata": {},
     "output_type": "execute_result"
    }
   ],
   "source": [
    "my_date = date(1996,1,7)\n",
    "my_date"
   ]
  },
  {
   "cell_type": "markdown",
   "id": "missing-august",
   "metadata": {},
   "source": [
    "# Q8 :\n",
    "### What day of the week was your day of birth?"
   ]
  },
  {
   "cell_type": "code",
   "execution_count": 36,
   "id": "excessive-tennis",
   "metadata": {},
   "outputs": [
    {
     "data": {
      "text/plain": [
       "6"
      ]
     },
     "execution_count": 36,
     "metadata": {},
     "output_type": "execute_result"
    }
   ],
   "source": [
    "my_date.weekday()"
   ]
  },
  {
   "cell_type": "markdown",
   "id": "documentary-pontiac",
   "metadata": {},
   "source": [
    "# Q9 :\n",
    "### When will you be (or when were you) 10,000 days old?"
   ]
  },
  {
   "cell_type": "code",
   "execution_count": 37,
   "id": "frequent-collins",
   "metadata": {},
   "outputs": [
    {
     "data": {
      "text/plain": [
       "datetime.date(2023, 5, 25)"
      ]
     },
     "execution_count": 37,
     "metadata": {},
     "output_type": "execute_result"
    }
   ],
   "source": [
    "from datetime import timedelta\n",
    "day10000 = my_date + timedelta(days=10000)\n",
    "day10000"
   ]
  },
  {
   "cell_type": "code",
   "execution_count": null,
   "id": "decreased-baseline",
   "metadata": {},
   "outputs": [],
   "source": []
  }
 ],
 "metadata": {
  "kernelspec": {
   "display_name": "Python 3",
   "language": "python",
   "name": "python3"
  },
  "language_info": {
   "codemirror_mode": {
    "name": "ipython",
    "version": 3
   },
   "file_extension": ".py",
   "mimetype": "text/x-python",
   "name": "python",
   "nbconvert_exporter": "python",
   "pygments_lexer": "ipython3",
   "version": "3.8.8"
  }
 },
 "nbformat": 4,
 "nbformat_minor": 5
}
