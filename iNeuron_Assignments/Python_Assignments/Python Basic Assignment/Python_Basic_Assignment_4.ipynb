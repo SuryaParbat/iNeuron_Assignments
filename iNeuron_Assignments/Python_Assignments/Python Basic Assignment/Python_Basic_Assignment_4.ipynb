{
 "cells": [
  {
   "cell_type": "markdown",
   "id": "numerous-tiger",
   "metadata": {},
   "source": [
    "# Python Basic Assignment 4"
   ]
  },
  {
   "cell_type": "markdown",
   "id": "large-console",
   "metadata": {},
   "source": [
    "# Q1 :\n",
    "#### What exactly is []?"
   ]
  },
  {
   "cell_type": "markdown",
   "id": "growing-coffee",
   "metadata": {},
   "source": [
    "# Ans:"
   ]
  },
  {
   "cell_type": "markdown",
   "id": "conventional-birthday",
   "metadata": {},
   "source": [
    "> The empty list value, which is a list value that contains no items. This is similar to how '' is the empty string value."
   ]
  },
  {
   "cell_type": "markdown",
   "id": "gorgeous-nothing",
   "metadata": {},
   "source": [
    "# Q2 :\n",
    "#### In a list of values stored in a variable called spam, how would you assign the value &#39;hello&#39; as the third value? (Assume [2, 4, 6, 8, 10] are in spam.) Let&#39;s pretend the spam includes the list [&#39;a&#39;, &#39;b&#39;, &#39;c&#39;, &#39;d&#39;] for the next three queries."
   ]
  },
  {
   "cell_type": "markdown",
   "id": "fourth-morrison",
   "metadata": {},
   "source": [
    "# Ans:"
   ]
  },
  {
   "cell_type": "markdown",
   "id": "massive-layout",
   "metadata": {},
   "source": [
    "> spam[2] = 'hello' (Notice that the third value in a list is at index 2 because the first index is 0.)"
   ]
  },
  {
   "cell_type": "markdown",
   "id": "ambient-raising",
   "metadata": {},
   "source": [
    "# Q3 :\n",
    "#### What is the value of spam[int(int(&#39;3&#39; * 2) / 11)]?"
   ]
  },
  {
   "cell_type": "markdown",
   "id": "extraordinary-station",
   "metadata": {},
   "source": [
    "# Ans:\n",
    "\n",
    "> **'d'**"
   ]
  },
  {
   "cell_type": "code",
   "execution_count": 1,
   "id": "terminal-houston",
   "metadata": {},
   "outputs": [
    {
     "data": {
      "text/plain": [
       "'d'"
      ]
     },
     "execution_count": 1,
     "metadata": {},
     "output_type": "execute_result"
    }
   ],
   "source": [
    "spam = ['a', 'b','c','d']\n",
    "spam[int(int('3' * 2) / 11)] # spam[int(33/11)] = spam[3]"
   ]
  },
  {
   "cell_type": "markdown",
   "id": "hawaiian-craft",
   "metadata": {},
   "source": [
    "# Q4 :\n",
    "#### What is the value of spam[-1]?"
   ]
  },
  {
   "cell_type": "markdown",
   "id": "heavy-environment",
   "metadata": {},
   "source": [
    "# Ans:"
   ]
  },
  {
   "cell_type": "markdown",
   "id": "cooked-latest",
   "metadata": {},
   "source": [
    "> 'd' (Negative indexes count from the end.)"
   ]
  },
  {
   "cell_type": "markdown",
   "id": "geological-conservation",
   "metadata": {},
   "source": [
    "# Q5 :\n",
    "#### What is the value of spam[:2]?"
   ]
  },
  {
   "cell_type": "markdown",
   "id": "indonesian-agreement",
   "metadata": {},
   "source": [
    "# Ans:"
   ]
  },
  {
   "cell_type": "markdown",
   "id": "supported-speed",
   "metadata": {},
   "source": [
    "> **['a', 'b']**\n",
    "\n"
   ]
  },
  {
   "cell_type": "markdown",
   "id": "english-netherlands",
   "metadata": {},
   "source": [
    "# Q6 :\n",
    "#### Let&#39;s pretend bacon has the list [3.14, &#39;cat,&#39; 11, &#39;cat,&#39; True] for the next three questions.\n",
    "#### What is the value of bacon.index(&#39;cat&#39;)?"
   ]
  },
  {
   "cell_type": "markdown",
   "id": "continent-brave",
   "metadata": {},
   "source": [
    "# Ans:"
   ]
  },
  {
   "cell_type": "markdown",
   "id": "informative-scanner",
   "metadata": {},
   "source": [
    "> **1**"
   ]
  },
  {
   "cell_type": "markdown",
   "id": "intellectual-relative",
   "metadata": {},
   "source": [
    "# Q7 :\n",
    "#### How does bacon.append(99) change the look of the list value in bacon?"
   ]
  },
  {
   "cell_type": "markdown",
   "id": "ethical-corpus",
   "metadata": {},
   "source": [
    "# Ans:"
   ]
  },
  {
   "cell_type": "markdown",
   "id": "familiar-timothy",
   "metadata": {},
   "source": [
    "> [3.14, 'cat', 11, 'cat', True, 99]"
   ]
  },
  {
   "cell_type": "markdown",
   "id": "retired-making",
   "metadata": {},
   "source": [
    "# Q8 :\n",
    "#### How does bacon.remove(&#39;cat&#39;) change the look of the list in bacon?"
   ]
  },
  {
   "cell_type": "markdown",
   "id": "turkish-radius",
   "metadata": {},
   "source": [
    "# Ans:"
   ]
  },
  {
   "cell_type": "markdown",
   "id": "inappropriate-brooks",
   "metadata": {},
   "source": [
    "> [3.14, 11, 'cat', True]"
   ]
  },
  {
   "cell_type": "markdown",
   "id": "round-journey",
   "metadata": {},
   "source": [
    "# Q9 :\n",
    "#### What are the list concatenation and list replication operators?"
   ]
  },
  {
   "cell_type": "markdown",
   "id": "multiple-union",
   "metadata": {},
   "source": [
    "# Ans:"
   ]
  },
  {
   "cell_type": "markdown",
   "id": "sunrise-stage",
   "metadata": {},
   "source": [
    "> The operator for list concatenation is +, while the operator for replication is *. (This is the same as for strings.)"
   ]
  },
  {
   "cell_type": "markdown",
   "id": "perfect-parking",
   "metadata": {},
   "source": [
    "# Q10 :\n",
    "#### What is difference between the list methods append() and insert()?"
   ]
  },
  {
   "cell_type": "markdown",
   "id": "found-sydney",
   "metadata": {},
   "source": [
    "# Ans:"
   ]
  },
  {
   "cell_type": "markdown",
   "id": "refined-fourth",
   "metadata": {},
   "source": [
    "> While append() will add values only to the end of a list, insert() can add them anywhere in the list."
   ]
  },
  {
   "cell_type": "markdown",
   "id": "above-sunrise",
   "metadata": {},
   "source": [
    "# Q11 :\n",
    "#### What are the two methods for removing items from a list?"
   ]
  },
  {
   "cell_type": "markdown",
   "id": "severe-making",
   "metadata": {},
   "source": [
    "# Ans:"
   ]
  },
  {
   "cell_type": "markdown",
   "id": "silver-breathing",
   "metadata": {},
   "source": [
    "> The del statement and the remove() list method are two ways to remove values from a list."
   ]
  },
  {
   "cell_type": "markdown",
   "id": "lucky-smile",
   "metadata": {},
   "source": [
    "# Q12 :\n",
    "#### Describe how list values and string values are identical."
   ]
  },
  {
   "cell_type": "markdown",
   "id": "direct-lightweight",
   "metadata": {},
   "source": [
    "# Ans:"
   ]
  },
  {
   "cell_type": "markdown",
   "id": "subsequent-floating",
   "metadata": {},
   "source": [
    "> Both lists and strings can be passed to len(), have indexes and slices, be used in for loops, be concatenated or replicated, and be used with the in and not in operators.\n",
    "\n"
   ]
  },
  {
   "cell_type": "markdown",
   "id": "disciplinary-structure",
   "metadata": {},
   "source": [
    "# Q13 :\n",
    "#### What&#39;s the difference between tuples and lists?"
   ]
  },
  {
   "cell_type": "markdown",
   "id": "acoustic-velvet",
   "metadata": {},
   "source": [
    "# Ans:"
   ]
  },
  {
   "cell_type": "markdown",
   "id": "genuine-shell",
   "metadata": {},
   "source": [
    "> Lists are mutable; they can have values added, removed, or changed.\n",
    "\n",
    ">Tuples are immutable; they cannot be changed at all. \n",
    "\n",
    ">Also, tuples are written using parentheses, ( and ), while lists use the square brackets, [ and ]."
   ]
  },
  {
   "cell_type": "markdown",
   "id": "planned-sucking",
   "metadata": {},
   "source": [
    "# Q14 :\n",
    "#### How do you type a tuple value that only contains the integer 42?"
   ]
  },
  {
   "cell_type": "markdown",
   "id": "requested-cardiff",
   "metadata": {},
   "source": [
    "# Ans:"
   ]
  },
  {
   "cell_type": "markdown",
   "id": "abroad-scottish",
   "metadata": {},
   "source": [
    "> (42,) (The trailing comma is mandatory.)\n",
    "\n"
   ]
  },
  {
   "cell_type": "markdown",
   "id": "earned-casting",
   "metadata": {},
   "source": [
    "# Q15 :\n",
    "#### How do you get a list value&#39;s tuple form? How do you get a tuple value&#39;s list form?"
   ]
  },
  {
   "cell_type": "markdown",
   "id": "architectural-bikini",
   "metadata": {},
   "source": [
    "# Ans:"
   ]
  },
  {
   "cell_type": "markdown",
   "id": "developmental-artwork",
   "metadata": {},
   "source": [
    "> By using tuple() and list() functions, respectively"
   ]
  },
  {
   "cell_type": "code",
   "execution_count": 4,
   "id": "virtual-mirror",
   "metadata": {},
   "outputs": [
    {
     "data": {
      "text/plain": [
       "(2, 3)"
      ]
     },
     "execution_count": 4,
     "metadata": {},
     "output_type": "execute_result"
    }
   ],
   "source": [
    "lst = [2,3]\n",
    "lst = tuple(lst)\n",
    "lst"
   ]
  },
  {
   "cell_type": "code",
   "execution_count": 5,
   "id": "complicated-range",
   "metadata": {},
   "outputs": [
    {
     "data": {
      "text/plain": [
       "[3, 4]"
      ]
     },
     "execution_count": 5,
     "metadata": {},
     "output_type": "execute_result"
    }
   ],
   "source": [
    "t1 = (3,4)\n",
    "t = list(t1)\n",
    "t"
   ]
  },
  {
   "cell_type": "markdown",
   "id": "tropical-referral",
   "metadata": {},
   "source": [
    "# Q16 :\n",
    "#### Variables that &quot;contain&quot; list values are not necessarily lists themselves. Instead, what do they contain?"
   ]
  },
  {
   "cell_type": "markdown",
   "id": "fuzzy-bailey",
   "metadata": {},
   "source": [
    "# Ans:"
   ]
  },
  {
   "cell_type": "markdown",
   "id": "careful-plate",
   "metadata": {},
   "source": [
    "> They contain references to list values."
   ]
  },
  {
   "cell_type": "markdown",
   "id": "desperate-cooler",
   "metadata": {},
   "source": [
    "# Q17 :\n",
    "#### How do you distinguish between copy.copy() and copy.deepcopy()?"
   ]
  },
  {
   "cell_type": "markdown",
   "id": "aquatic-hometown",
   "metadata": {},
   "source": [
    "# Ans:"
   ]
  },
  {
   "cell_type": "markdown",
   "id": "congressional-furniture",
   "metadata": {},
   "source": [
    "> The copy.copy() function will do a shallow copy of a list.\n",
    "\n",
    ">while the copy.deepcopy() function will do a deep copy of a list. \n",
    "\n",
    ">That is, only copy.deepcopy() will duplicate any lists inside the list."
   ]
  }
 ],
 "metadata": {
  "kernelspec": {
   "display_name": "Python 3",
   "language": "python",
   "name": "python3"
  },
  "language_info": {
   "codemirror_mode": {
    "name": "ipython",
    "version": 3
   },
   "file_extension": ".py",
   "mimetype": "text/x-python",
   "name": "python",
   "nbconvert_exporter": "python",
   "pygments_lexer": "ipython3",
   "version": "3.8.8"
  }
 },
 "nbformat": 4,
 "nbformat_minor": 5
}
