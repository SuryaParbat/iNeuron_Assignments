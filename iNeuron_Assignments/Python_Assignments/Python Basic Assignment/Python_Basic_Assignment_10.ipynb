{
 "cells": [
  {
   "cell_type": "markdown",
   "id": "after-october",
   "metadata": {},
   "source": [
    "# Python Basic Assignment 10"
   ]
  },
  {
   "cell_type": "markdown",
   "id": "charitable-representation",
   "metadata": {},
   "source": [
    "# Q1 :\n",
    "#### How do you distinguish between shutil.copy() and shutil.copytree()?"
   ]
  },
  {
   "cell_type": "markdown",
   "id": "express-astronomy",
   "metadata": {},
   "source": [
    "# Ans:"
   ]
  },
  {
   "cell_type": "markdown",
   "id": "specialized-sunrise",
   "metadata": {},
   "source": [
    "> The shutil.copy() function will copy a single file.\n",
    "\n",
    "> While shutil.copytree() will copy an entire folder, along with all its contents."
   ]
  },
  {
   "cell_type": "markdown",
   "id": "earlier-kingdom",
   "metadata": {},
   "source": [
    "# Q2 :\n",
    "#### What function is used to rename files??"
   ]
  },
  {
   "cell_type": "markdown",
   "id": "sticky-istanbul",
   "metadata": {},
   "source": [
    "# Ans:"
   ]
  },
  {
   "cell_type": "markdown",
   "id": "choice-senior",
   "metadata": {},
   "source": [
    "> The shutil.move() function is used for renaming files, as well as moving them.\n",
    "\n",
    "**or**\n",
    "\n",
    "import os\n",
    "\n",
    "os.rename(\"text.txt\",\"testnew.txt\")"
   ]
  },
  {
   "cell_type": "markdown",
   "id": "unusual-survival",
   "metadata": {},
   "source": [
    "# Q3 :\n",
    "#### What is the difference between the delete functions in the send2trash and shutil modules?"
   ]
  },
  {
   "cell_type": "markdown",
   "id": "diagnostic-causing",
   "metadata": {},
   "source": [
    "# Ans:"
   ]
  },
  {
   "cell_type": "markdown",
   "id": "secondary-press",
   "metadata": {},
   "source": [
    "> The send2trash functions will move a file or folder to the recycle bin, while shutil functions will permanently delete files and folders."
   ]
  },
  {
   "cell_type": "markdown",
   "id": "preceding-oklahoma",
   "metadata": {},
   "source": [
    "    import send2trash\n",
    "    send2trash.send2trash() : Using send2trash, we can send files to the Trash or Recycle Bin instead of permanently \n",
    "    deleting them.\n",
    "    If the directory contains files or other folders, those are also deleted. A TrashPermissionError exception is raised, \n",
    "    in case a file could not be deleted due to permission error or any other unexpected reason."
   ]
  },
  {
   "cell_type": "markdown",
   "id": "dominican-poster",
   "metadata": {},
   "source": [
    "    import shutil\n",
    "    shutil.retree():\n",
    "    The shutil module’s rmtree() function can be used to delete files or folders. But, this function delete the files\n",
    "    permanently. \n",
    "    The operations cannot be undone if there were any accidental deletions performed "
   ]
  },
  {
   "cell_type": "markdown",
   "id": "electrical-outdoors",
   "metadata": {},
   "source": [
    "# Q4 :\n",
    "#### ZipFile objects have a close() method just like File objects’ close() method. What ZipFile method is equivalent to File objects’ open() method?"
   ]
  },
  {
   "cell_type": "markdown",
   "id": "polyphonic-taste",
   "metadata": {},
   "source": [
    "# Ans:"
   ]
  },
  {
   "cell_type": "markdown",
   "id": "organizational-greek",
   "metadata": {},
   "source": [
    "> The zipfile.ZipFile() function is equivalent to the open() function; the first argument is the filename, and the second argument is the mode to open the ZIP file in (read, write, or append)."
   ]
  },
  {
   "cell_type": "code",
   "execution_count": 13,
   "id": "exotic-insertion",
   "metadata": {},
   "outputs": [
    {
     "name": "stdout",
     "output_type": "stream",
     "text": [
      "File Name                                             Modified             Size\n",
      "sample.txt                                     2020-05-05 18:27:42          282\n",
      "Extracting all the files now...\n",
      "Done!\n"
     ]
    }
   ],
   "source": [
    "# importing required modules\n",
    "from zipfile import ZipFile\n",
    "  \n",
    "# specifying the zip file name\n",
    "file_name = \"sample-zip-file.zip\"\n",
    "  \n",
    "# opening the zip file in READ mode\n",
    "with ZipFile(file_name, 'r') as zip:\n",
    "    # printing all the contents of the zip file\n",
    "    zip.printdir()\n",
    "  \n",
    "    # extracting all the files\n",
    "    print('Extracting all the files now...')\n",
    "    zip.extractall()\n",
    "    print('Done!')"
   ]
  },
  {
   "cell_type": "markdown",
   "id": "unusual-marketplace",
   "metadata": {},
   "source": [
    "# Q5 :\n",
    "#### Create a programme that searches a folder tree for files with a certain file extension (such as .pdf or .jpg). Copy these files from whatever location they are in to a new folder."
   ]
  },
  {
   "cell_type": "markdown",
   "id": "trained-distributor",
   "metadata": {},
   "source": [
    "# Ans:"
   ]
  },
  {
   "cell_type": "code",
   "execution_count": 16,
   "id": "optimum-shepherd",
   "metadata": {},
   "outputs": [
    {
     "name": "stdout",
     "output_type": "stream",
     "text": [
      "Looking in C:\\Users\\surya\\Desktop\\iNeuron_Assignments\\Python_Assignments\\Python Basic Assignment for files with extensions of .jpg, .pdf, .txt\n",
      "Coping C:\\Users\\surya\\Desktop\\iNeuron_Assignments\\Python_Assignments\\Python Basic Assignment\\MYSQL application.pdf to C:\\Users\\surya\\Desktop\\dst_folder\n",
      "Coping C:\\Users\\surya\\Desktop\\iNeuron_Assignments\\Python_Assignments\\Python Basic Assignment\\mysql1.jpg to C:\\Users\\surya\\Desktop\\dst_folder\n",
      "Coping C:\\Users\\surya\\Desktop\\iNeuron_Assignments\\Python_Assignments\\Python Basic Assignment\\sample.txt to C:\\Users\\surya\\Desktop\\dst_folder\n"
     ]
    }
   ],
   "source": [
    "# Write a program that walks through a folder tree \n",
    "# and searches for files with a certain file extension (such as .pdf or .jpg).\n",
    "# Copy these files from whatever location they are in to a new folder.\n",
    "\n",
    "import os, shutil\n",
    "\n",
    "def selectiveCopy(folder, extensions, destFolder):\n",
    "    folder = os.path.abspath(folder)\n",
    "    destFolder = os.path.abspath(destFolder)\n",
    "    print('Looking in', folder, 'for files with extensions of', ', '.join(extensions))\n",
    "    for foldername, subfolders, filenames in os.walk(folder):\n",
    "        for filename in filenames:\n",
    "            name, extension = os.path.splitext(filename)\n",
    "            if extension in extensions:\n",
    "                fileAbsPath = foldername + os.path.sep + filename\n",
    "                print('Coping', fileAbsPath, 'to', destFolder)\n",
    "                shutil.copy(fileAbsPath, destFolder)\n",
    "\n",
    "extensions = ['.jpg', '.pdf', '.txt']\n",
    "folder = 'C:\\\\Users\\\\surya\\\\Desktop\\\\iNeuron_Assignments\\\\Python_Assignments\\\\Python Basic Assignment'\n",
    "destFolder = 'C:\\\\Users\\\\surya\\\\Desktop\\\\dst_folder'\n",
    "selectiveCopy(folder, extensions, destFolder)"
   ]
  }
 ],
 "metadata": {
  "kernelspec": {
   "display_name": "Python 3",
   "language": "python",
   "name": "python3"
  },
  "language_info": {
   "codemirror_mode": {
    "name": "ipython",
    "version": 3
   },
   "file_extension": ".py",
   "mimetype": "text/x-python",
   "name": "python",
   "nbconvert_exporter": "python",
   "pygments_lexer": "ipython3",
   "version": "3.8.8"
  }
 },
 "nbformat": 4,
 "nbformat_minor": 5
}
