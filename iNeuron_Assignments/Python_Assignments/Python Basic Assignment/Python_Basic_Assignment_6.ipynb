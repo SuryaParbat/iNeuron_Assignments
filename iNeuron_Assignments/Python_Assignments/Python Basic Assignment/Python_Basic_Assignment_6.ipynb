{
 "cells": [
  {
   "cell_type": "markdown",
   "id": "illegal-attraction",
   "metadata": {},
   "source": [
    "# Python Basic Assignment 6"
   ]
  },
  {
   "cell_type": "markdown",
   "id": "explicit-legend",
   "metadata": {},
   "source": [
    "# Q1 :\n",
    "#### What are escape characters, and how do you use them?"
   ]
  },
  {
   "cell_type": "markdown",
   "id": "portable-mobile",
   "metadata": {},
   "source": [
    "# Ans:"
   ]
  },
  {
   "cell_type": "markdown",
   "id": "designing-evanescence",
   "metadata": {},
   "source": [
    "> Escape characters represent characters in string values that would otherwise be difficult or impossible to type into code.\n",
    "\n",
    "> In Python strings, the backslash \"\\\" is a special character, also called the \"escape\" character. It is used in representing certain whitespace characters: \"\\t\" is a tab, \"\\n\" is a newline, and \"\\r\" is a carriage return\n",
    "\n",
    "> Prefixing a special character with \"\\\" turns it into an ordinary character. This is called \"escaping\". For example, \"\\'\" is the single quote character. 'It\\'s Sunday' therefore is a valid string and equivalent to \"It's Sunday\". Likewise, '\"' can be escaped: \"\\\"hello\\\"\" is a string begins and ends with the literal double quote character. Finally, \"\\\" can be used to escape itself: \"\\\\\" is the literal backslash character."
   ]
  },
  {
   "cell_type": "code",
   "execution_count": 1,
   "id": "structural-carry",
   "metadata": {},
   "outputs": [
    {
     "name": "stdout",
     "output_type": "stream",
     "text": [
      "it's raining outside\n",
      "it's raining outside\n"
     ]
    }
   ],
   "source": [
    "print(\"it's raining outside\")\n",
    "#above sentence can be reperesented using escape charecter as\n",
    "print('it\\'s raining outside')"
   ]
  },
  {
   "cell_type": "markdown",
   "id": "thousand-uncertainty",
   "metadata": {},
   "source": [
    "# Q2 :\n",
    "#### What do the escape characters n and t stand for?"
   ]
  },
  {
   "cell_type": "markdown",
   "id": "authentic-survivor",
   "metadata": {},
   "source": [
    "# Ans:"
   ]
  },
  {
   "cell_type": "markdown",
   "id": "fleet-inclusion",
   "metadata": {},
   "source": [
    "> \\n is a newline; \\t is a tab."
   ]
  },
  {
   "cell_type": "markdown",
   "id": "irish-cover",
   "metadata": {},
   "source": [
    "# Q3 :\n",
    "#### What is the way to include backslash characters in a string?"
   ]
  },
  {
   "cell_type": "markdown",
   "id": "close-relaxation",
   "metadata": {},
   "source": [
    "# Ans:"
   ]
  },
  {
   "cell_type": "markdown",
   "id": "continuous-technique",
   "metadata": {},
   "source": [
    "> The \\\\\\ escape character will represent a backslash character."
   ]
  },
  {
   "cell_type": "code",
   "execution_count": 3,
   "id": "municipal-kernel",
   "metadata": {},
   "outputs": [
    {
     "name": "stdout",
     "output_type": "stream",
     "text": [
      "it's a back slash \\ in a sentence\n"
     ]
    }
   ],
   "source": [
    "print('it\\'s a back slash \\\\ in a sentence')"
   ]
  },
  {
   "cell_type": "markdown",
   "id": "yellow-being",
   "metadata": {},
   "source": [
    "# Q4 :\n",
    "#### The string &quot;Howl&#39;s Moving Castle&quot; is a correct value. Why isn&#39;t the single quote character in the word Howl&#39;s not escaped a problem?"
   ]
  },
  {
   "cell_type": "markdown",
   "id": "least-lawyer",
   "metadata": {},
   "source": [
    "# Ans:"
   ]
  },
  {
   "cell_type": "markdown",
   "id": "international-study",
   "metadata": {},
   "source": [
    "> The single quote in Howl's is fine because you’ve used double quotes to mark the beginning and end of the string.\n",
    "\n",
    "> like wise we can use double quotes in with single quotes."
   ]
  },
  {
   "cell_type": "markdown",
   "id": "sixth-latex",
   "metadata": {},
   "source": [
    "# Q5 :\n",
    "#### How do you write a string of newlines if you don&#39;t want to use the n character?"
   ]
  },
  {
   "cell_type": "markdown",
   "id": "comparable-punch",
   "metadata": {},
   "source": [
    "# Ans:"
   ]
  },
  {
   "cell_type": "markdown",
   "id": "terminal-tiffany",
   "metadata": {},
   "source": [
    "> Multiline strings allow you to use newlines in strings without the \\n escape character."
   ]
  },
  {
   "cell_type": "markdown",
   "id": "attractive-cowboy",
   "metadata": {},
   "source": [
    "#### E.g:"
   ]
  },
  {
   "cell_type": "code",
   "execution_count": 9,
   "id": "digital-measure",
   "metadata": {},
   "outputs": [
    {
     "name": "stdout",
     "output_type": "stream",
     "text": [
      "Hello!!\n",
      "World\n"
     ]
    }
   ],
   "source": [
    "s = \"\"\"Hello!!\n",
    "World\"\"\"\n",
    "\n",
    "print(s)"
   ]
  },
  {
   "cell_type": "markdown",
   "id": "promotional-output",
   "metadata": {},
   "source": [
    "# Q6 :\n",
    "#### What are the values of the given expressions?\n",
    "#### &#39;Hello, world!&#39;[1]\n",
    "#### &#39;Hello, world!&#39;[0:5]\n",
    "#### &#39;Hello, world!&#39;[:5]\n",
    "#### &#39;Hello, world!&#39;[3:]"
   ]
  },
  {
   "cell_type": "markdown",
   "id": "variable-industry",
   "metadata": {},
   "source": [
    "# Ans:"
   ]
  },
  {
   "cell_type": "markdown",
   "id": "scenic-catering",
   "metadata": {},
   "source": [
    "The expressions evaluate to the following:\n",
    "\n",
    "- 'e'\n",
    "\n",
    "- 'Hello'\n",
    "\n",
    "- 'Hello'\n",
    "\n",
    "- 'lo, world!"
   ]
  },
  {
   "cell_type": "markdown",
   "id": "metric-vinyl",
   "metadata": {},
   "source": [
    "# Q7 :\n",
    "#### What are the values of the following expressions?\n",
    "#### &#39;Hello&#39;.upper()\n",
    "#### &#39;Hello&#39;.upper().isupper()\n",
    "#### &#39;Hello&#39;.upper().lower()"
   ]
  },
  {
   "cell_type": "markdown",
   "id": "electronic-correspondence",
   "metadata": {},
   "source": [
    "# Ans:"
   ]
  },
  {
   "cell_type": "markdown",
   "id": "fuzzy-camera",
   "metadata": {},
   "source": [
    "> The expressions evaluate to the following:\n",
    "\n",
    "> - 'HELLO'\n",
    "> - True\n",
    "> - 'hello'"
   ]
  },
  {
   "cell_type": "markdown",
   "id": "recent-practitioner",
   "metadata": {},
   "source": [
    "# Q8 :\n",
    "#### What are the values of the following expressions?\n",
    "#### &#39;Remember, remember, the fifth of July.&#39;.split()\n",
    "#### &#39;-&#39;.join(&#39;There can only one.&#39;.split())"
   ]
  },
  {
   "cell_type": "markdown",
   "id": "pressing-diesel",
   "metadata": {},
   "source": [
    "# Ans:"
   ]
  },
  {
   "cell_type": "markdown",
   "id": "wanted-vegetable",
   "metadata": {},
   "source": [
    "> The expressions evaluate to the following:\n",
    "\n",
    ">- ['Remember,', 'remember,', 'the', 'fifth', 'of', 'November.']\n",
    "\n",
    ">- 'There-can-be-only-one.'"
   ]
  },
  {
   "cell_type": "markdown",
   "id": "circular-insider",
   "metadata": {},
   "source": [
    "# Q9 :\n",
    "#### What are the methods for right-justifying, left-justifying, and centering a string?"
   ]
  },
  {
   "cell_type": "markdown",
   "id": "interim-decline",
   "metadata": {},
   "source": [
    "# Ans:"
   ]
  },
  {
   "cell_type": "markdown",
   "id": "expressed-gabriel",
   "metadata": {},
   "source": [
    "> The rjust(), ljust(), and center() string methods, respectivel"
   ]
  },
  {
   "cell_type": "code",
   "execution_count": 17,
   "id": "sorted-peace",
   "metadata": {},
   "outputs": [
    {
     "data": {
      "text/plain": [
       "'Hello-----'"
      ]
     },
     "execution_count": 17,
     "metadata": {},
     "output_type": "execute_result"
    }
   ],
   "source": [
    "# left justified\n",
    "str =\"Hello\"\n",
    "str.ljust(10,\"-\")"
   ]
  },
  {
   "cell_type": "code",
   "execution_count": 20,
   "id": "norman-hartford",
   "metadata": {},
   "outputs": [
    {
     "data": {
      "text/plain": [
       "'---------How are you'"
      ]
     },
     "execution_count": 20,
     "metadata": {},
     "output_type": "execute_result"
    }
   ],
   "source": [
    "# right justified\n",
    "str =\"How are you\"\n",
    "str.rjust(20,'-')"
   ]
  },
  {
   "cell_type": "code",
   "execution_count": 21,
   "id": "cooked-camel",
   "metadata": {},
   "outputs": [
    {
     "data": {
      "text/plain": [
       "'----How are you-----'"
      ]
     },
     "execution_count": 21,
     "metadata": {},
     "output_type": "execute_result"
    }
   ],
   "source": [
    "# center justified\n",
    "str =\"How are you\"\n",
    "str.center(20,'-')"
   ]
  },
  {
   "cell_type": "markdown",
   "id": "democratic-placement",
   "metadata": {},
   "source": [
    "# Q10 :\n",
    "#### What is the best way to remove whitespace characters from the start or end?"
   ]
  },
  {
   "cell_type": "markdown",
   "id": "identified-listing",
   "metadata": {},
   "source": [
    "# Ans:"
   ]
  },
  {
   "cell_type": "markdown",
   "id": "polyphonic-reduction",
   "metadata": {},
   "source": [
    "> The lstrip() and rstrip() methods remove whitespace from the left and right ends of a string, respectively."
   ]
  }
 ],
 "metadata": {
  "kernelspec": {
   "display_name": "Python 3",
   "language": "python",
   "name": "python3"
  },
  "language_info": {
   "codemirror_mode": {
    "name": "ipython",
    "version": 3
   },
   "file_extension": ".py",
   "mimetype": "text/x-python",
   "name": "python",
   "nbconvert_exporter": "python",
   "pygments_lexer": "ipython3",
   "version": "3.8.8"
  }
 },
 "nbformat": 4,
 "nbformat_minor": 5
}
