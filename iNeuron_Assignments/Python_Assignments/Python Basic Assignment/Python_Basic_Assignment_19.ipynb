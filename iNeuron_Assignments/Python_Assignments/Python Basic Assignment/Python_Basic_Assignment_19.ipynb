{
 "cells": [
  {
   "cell_type": "markdown",
   "id": "frequent-kansas",
   "metadata": {},
   "source": [
    "# Python Basic Assignment 19"
   ]
  },
  {
   "cell_type": "markdown",
   "id": "academic-remedy",
   "metadata": {},
   "source": [
    "# Q1 :\n",
    "#### Make a class called Thing with no contents and print it. Then, create an object called example from this class and also print it. Are the printed values the same or different?"
   ]
  },
  {
   "cell_type": "markdown",
   "id": "identified-vanilla",
   "metadata": {},
   "source": [
    "# Ans:"
   ]
  },
  {
   "cell_type": "markdown",
   "id": "verbal-differential",
   "metadata": {},
   "source": [
    "> Printed values are not came, it prints, class and object details."
   ]
  },
  {
   "cell_type": "code",
   "execution_count": 1,
   "id": "french-spotlight",
   "metadata": {},
   "outputs": [],
   "source": [
    "class Thing:\n",
    "    pass"
   ]
  },
  {
   "cell_type": "code",
   "execution_count": 2,
   "id": "boolean-mainland",
   "metadata": {},
   "outputs": [
    {
     "name": "stdout",
     "output_type": "stream",
     "text": [
      "<class '__main__.Thing'>\n"
     ]
    }
   ],
   "source": [
    "print(Thing)"
   ]
  },
  {
   "cell_type": "code",
   "execution_count": 3,
   "id": "particular-scientist",
   "metadata": {},
   "outputs": [
    {
     "name": "stdout",
     "output_type": "stream",
     "text": [
      "<__main__.Thing object at 0x0000013207CEDEE0>\n"
     ]
    }
   ],
   "source": [
    "example = Thing()\n",
    "print(example)"
   ]
  },
  {
   "cell_type": "markdown",
   "id": "fifty-glory",
   "metadata": {},
   "source": [
    "# Q2 :\n",
    "#### Create a new class called Thing2 and add the value &#39;abc&#39; to the letters class attribute. Letters should be printed."
   ]
  },
  {
   "cell_type": "markdown",
   "id": "deluxe-charger",
   "metadata": {},
   "source": [
    "# Ans:"
   ]
  },
  {
   "cell_type": "code",
   "execution_count": 4,
   "id": "greenhouse-specialist",
   "metadata": {},
   "outputs": [
    {
     "data": {
      "text/plain": [
       "'abc'"
      ]
     },
     "execution_count": 4,
     "metadata": {},
     "output_type": "execute_result"
    }
   ],
   "source": [
    "class Thing2:\n",
    "    letters = 'abc'\n",
    "    \n",
    "Thing2.letters\n",
    "    "
   ]
  },
  {
   "cell_type": "markdown",
   "id": "failing-transcription",
   "metadata": {},
   "source": [
    "# Q3 :\n",
    "#### Make yet another class called, of course, Thing3. This time, assign the value &#39;xyz&#39; to an instance (object) attribute called letters. Print letters. Do you need to make an object from the class to do this?"
   ]
  },
  {
   "cell_type": "markdown",
   "id": "available-midwest",
   "metadata": {},
   "source": [
    "# Ans:"
   ]
  },
  {
   "cell_type": "code",
   "execution_count": 5,
   "id": "charged-carter",
   "metadata": {},
   "outputs": [
    {
     "name": "stdout",
     "output_type": "stream",
     "text": [
      "xyz\n"
     ]
    }
   ],
   "source": [
    "class Thing3:\n",
    "    def __init__(self,letter):\n",
    "        self.letter = letter\n",
    "    def letters(self):\n",
    "        print(self.letter)\n",
    "Thing3('xyz').letters()        \n",
    "    "
   ]
  },
  {
   "cell_type": "markdown",
   "id": "underlying-syndicate",
   "metadata": {},
   "source": [
    "# Q4 :\n",
    "#### Create an Element class with the instance attributes name, symbol, and number. Create a class object with the values &#39;Hydrogen,&#39; &#39;H,&#39; and 1."
   ]
  },
  {
   "cell_type": "markdown",
   "id": "instructional-curtis",
   "metadata": {},
   "source": [
    "# Ans:"
   ]
  },
  {
   "cell_type": "code",
   "execution_count": 9,
   "id": "weighted-calcium",
   "metadata": {},
   "outputs": [
    {
     "name": "stdout",
     "output_type": "stream",
     "text": [
      "Hydrogen H 1\n",
      "Hydrogen\n"
     ]
    }
   ],
   "source": [
    "class Element:\n",
    "    def __init__(self,name,symbol,number):\n",
    "        self.name = name\n",
    "        self.symbol = symbol\n",
    "        self.number = number\n",
    "    def printThem(self):\n",
    "        print(self.name,self.symbol,self.number)\n",
    "        \n",
    "obj = Element('Hydrogen','H',1)\n",
    "obj.printThem()\n",
    "print(obj.name)"
   ]
  },
  {
   "cell_type": "markdown",
   "id": "antique-cache",
   "metadata": {},
   "source": [
    "# Q5 :\n",
    "#### Make a dictionary with these keys and values: &#39;name&#39;: &#39;Hydrogen&#39;, &#39;symbol&#39;: &#39;H&#39;, &#39;number&#39;: 1. Then, create an object called hydrogen from class Element using this dictionary."
   ]
  },
  {
   "cell_type": "markdown",
   "id": "boolean-introduction",
   "metadata": {},
   "source": [
    "# Ans:"
   ]
  },
  {
   "cell_type": "code",
   "execution_count": 10,
   "id": "fixed-jason",
   "metadata": {},
   "outputs": [
    {
     "data": {
      "text/plain": [
       "'H'"
      ]
     },
     "execution_count": 10,
     "metadata": {},
     "output_type": "execute_result"
    }
   ],
   "source": [
    "dict = {'name':'Hydrogen', 'symbol':'H','number': 1}\n",
    "hydrogen = Element(**dict) # using dictionary unpacking **\n",
    "hydrogen.symbol"
   ]
  },
  {
   "cell_type": "markdown",
   "id": "changed-bradley",
   "metadata": {},
   "source": [
    "# Q6 :\n",
    "#### For the Element class, define a method called dump() that prints the values of the object’s attributes (name, symbol, and number). Create the hydrogen object from this new definition and use dump() to print its attributes."
   ]
  },
  {
   "cell_type": "markdown",
   "id": "unlimited-tracy",
   "metadata": {},
   "source": [
    "# Ans:"
   ]
  },
  {
   "cell_type": "code",
   "execution_count": 11,
   "id": "corresponding-strip",
   "metadata": {},
   "outputs": [
    {
     "name": "stdout",
     "output_type": "stream",
     "text": [
      "Hydrogen H 1\n"
     ]
    }
   ],
   "source": [
    "class Element:\n",
    "    def __init__(self,name,symbol,number):\n",
    "        self.name = name\n",
    "        self.symbol = symbol\n",
    "        self.number = number\n",
    "    def dump(self):\n",
    "        print(self.name,self.symbol,self.number)\n",
    "        \n",
    "hydrogen = Element('Hydrogen','H',1)\n",
    "hydrogen.dump()"
   ]
  },
  {
   "cell_type": "markdown",
   "id": "annoying-importance",
   "metadata": {},
   "source": [
    "# Q7 :\n",
    "#### Call print(hydrogen). In the definition of Element, change the name of method dump to __str__, create a new hydrogen object, and call print(hydrogen) again."
   ]
  },
  {
   "cell_type": "markdown",
   "id": "unlike-philosophy",
   "metadata": {},
   "source": [
    "# Ans:"
   ]
  },
  {
   "cell_type": "code",
   "execution_count": 12,
   "id": "local-cambodia",
   "metadata": {},
   "outputs": [
    {
     "name": "stdout",
     "output_type": "stream",
     "text": [
      "name = Hydrogen, symbol = H, number = 1\n"
     ]
    }
   ],
   "source": [
    "class Element:\n",
    "    def __init__(self,name,symbol,number):\n",
    "        self.name = name\n",
    "        self.symbol = symbol\n",
    "        self.number = number\n",
    "    def __str__(self):\n",
    "        return ('name = %s, symbol = %s, number = %s'% (self.name, self.symbol, self.number) )\n",
    "    \n",
    "hydrogen = Element('Hydrogen','H',1)\n",
    "print(hydrogen)"
   ]
  },
  {
   "cell_type": "markdown",
   "id": "oriental-links",
   "metadata": {},
   "source": [
    "# Q8 :\n",
    "#### Modify Element to make the attributes name, symbol, and number private. Define a getter property for each to return its value."
   ]
  },
  {
   "cell_type": "markdown",
   "id": "clinical-madrid",
   "metadata": {},
   "source": [
    "# Ans:"
   ]
  },
  {
   "cell_type": "code",
   "execution_count": 13,
   "id": "otherwise-supply",
   "metadata": {},
   "outputs": [
    {
     "data": {
      "text/plain": [
       "'Hydrogen'"
      ]
     },
     "execution_count": 13,
     "metadata": {},
     "output_type": "execute_result"
    }
   ],
   "source": [
    "class Element(): \n",
    "    def __init__(self ,name,symbol,number):\n",
    "        self.__name = name\n",
    "        self.__symbol = symbol\n",
    "        self.__number = number\n",
    "    @property\n",
    "    def name(self):\n",
    "        return (self.__name)\n",
    "    @property\n",
    "    def symbol(self):\n",
    "        return (self.__symbol)\n",
    "    @property\n",
    "    def number(self):\n",
    "        return (self.__number)\n",
    "    \n",
    "hydrogen = Element('Hydrogen','H',1)\n",
    "hydrogen.name"
   ]
  },
  {
   "cell_type": "markdown",
   "id": "owned-profile",
   "metadata": {},
   "source": [
    "# Q9 :\n",
    "#### Define three classes: Bear, Rabbit, and Octothorpe. For each, define only one method: eats(). This should return &#39;berries&#39; (Bear), &#39;clover&#39; (Rabbit), or &#39;campers&#39; (Octothorpe). Create one object from each and print what it eats."
   ]
  },
  {
   "cell_type": "markdown",
   "id": "bored-kazakhstan",
   "metadata": {},
   "source": [
    "# Ans:"
   ]
  },
  {
   "cell_type": "code",
   "execution_count": 14,
   "id": "micro-contents",
   "metadata": {},
   "outputs": [],
   "source": [
    "class Bear:\n",
    "    def eats():\n",
    "        print('berries')\n",
    "\n",
    "class Rabbit:\n",
    "    def eats():\n",
    "        print('clover')\n",
    "\n",
    "class Octothorpe:\n",
    "    def eats():\n",
    "        print('campers')"
   ]
  },
  {
   "cell_type": "code",
   "execution_count": 15,
   "id": "american-exclusion",
   "metadata": {},
   "outputs": [
    {
     "name": "stdout",
     "output_type": "stream",
     "text": [
      "berries\n"
     ]
    }
   ],
   "source": [
    "Bear.eats()"
   ]
  },
  {
   "cell_type": "code",
   "execution_count": 16,
   "id": "soviet-defense",
   "metadata": {},
   "outputs": [
    {
     "name": "stdout",
     "output_type": "stream",
     "text": [
      "clover\n"
     ]
    }
   ],
   "source": [
    "Rabbit.eats()"
   ]
  },
  {
   "cell_type": "code",
   "execution_count": 17,
   "id": "ordered-function",
   "metadata": {},
   "outputs": [
    {
     "name": "stdout",
     "output_type": "stream",
     "text": [
      "campers\n"
     ]
    }
   ],
   "source": [
    "Octothorpe.eats()"
   ]
  },
  {
   "cell_type": "markdown",
   "id": "extra-mission",
   "metadata": {},
   "source": [
    "# Q10 :\n",
    "#### Define these classes: Laser, Claw, and SmartPhone. Each has only one method: does(). This returns &#39;disintegrate&#39; (Laser), &#39;crush&#39; (Claw), or &#39;ring&#39; (SmartPhone). Then, define the class Robot that has one instance (object) of each of these. Define a does() method for the Robot that prints what its component objects do."
   ]
  },
  {
   "cell_type": "markdown",
   "id": "retired-jaguar",
   "metadata": {},
   "source": [
    "# Ans:"
   ]
  },
  {
   "cell_type": "code",
   "execution_count": 21,
   "id": "meaning-subject",
   "metadata": {},
   "outputs": [],
   "source": [
    "class Laser:\n",
    "    def does(self):\n",
    "        return('disitegrate')\n",
    "class Claw:\n",
    "    def does(self):\n",
    "        return('crush')\n",
    "class SmartPhone:\n",
    "    def does(self):\n",
    "        return('ring')\n",
    "        \n",
    "class Robot:\n",
    "    def __init__(self):\n",
    "        self.laser = Laser()\n",
    "        self.claw = Claw()\n",
    "        self.smartphone = SmartPhone()\n",
    "    def does(self):\n",
    "        return ('Laser - %s, Claw - %s, SmartPhone - %s' % (self.laser.does(),self.claw.does(),self.smartphone.does()))"
   ]
  },
  {
   "cell_type": "code",
   "execution_count": 22,
   "id": "moved-spell",
   "metadata": {},
   "outputs": [
    {
     "data": {
      "text/plain": [
       "'Laser - disitegrate, Claw - crush, SmartPhone - ring'"
      ]
     },
     "execution_count": 22,
     "metadata": {},
     "output_type": "execute_result"
    }
   ],
   "source": [
    "robot = Robot()\n",
    "robot.does()"
   ]
  },
  {
   "cell_type": "code",
   "execution_count": null,
   "id": "destroyed-graham",
   "metadata": {},
   "outputs": [],
   "source": []
  }
 ],
 "metadata": {
  "kernelspec": {
   "display_name": "Python 3",
   "language": "python",
   "name": "python3"
  },
  "language_info": {
   "codemirror_mode": {
    "name": "ipython",
    "version": 3
   },
   "file_extension": ".py",
   "mimetype": "text/x-python",
   "name": "python",
   "nbconvert_exporter": "python",
   "pygments_lexer": "ipython3",
   "version": "3.8.8"
  }
 },
 "nbformat": 4,
 "nbformat_minor": 5
}
