{
 "cells": [
  {
   "cell_type": "markdown",
   "id": "computational-graduation",
   "metadata": {},
   "source": [
    "# Python Basic Assignment 5"
   ]
  },
  {
   "cell_type": "markdown",
   "id": "exposed-blanket",
   "metadata": {},
   "source": [
    "# Q1 :\n",
    "#### What does an empty dictionary&#39;s code look like?"
   ]
  },
  {
   "cell_type": "markdown",
   "id": "identified-bench",
   "metadata": {},
   "source": [
    "# Ans:"
   ]
  },
  {
   "cell_type": "markdown",
   "id": "cooperative-acrylic",
   "metadata": {},
   "source": [
    "> Two curly brackets: **{}**"
   ]
  },
  {
   "cell_type": "markdown",
   "id": "relevant-transportation",
   "metadata": {},
   "source": [
    "# Q2 :\n",
    "#### What is the value of a dictionary value with the key &#39;foo&#39; and the value 42?"
   ]
  },
  {
   "cell_type": "markdown",
   "id": "alternative-network",
   "metadata": {},
   "source": [
    "# Ans:"
   ]
  },
  {
   "cell_type": "code",
   "execution_count": 1,
   "id": "parliamentary-campaign",
   "metadata": {},
   "outputs": [
    {
     "data": {
      "text/plain": [
       "{'foo': 42}"
      ]
     },
     "execution_count": 1,
     "metadata": {},
     "output_type": "execute_result"
    }
   ],
   "source": [
    "{'foo': 42}"
   ]
  },
  {
   "cell_type": "markdown",
   "id": "royal-galaxy",
   "metadata": {},
   "source": [
    "# Q3 :\n",
    "#### What is the most significant distinction between a dictionary and a list?"
   ]
  },
  {
   "cell_type": "markdown",
   "id": "modular-wright",
   "metadata": {},
   "source": [
    "# Ans:"
   ]
  },
  {
   "cell_type": "markdown",
   "id": "developed-slope",
   "metadata": {},
   "source": [
    "> A list is an ordered sequence of objects, whereas dictionaries are unordered sets. However, the main difference is that items in dictionaries are accessed via keys and not via their position. ... Any key of the dictionary is associated (or mapped) to a value. The values of a dictionary can be any type of Python data."
   ]
  },
  {
   "cell_type": "markdown",
   "id": "brave-jumping",
   "metadata": {},
   "source": [
    "# Q4 :\n",
    "#### What happens if you try to access spam[&#39;foo&#39;] if spam is {&#39;bar&#39;: 100}?"
   ]
  },
  {
   "cell_type": "markdown",
   "id": "extra-paradise",
   "metadata": {},
   "source": [
    "# Ans:"
   ]
  },
  {
   "cell_type": "markdown",
   "id": "wooden-rider",
   "metadata": {},
   "source": [
    "> You get a KeyError error."
   ]
  },
  {
   "cell_type": "markdown",
   "id": "suspended-compact",
   "metadata": {},
   "source": [
    "# Q5 :\n",
    "#### If a dictionary is stored in spam, what is the difference between the expressions &#39;cat&#39; in spam and &#39;cat&#39; in spam.keys()?"
   ]
  },
  {
   "cell_type": "markdown",
   "id": "requested-construction",
   "metadata": {},
   "source": [
    "# Ans:"
   ]
  },
  {
   "cell_type": "markdown",
   "id": "jewish-childhood",
   "metadata": {},
   "source": [
    "> There is no difference. The in operator checks whether a value exists as a key in the dictionary."
   ]
  },
  {
   "cell_type": "markdown",
   "id": "mineral-bubble",
   "metadata": {},
   "source": [
    "# Q6 :\n",
    "#### If a dictionary is stored in spam, what is the difference between the expressions &#39;cat&#39; in spam and &#39;cat&#39; in spam.values()?"
   ]
  },
  {
   "cell_type": "markdown",
   "id": "ignored-latex",
   "metadata": {},
   "source": [
    "# Ans:"
   ]
  },
  {
   "cell_type": "markdown",
   "id": "creative-nothing",
   "metadata": {},
   "source": [
    "> 'cat' in spam checks whether there is a 'cat' key in the dictionary.\n",
    "\n",
    "> while 'cat' in spam.values() checks whether there is a value 'cat' for one of the keys in spam."
   ]
  },
  {
   "cell_type": "markdown",
   "id": "occupied-combine",
   "metadata": {},
   "source": [
    "# Q7 :\n",
    "#### What is a shortcut for the following code?\n",
    "#### if &#39;color&#39; not in spam:\n",
    "#### spam[&#39;color&#39;] = &#39;black&#39;"
   ]
  },
  {
   "cell_type": "markdown",
   "id": "under-guyana",
   "metadata": {},
   "source": [
    "# Ans:"
   ]
  },
  {
   "cell_type": "markdown",
   "id": "timely-swiss",
   "metadata": {},
   "source": [
    "> This can be achieved by using setdefault() which Inserts key with a value of default if key is not in the dictionary\n",
    "\n",
    "> spam.setdefault('color', 'black')"
   ]
  },
  {
   "cell_type": "code",
   "execution_count": 5,
   "id": "tender-courage",
   "metadata": {},
   "outputs": [
    {
     "data": {
      "text/plain": [
       "{'cat': 100, 'color': 'black'}"
      ]
     },
     "execution_count": 5,
     "metadata": {},
     "output_type": "execute_result"
    }
   ],
   "source": [
    "spam ={'cat':100}\n",
    "spam.setdefault('color','black')\n",
    "spam"
   ]
  },
  {
   "cell_type": "markdown",
   "id": "ordinary-launch",
   "metadata": {},
   "source": [
    "# Q8 :\n",
    "#### How do you &quot;pretty print&quot; dictionary values using which module and function?"
   ]
  },
  {
   "cell_type": "markdown",
   "id": "governmental-nurse",
   "metadata": {},
   "source": [
    "# Ans:"
   ]
  },
  {
   "cell_type": "markdown",
   "id": "martial-pitch",
   "metadata": {},
   "source": [
    "> Pretty printing means to present something in a more readable format or style\n",
    "\n",
    "> pprint.pprint()"
   ]
  },
  {
   "cell_type": "code",
   "execution_count": 9,
   "id": "black-bargain",
   "metadata": {},
   "outputs": [
    {
     "name": "stdout",
     "output_type": "stream",
     "text": [
      "[{'Age': '24', 'Country': 'USA', 'Name': 'Andy'},\n",
      " {'Age': '41', 'Country': 'Spain', 'Name': 'Rose'},\n",
      " {'Age': '29', 'Country': 'UK', 'Name': 'Anne'},\n",
      " {'Age': '35', 'Country': 'Japan', 'Name': 'Lee'}]\n"
     ]
    }
   ],
   "source": [
    "import pprint\n",
    "\n",
    "dct_arr = [ {'Name': 'Andy', 'Age': '24', 'Country': 'USA'},\n",
    "  {'Name': 'Rose', 'Age': '41', 'Country': 'Spain'},\n",
    "  {'Name': 'Anne', 'Age': '29', 'Country': 'UK'},\n",
    "  {'Name': 'Lee', 'Age': '35', 'Country': 'Japan'}\n",
    "]\n",
    "#print(dct_arr)\n",
    "pprint.pprint(dct_arr)"
   ]
  }
 ],
 "metadata": {
  "kernelspec": {
   "display_name": "Python 3",
   "language": "python",
   "name": "python3"
  },
  "language_info": {
   "codemirror_mode": {
    "name": "ipython",
    "version": 3
   },
   "file_extension": ".py",
   "mimetype": "text/x-python",
   "name": "python",
   "nbconvert_exporter": "python",
   "pygments_lexer": "ipython3",
   "version": "3.8.8"
  }
 },
 "nbformat": 4,
 "nbformat_minor": 5
}
