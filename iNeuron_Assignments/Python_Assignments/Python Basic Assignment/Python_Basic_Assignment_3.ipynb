{
 "cells": [
  {
   "cell_type": "markdown",
   "id": "facial-implementation",
   "metadata": {},
   "source": [
    "# Python Basic Assignment 3"
   ]
  },
  {
   "cell_type": "markdown",
   "id": "beautiful-penalty",
   "metadata": {},
   "source": [
    "# Q1 :"
   ]
  },
  {
   "cell_type": "markdown",
   "id": "respective-worcester",
   "metadata": {},
   "source": [
    "#### Why are functions advantageous to have in your programs?"
   ]
  },
  {
   "cell_type": "markdown",
   "id": "northern-nashville",
   "metadata": {},
   "source": [
    "# Ans:"
   ]
  },
  {
   "cell_type": "markdown",
   "id": "generous-allen",
   "metadata": {},
   "source": [
    "> There are the following advantages of using functions in programs.\n",
    ">- Functions reduce the need for duplicate code.\n",
    ">- This makes programs shorter, easier to read, and easier to update.\n",
    ">- Divide a complex problem into simpler ones.\n",
    ">- Reduces chances of error."
   ]
  },
  {
   "cell_type": "markdown",
   "id": "thirty-stereo",
   "metadata": {},
   "source": [
    "# Q2 :\n",
    "#### When does the code in a function run: when it&#39;s specified or when it&#39;s called?"
   ]
  },
  {
   "cell_type": "markdown",
   "id": "streaming-chase",
   "metadata": {},
   "source": [
    "# Ans:"
   ]
  },
  {
   "cell_type": "markdown",
   "id": "adapted-arbitration",
   "metadata": {},
   "source": [
    "> The code in a function executes when the function is **called**, not when the function is defined."
   ]
  },
  {
   "cell_type": "markdown",
   "id": "naval-faculty",
   "metadata": {},
   "source": [
    "# Q3 : \n",
    "#### What statement creates a function?"
   ]
  },
  {
   "cell_type": "markdown",
   "id": "injured-observer",
   "metadata": {},
   "source": [
    "# Ans:"
   ]
  },
  {
   "cell_type": "markdown",
   "id": "curious-companion",
   "metadata": {},
   "source": [
    "> The def functionName() createes a function"
   ]
  },
  {
   "cell_type": "markdown",
   "id": "balanced-toddler",
   "metadata": {},
   "source": [
    "# Q4 :\n",
    "#### What is the difference between a function and a function call?"
   ]
  },
  {
   "cell_type": "markdown",
   "id": "excess-forward",
   "metadata": {},
   "source": [
    "### Function:\n",
    "\n",
    "A function is a block of code that does a particular operation and returns a result. It usually accepts inputs as parameters and returns a result. The parameters are not mandatory.\n",
    "\n",
    "### E.g:\n",
    "def add(a,b):\n",
    "\n",
    "    return a+ b\n",
    "\n",
    "### Function call:\n",
    "\n",
    "A function call is the code used to pass control to a function.\n",
    "\n",
    "### E.g.:\n",
    "\n",
    "b = add(5,6)\n",
    "\n",
    "Now b will have the value 11.\n"
   ]
  },
  {
   "cell_type": "markdown",
   "id": "recreational-metropolitan",
   "metadata": {},
   "source": [
    "# Q5:\n",
    "#### How many global scopes are there in a Python program? How many local scopes?"
   ]
  },
  {
   "cell_type": "markdown",
   "id": "western-sensitivity",
   "metadata": {},
   "source": [
    "# Ans:"
   ]
  },
  {
   "cell_type": "markdown",
   "id": "equal-fortune",
   "metadata": {},
   "source": [
    "> There's only one global Python scope per program execution. This scope remains in existence until the program terminates and all its names are forgotten. Otherwise, the next time you were to run the program, the names would remember their values from the previous run.\n",
    "\n",
    "> Normally, when you create a variable inside a function, that variable is local, and can only be used inside that function."
   ]
  },
  {
   "cell_type": "markdown",
   "id": "abandoned-renewal",
   "metadata": {},
   "source": [
    "# Q6 :\n",
    "#### What happens to variables in a local scope when the function call returns?"
   ]
  },
  {
   "cell_type": "markdown",
   "id": "banner-induction",
   "metadata": {},
   "source": [
    "# Ans:"
   ]
  },
  {
   "cell_type": "markdown",
   "id": "prompt-concentration",
   "metadata": {},
   "source": [
    "> When a function returns, the local scope is destroyed, and all the variables in it are forgotten. we will not be able to access the out side the function."
   ]
  },
  {
   "cell_type": "markdown",
   "id": "sunset-lodging",
   "metadata": {},
   "source": [
    "# Q7 :\n",
    "#### What is the concept of a return value? Is it possible to have a return value in an expression?"
   ]
  },
  {
   "cell_type": "markdown",
   "id": "animal-bouquet",
   "metadata": {},
   "source": [
    "# Ans:"
   ]
  },
  {
   "cell_type": "markdown",
   "id": "julian-suicide",
   "metadata": {},
   "source": [
    "> A return statement is used to end the execution of the function call and “returns” the result (value of the expression following the return keyword) to the caller. The statements after the return statements are not executed. If the return statement is without any expression, then the special value None is returned\n",
    "\n",
    "> A return value can be used as part of an expression, Like any value."
   ]
  },
  {
   "cell_type": "markdown",
   "id": "contemporary-damages",
   "metadata": {},
   "source": [
    "# Q8 :\n",
    "#### If a function does not have a return statement, what is the return value of a call to that function?"
   ]
  },
  {
   "cell_type": "markdown",
   "id": "productive-channels",
   "metadata": {},
   "source": [
    "# Ans:"
   ]
  },
  {
   "cell_type": "markdown",
   "id": "organic-midnight",
   "metadata": {},
   "source": [
    "> If there is no return statement for a function, its return value is None."
   ]
  },
  {
   "cell_type": "markdown",
   "id": "correct-selling",
   "metadata": {},
   "source": [
    "# Q9 :\n",
    "#### How do you make a function variable refer to the global variable?"
   ]
  },
  {
   "cell_type": "markdown",
   "id": "occasional-amendment",
   "metadata": {},
   "source": [
    "# Ans:"
   ]
  },
  {
   "cell_type": "markdown",
   "id": "vocal-pavilion",
   "metadata": {},
   "source": [
    "> If you want to refer to a global variable in a function, you can use the global keyword to declare which variables are global.\n",
    "\n",
    "Example : global a"
   ]
  },
  {
   "cell_type": "markdown",
   "id": "significant-reservoir",
   "metadata": {},
   "source": [
    "# Q10 :\n",
    "#### What is the data type of None?"
   ]
  },
  {
   "cell_type": "markdown",
   "id": "revised-shoot",
   "metadata": {},
   "source": [
    "# Ans:"
   ]
  },
  {
   "cell_type": "markdown",
   "id": "designed-browse",
   "metadata": {},
   "source": [
    "> The data type of None is NoneType"
   ]
  },
  {
   "cell_type": "markdown",
   "id": "fifth-genius",
   "metadata": {},
   "source": [
    "# Q11 :\n",
    "#### What does the sentence import areallyourpetsnamederic do?"
   ]
  },
  {
   "cell_type": "markdown",
   "id": "growing-capacity",
   "metadata": {},
   "source": [
    "# Ans:"
   ]
  },
  {
   "cell_type": "markdown",
   "id": "restricted-elimination",
   "metadata": {},
   "source": [
    "> That import statement imports a module named areallyourpetsnamederic. (This isn’t a real Python module, by the way.)\n",
    "\n",
    "areallyourpetsnamederic ia not a python module. Importing this module will throughs ModuleNotFoundError exception."
   ]
  },
  {
   "cell_type": "markdown",
   "id": "dominican-allen",
   "metadata": {},
   "source": [
    "# Q12 :\n",
    "#### If you had a bacon() feature in a spam module, what would you call it after importing spam?"
   ]
  },
  {
   "cell_type": "markdown",
   "id": "elect-decision",
   "metadata": {},
   "source": [
    "# Ans:"
   ]
  },
  {
   "cell_type": "markdown",
   "id": "impaired-innocent",
   "metadata": {},
   "source": [
    "> This function can be called with spam.bacon()."
   ]
  },
  {
   "cell_type": "markdown",
   "id": "norman-brisbane",
   "metadata": {},
   "source": [
    "# Q13 :\n",
    "#### What can you do to save a programme from crashing if it encounters an error?"
   ]
  },
  {
   "cell_type": "markdown",
   "id": "criminal-occasion",
   "metadata": {},
   "source": [
    "# Ans:"
   ]
  },
  {
   "cell_type": "markdown",
   "id": "viral-percentage",
   "metadata": {},
   "source": [
    "> Place the line of code that might cause an error in a try clause."
   ]
  },
  {
   "cell_type": "markdown",
   "id": "light-stereo",
   "metadata": {},
   "source": [
    "# Q14 :\n",
    "#### What is the purpose of the try clause? What is the purpose of the except clause?"
   ]
  },
  {
   "cell_type": "markdown",
   "id": "banned-bottom",
   "metadata": {},
   "source": [
    "> The code that could potentially cause an error goes in the try clause.\n",
    "\n",
    "> The code that executes if an error happens goes in the except clause."
   ]
  }
 ],
 "metadata": {
  "kernelspec": {
   "display_name": "Python 3",
   "language": "python",
   "name": "python3"
  },
  "language_info": {
   "codemirror_mode": {
    "name": "ipython",
    "version": 3
   },
   "file_extension": ".py",
   "mimetype": "text/x-python",
   "name": "python",
   "nbconvert_exporter": "python",
   "pygments_lexer": "ipython3",
   "version": "3.8.8"
  }
 },
 "nbformat": 4,
 "nbformat_minor": 5
}
