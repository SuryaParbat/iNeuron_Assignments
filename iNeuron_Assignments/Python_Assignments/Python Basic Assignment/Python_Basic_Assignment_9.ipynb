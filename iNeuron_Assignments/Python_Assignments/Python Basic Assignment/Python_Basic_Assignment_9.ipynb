{
 "cells": [
  {
   "cell_type": "markdown",
   "id": "molecular-surprise",
   "metadata": {},
   "source": [
    "# Python Basic Assignment 9"
   ]
  },
  {
   "cell_type": "markdown",
   "id": "exposed-audience",
   "metadata": {},
   "source": [
    "# Q1 :\n",
    "#### To what does a relative path refer?"
   ]
  },
  {
   "cell_type": "markdown",
   "id": "bacterial-denver",
   "metadata": {},
   "source": [
    "# Ans:"
   ]
  },
  {
   "cell_type": "markdown",
   "id": "casual-middle",
   "metadata": {},
   "source": [
    "> Relative paths are relative to the current working directory."
   ]
  },
  {
   "cell_type": "markdown",
   "id": "responsible-brighton",
   "metadata": {},
   "source": [
    "# Q2 :\n",
    "#### What does an absolute path start with your operating system?"
   ]
  },
  {
   "cell_type": "markdown",
   "id": "hollywood-drinking",
   "metadata": {},
   "source": [
    "# Ans:"
   ]
  },
  {
   "cell_type": "markdown",
   "id": "focal-limit",
   "metadata": {},
   "source": [
    "> Absolute paths start with the root folder, such as / or C:\\."
   ]
  },
  {
   "cell_type": "code",
   "execution_count": 1,
   "id": "numerical-vancouver",
   "metadata": {},
   "outputs": [
    {
     "data": {
      "text/plain": [
       "'C:\\\\Users\\\\surya\\\\Desktop\\\\iNeuron_Assignments\\\\Python_Assignments\\\\Python Basic Assignment'"
      ]
     },
     "execution_count": 1,
     "metadata": {},
     "output_type": "execute_result"
    }
   ],
   "source": [
    "pwd()"
   ]
  },
  {
   "cell_type": "markdown",
   "id": "leading-witch",
   "metadata": {},
   "source": [
    "# Q3 :\n",
    "#### What do the functions os.getcwd() and os.chdir() do?"
   ]
  },
  {
   "cell_type": "markdown",
   "id": "finite-federal",
   "metadata": {},
   "source": [
    "# Ans:"
   ]
  },
  {
   "cell_type": "markdown",
   "id": "settled-comfort",
   "metadata": {},
   "source": [
    "> The os.getcwd() function returns the current working directory.\n",
    "\n",
    "> The os.chdir() function changes the current working directory."
   ]
  },
  {
   "cell_type": "markdown",
   "id": "tracked-better",
   "metadata": {},
   "source": [
    "# Q4 :\n",
    "#### What are the . and .. folders?"
   ]
  },
  {
   "cell_type": "markdown",
   "id": "tired-vocabulary",
   "metadata": {},
   "source": [
    "# Ans:"
   ]
  },
  {
   "cell_type": "markdown",
   "id": "monthly-masters",
   "metadata": {},
   "source": [
    "> The . folder is the current folder, and .. is the parent folder.\n",
    "\n"
   ]
  },
  {
   "cell_type": "markdown",
   "id": "imported-invalid",
   "metadata": {},
   "source": [
    "# Q5 :\n",
    "#### In C:\\bacon\\eggs\\spam.txt, which part is the dir name, and which part is the base name?\n"
   ]
  },
  {
   "cell_type": "markdown",
   "id": "representative-corps",
   "metadata": {},
   "source": [
    "# Ans:\n",
    "    "
   ]
  },
  {
   "cell_type": "markdown",
   "id": "advance-climate",
   "metadata": {},
   "source": [
    "> C:\\bacon\\eggs is the dir name, while spam.txt is the base name."
   ]
  },
  {
   "cell_type": "markdown",
   "id": "posted-capture",
   "metadata": {},
   "source": [
    "# Q6 :\n",
    "#### What are the three “mode” arguments that can be passed to the open() function?"
   ]
  },
  {
   "cell_type": "markdown",
   "id": "institutional-rating",
   "metadata": {},
   "source": [
    "# Ans:"
   ]
  },
  {
   "cell_type": "markdown",
   "id": "adjacent-repeat",
   "metadata": {},
   "source": [
    "> The string 'r' for read mode, 'w' for write mode, and 'a' for append mode"
   ]
  },
  {
   "cell_type": "markdown",
   "id": "ecological-formula",
   "metadata": {},
   "source": [
    "# Q7 :\n",
    "#### What happens if an existing file is opened in write mode?"
   ]
  },
  {
   "cell_type": "markdown",
   "id": "fuzzy-hygiene",
   "metadata": {},
   "source": [
    "# Ans:"
   ]
  },
  {
   "cell_type": "markdown",
   "id": "western-prevention",
   "metadata": {},
   "source": [
    "> An existing file opened in write mode is erased and completely overwritten.\n"
   ]
  },
  {
   "cell_type": "markdown",
   "id": "first-brisbane",
   "metadata": {},
   "source": [
    "# Q8 :\n",
    "#### How do you tell the difference between read() and readlines()?"
   ]
  },
  {
   "cell_type": "markdown",
   "id": "permanent-alpha",
   "metadata": {},
   "source": [
    "# Ans:"
   ]
  },
  {
   "cell_type": "markdown",
   "id": "joint-handling",
   "metadata": {},
   "source": [
    "> The read() method returns the file’s entire contents as a single string value.\n",
    "\n",
    "> The readlines() method returns a list of strings, where each string is a line from the file’s contents."
   ]
  },
  {
   "cell_type": "markdown",
   "id": "structured-treaty",
   "metadata": {},
   "source": [
    "# Q9 :\n",
    "#### What data structure does a shelf value resemble?"
   ]
  },
  {
   "cell_type": "markdown",
   "id": "satisfactory-quantity",
   "metadata": {},
   "source": [
    "# Ans:"
   ]
  },
  {
   "cell_type": "markdown",
   "id": "parental-slave",
   "metadata": {},
   "source": [
    "> A shelf value resembles a dictionary value; it has keys and values, along with keys() and values() methods that work similarly to the dictionary methods of the same names."
   ]
  }
 ],
 "metadata": {
  "kernelspec": {
   "display_name": "Python 3",
   "language": "python",
   "name": "python3"
  },
  "language_info": {
   "codemirror_mode": {
    "name": "ipython",
    "version": 3
   },
   "file_extension": ".py",
   "mimetype": "text/x-python",
   "name": "python",
   "nbconvert_exporter": "python",
   "pygments_lexer": "ipython3",
   "version": "3.8.8"
  }
 },
 "nbformat": 4,
 "nbformat_minor": 5
}
