{
 "cells": [
  {
   "cell_type": "markdown",
   "id": "bored-scotland",
   "metadata": {},
   "source": [
    "# Python Basic Assignment 13"
   ]
  },
  {
   "cell_type": "markdown",
   "id": "aerial-secondary",
   "metadata": {},
   "source": [
    "# Q1 :\n",
    "#### What advantages do Excel spreadsheets have over CSV spreadsheets?"
   ]
  },
  {
   "cell_type": "markdown",
   "id": "annoying-tuition",
   "metadata": {},
   "source": [
    "# Ans:"
   ]
  },
  {
   "cell_type": "markdown",
   "id": "dirty-lounge",
   "metadata": {},
   "source": [
    "Excel advantages over CSV\n",
    "- It is a binary file that holds information about all the worksheets in a workbook\n",
    "- An Excel not only stores data but can also do operations on the data\n",
    "- Files saved in excel cannot be opened or edited by text editors\n",
    "- large files user is much easier in Excel for the end user. Also, \n",
    "  you can have additional functions like selecting individual cells for import, \n",
    "  convert dates and time automatically, reading formulas and their results, filters, sorting, etc\n",
    "- Apart from text, data can also be stored in form of charts and graphs\n",
    "- Excel can connect to external data sources to fetch data. You can use custom add-in in Excel to increase its functionality. \n",
    "- Excel allows for Review of Data with detailed tracking and commenting feature\n",
    "- In Excel, spreadsheets can have values of data types other than strings; cells can have different fonts, sizes, \n",
    "  or color settings; cells can have varying widths and heights; adjacent cells can be merged"
   ]
  },
  {
   "cell_type": "markdown",
   "id": "clear-summit",
   "metadata": {},
   "source": [
    "# Q2 :\n",
    "#### What do you pass to csv.reader() and csv.writer() to create reader and writer objects?"
   ]
  },
  {
   "cell_type": "markdown",
   "id": "spatial-diagram",
   "metadata": {},
   "source": [
    "# Ans:"
   ]
  },
  {
   "cell_type": "markdown",
   "id": "possible-diamond",
   "metadata": {},
   "source": [
    "> we pass a File object, obtained from a call to open()."
   ]
  },
  {
   "cell_type": "code",
   "execution_count": 1,
   "id": "novel-characteristic",
   "metadata": {},
   "outputs": [
    {
     "data": {
      "text/plain": [
       "[['4/5/2014 13:34', 'Apples', '73'],\n",
       " ['4/5/2014 3:41', 'Cherries', '85'],\n",
       " ['4/6/2014 12:46', 'Pears', '14'],\n",
       " ['4/8/2014 8:59', 'Oranges', '52'],\n",
       " ['4/10/2014 2:07', 'Apples', '152'],\n",
       " ['4/10/2014 18:10', 'Bananas', '23'],\n",
       " ['4/10/2014 2:40', 'Strawberries', '98']]"
      ]
     },
     "execution_count": 1,
     "metadata": {},
     "output_type": "execute_result"
    }
   ],
   "source": [
    "import csv\n",
    "exFile = open('example.csv')\n",
    "exreader = csv.reader(exFile)\n",
    "exData = list(exreader)\n",
    "exData"
   ]
  },
  {
   "cell_type": "markdown",
   "id": "south-smooth",
   "metadata": {},
   "source": [
    "# Q3 :\n",
    "#### What modes do File objects for reader and writer objects need to be opened in?"
   ]
  },
  {
   "cell_type": "markdown",
   "id": "fancy-french",
   "metadata": {},
   "source": [
    "# Ans:"
   ]
  },
  {
   "cell_type": "markdown",
   "id": "selected-alcohol",
   "metadata": {},
   "source": [
    "> File objects need to be opened in read-binary ('rb') for Reader objects and write-binary ('wb') for Writer objects."
   ]
  },
  {
   "cell_type": "markdown",
   "id": "divided-curtis",
   "metadata": {},
   "source": [
    "# Q4 :\n",
    "#### What method takes a list argument and writes it to a CSV file?"
   ]
  },
  {
   "cell_type": "markdown",
   "id": "happy-capture",
   "metadata": {},
   "source": [
    "# Ans:"
   ]
  },
  {
   "cell_type": "code",
   "execution_count": 3,
   "id": "rural-eight",
   "metadata": {},
   "outputs": [],
   "source": [
    "opFile = open('output.csv','w', newline=\"\\n\")\n",
    "opWriter = csv.writer(opFile)\n",
    "opWriter.writerow(['egg','orange','milk'])\n",
    "opWriter.writerow(['1','2','3'])\n",
    "opFile.close()"
   ]
  },
  {
   "cell_type": "markdown",
   "id": "particular-graphics",
   "metadata": {},
   "source": [
    "# Q5 :\n",
    "#### What do the keyword arguments delimiter and line terminator do?"
   ]
  },
  {
   "cell_type": "markdown",
   "id": "spare-leisure",
   "metadata": {},
   "source": [
    "# Ans:"
   ]
  },
  {
   "cell_type": "markdown",
   "id": "satisfied-filling",
   "metadata": {},
   "source": [
    "> The delimiter argument changes the string used to separate cells in a row. \n",
    "\n",
    "> The lineterminator argument changes the string used to separate rows."
   ]
  },
  {
   "cell_type": "code",
   "execution_count": 4,
   "id": "thousand-maintenance",
   "metadata": {},
   "outputs": [],
   "source": [
    "import csv\n",
    "csvFile = open('example1.csv', 'w', newline='')\n",
    "csvWriter = csv.writer(csvFile, delimiter='\\t', lineterminator='\\n\\n')\n",
    "csvWriter.writerow(['egg','orange','milk'])\n",
    "csvWriter.writerow(['1','2','3'])\n",
    "csvFile.close()"
   ]
  },
  {
   "cell_type": "markdown",
   "id": "significant-stations",
   "metadata": {},
   "source": [
    "# Q6 :\n",
    "#### What function takes a string of JSON data and returns a Python data structure?"
   ]
  },
  {
   "cell_type": "markdown",
   "id": "liquid-testimony",
   "metadata": {},
   "source": [
    "# Ans:"
   ]
  },
  {
   "cell_type": "markdown",
   "id": "voluntary-recognition",
   "metadata": {},
   "source": [
    "> json.loads()"
   ]
  },
  {
   "cell_type": "markdown",
   "id": "classical-terrorist",
   "metadata": {},
   "source": [
    "# Q7 :\n",
    "#### What function takes a Python data structure and returns a string of JSON data?"
   ]
  },
  {
   "cell_type": "markdown",
   "id": "returning-mining",
   "metadata": {},
   "source": [
    "# Ans:"
   ]
  },
  {
   "cell_type": "markdown",
   "id": "ordinary-register",
   "metadata": {},
   "source": [
    "> json.dumps()"
   ]
  }
 ],
 "metadata": {
  "kernelspec": {
   "display_name": "Python 3",
   "language": "python",
   "name": "python3"
  },
  "language_info": {
   "codemirror_mode": {
    "name": "ipython",
    "version": 3
   },
   "file_extension": ".py",
   "mimetype": "text/x-python",
   "name": "python",
   "nbconvert_exporter": "python",
   "pygments_lexer": "ipython3",
   "version": "3.8.8"
  }
 },
 "nbformat": 4,
 "nbformat_minor": 5
}
