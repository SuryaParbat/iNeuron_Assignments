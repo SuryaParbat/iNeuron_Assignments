{
 "cells": [
  {
   "cell_type": "markdown",
   "id": "norwegian-dating",
   "metadata": {},
   "source": [
    "# Python Basic Assignment 14"
   ]
  },
  {
   "cell_type": "markdown",
   "id": "unknown-theater",
   "metadata": {},
   "source": [
    "# Q1 :\n",
    "#### What does RGBA stand for?"
   ]
  },
  {
   "cell_type": "markdown",
   "id": "anonymous-beads",
   "metadata": {},
   "source": [
    "# Ans:"
   ]
  },
  {
   "cell_type": "markdown",
   "id": "industrial-diesel",
   "metadata": {},
   "source": [
    "> An RGBA value is a tuple of 4 integers, each ranging from 0 to 255. The four integers correspond to the amount of red, green, blue, and alpha (transparency) in the color.\n",
    "\n"
   ]
  },
  {
   "cell_type": "markdown",
   "id": "fundamental-involvement",
   "metadata": {},
   "source": [
    "# Q2 :\n",
    "#### From the Pillow module, how do you get the RGBA value of any images?"
   ]
  },
  {
   "cell_type": "markdown",
   "id": "regional-turkey",
   "metadata": {},
   "source": [
    "# Ans:"
   ]
  },
  {
   "cell_type": "markdown",
   "id": "scientific-mercy",
   "metadata": {},
   "source": [
    "> A function call to ImageColor.getcolor('CornflowerBlue', 'RGBA') will return (100, 149, 237, 255), the RGBA value for that color.\n",
    "\n"
   ]
  },
  {
   "cell_type": "code",
   "execution_count": 1,
   "id": "alien-lafayette",
   "metadata": {},
   "outputs": [
    {
     "name": "stdout",
     "output_type": "stream",
     "text": [
      "(255, 0, 0, 255)\n",
      "(0, 128, 0, 255)\n"
     ]
    }
   ],
   "source": [
    "from PIL import ImageColor\n",
    "print(ImageColor.getcolor('red', 'RGBA'))\n",
    "print(ImageColor.getcolor('green', 'RGBA'))"
   ]
  },
  {
   "cell_type": "markdown",
   "id": "supported-chick",
   "metadata": {},
   "source": [
    "# Q3 :\n",
    "#### What is a box tuple, and how does it work?"
   ]
  },
  {
   "cell_type": "markdown",
   "id": "ongoing-investigator",
   "metadata": {},
   "source": [
    "# Ans:"
   ]
  },
  {
   "cell_type": "markdown",
   "id": "advance-expression",
   "metadata": {},
   "source": [
    "> A box tuple is a tuple value of four integers: the left edge x-coordinate, the top edge y-coordinate, the width, and the height, respectively."
   ]
  },
  {
   "cell_type": "markdown",
   "id": "pediatric-folder",
   "metadata": {},
   "source": [
    "# Q4 :\n",
    "#### Use your image and load in notebook then, How can you find out the width and height of an Image object?"
   ]
  },
  {
   "cell_type": "markdown",
   "id": "curious-sunglasses",
   "metadata": {},
   "source": [
    "# Ans:"
   ]
  },
  {
   "cell_type": "code",
   "execution_count": 2,
   "id": "particular-strip",
   "metadata": {},
   "outputs": [
    {
     "data": {
      "text/plain": [
       "(1662, 753)"
      ]
     },
     "execution_count": 2,
     "metadata": {},
     "output_type": "execute_result"
    }
   ],
   "source": [
    "from PIL import Image\n",
    "myImg = Image.open('mysql1.jpg')\n",
    "w,h = myImg.size\n",
    "w,h"
   ]
  },
  {
   "cell_type": "markdown",
   "id": "american-spank",
   "metadata": {},
   "source": [
    "# Q5 :\n",
    "#### What method would you call to get Image object for a 100×100 image, excluding the lower-left quarter of it?"
   ]
  },
  {
   "cell_type": "markdown",
   "id": "patent-polish",
   "metadata": {},
   "source": [
    "# Ans:"
   ]
  },
  {
   "cell_type": "code",
   "execution_count": 7,
   "id": "missing-agent",
   "metadata": {},
   "outputs": [
    {
     "data": {
      "text/plain": [
       "(50, 0)"
      ]
     },
     "execution_count": 7,
     "metadata": {},
     "output_type": "execute_result"
    }
   ],
   "source": [
    "from PIL import Image\n",
    "myImg = Image.open('mysql1.jpg')\n",
    "aa = myImg.crop((0, 50, 50, 50))\n",
    "aa.size"
   ]
  },
  {
   "cell_type": "markdown",
   "id": "exposed-wholesale",
   "metadata": {},
   "source": [
    "# Q6 :\n",
    "#### After making changes to an Image object, how could you save it as an image file?"
   ]
  },
  {
   "cell_type": "markdown",
   "id": "registered-landscape",
   "metadata": {},
   "source": [
    "# Ans:"
   ]
  },
  {
   "cell_type": "markdown",
   "id": "convinced-romantic",
   "metadata": {},
   "source": [
    "> By Calling the imageObj.save('new_filename.png') method of the Image object."
   ]
  },
  {
   "cell_type": "code",
   "execution_count": 13,
   "id": "contemporary-jenny",
   "metadata": {},
   "outputs": [],
   "source": [
    "from PIL import Image\n",
    "myImg = Image.open('mysql1.jpg')\n",
    "aa = myImg.crop((335,345,565,560))\n",
    "aa.save('mysql11.jpg')"
   ]
  },
  {
   "cell_type": "markdown",
   "id": "welcome-prospect",
   "metadata": {},
   "source": [
    "# Q7 :\n",
    "#### What module contains Pillow’s shape-drawing code?"
   ]
  },
  {
   "cell_type": "markdown",
   "id": "tribal-commissioner",
   "metadata": {},
   "source": [
    "# Ans:"
   ]
  },
  {
   "cell_type": "markdown",
   "id": "initial-checklist",
   "metadata": {},
   "source": [
    "> The ImageDraw module contains code to draw on images."
   ]
  },
  {
   "cell_type": "code",
   "execution_count": 16,
   "id": "interested-deployment",
   "metadata": {},
   "outputs": [],
   "source": [
    "from PIL import Image, ImageDraw\n",
    "\n",
    "im = Image.new('RGBA', (200, 200), 'white')\n",
    "\n",
    "draw = ImageDraw.Draw(im)\n",
    "\n",
    "draw.line([(0, 0), (199, 0), (199, 199), (0, 199), (0, 0)], fill='black')\n",
    "\n",
    "draw.rectangle((20, 30, 60, 60), fill='blue')\n",
    "\n",
    "draw.ellipse((120, 30, 160, 60), fill='red')\n",
    "\n",
    "draw.polygon(((57, 87), (79, 62), (94, 85), (120, 90), (103, 113)),fill='brown')\n",
    "\n",
    "for i in range(100, 200, 10):\n",
    "    draw.line([(i, 0), (200, i - 100)], fill='green')\n",
    "    \n",
    "im.save('drawing.png')"
   ]
  },
  {
   "cell_type": "markdown",
   "id": "interstate-military",
   "metadata": {},
   "source": [
    "# Q8 :\n",
    "#### Image objects do not have drawing methods. What kind of object does? How do you get this kind of object?"
   ]
  },
  {
   "cell_type": "markdown",
   "id": "harmful-peter",
   "metadata": {},
   "source": [
    "# Ans:"
   ]
  },
  {
   "cell_type": "markdown",
   "id": "vocal-toyota",
   "metadata": {},
   "source": [
    "> ImageDraw objects have shape-drawing methods such as point(), line(), or rectangle(). They are returned by passing the Image object to the ImageDraw.Draw() function"
   ]
  }
 ],
 "metadata": {
  "kernelspec": {
   "display_name": "Python 3",
   "language": "python",
   "name": "python3"
  },
  "language_info": {
   "codemirror_mode": {
    "name": "ipython",
    "version": 3
   },
   "file_extension": ".py",
   "mimetype": "text/x-python",
   "name": "python",
   "nbconvert_exporter": "python",
   "pygments_lexer": "ipython3",
   "version": "3.8.8"
  }
 },
 "nbformat": 4,
 "nbformat_minor": 5
}
