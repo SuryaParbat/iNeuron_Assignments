{
 "cells": [
  {
   "cell_type": "markdown",
   "id": "loose-dating",
   "metadata": {},
   "source": [
    "# Python Basic Assignment 12"
   ]
  },
  {
   "cell_type": "markdown",
   "id": "destroyed-burlington",
   "metadata": {},
   "source": [
    "# Q1 :\n",
    "#### In what modes should the PdfFileReader() and PdfFileWriter() File objects will be opened?"
   ]
  },
  {
   "cell_type": "markdown",
   "id": "comic-native",
   "metadata": {},
   "source": [
    "# Ans:"
   ]
  },
  {
   "cell_type": "markdown",
   "id": "authentic-treaty",
   "metadata": {},
   "source": [
    "> PdfFileReader() needs to be opened in read-binary mode by passing 'rb' as the second argument to open(). Likewise, the File object passed to PyPDF2. PdfFileWriter() needs to be opened in write-binary mode with 'wb'."
   ]
  },
  {
   "cell_type": "code",
   "execution_count": 2,
   "id": "tutorial-invention",
   "metadata": {},
   "outputs": [],
   "source": [
    "#!pip install PyPDF2"
   ]
  },
  {
   "cell_type": "markdown",
   "id": "bulgarian-pressure",
   "metadata": {},
   "source": [
    "# Q2 :\n",
    "#### From a PdfFileReader object, how do you get a Page object for page 5?"
   ]
  },
  {
   "cell_type": "markdown",
   "id": "demographic-nitrogen",
   "metadata": {},
   "source": [
    "# Ans:"
   ]
  },
  {
   "cell_type": "markdown",
   "id": "spiritual-russian",
   "metadata": {},
   "source": [
    "> Calling getPage(4) will return a Page object for page 5 since page 0 is the first page"
   ]
  },
  {
   "cell_type": "code",
   "execution_count": 5,
   "id": "vocational-authentication",
   "metadata": {},
   "outputs": [
    {
     "name": "stdout",
     "output_type": "stream",
     "text": [
      "548\n",
      "PYTHON \n",
      " CRASH COURSE2ND EDITIONA Hands-On, Project-Based \n",
      "Introduction to Programmingby Eric MatthesSan Francisco\n"
     ]
    }
   ],
   "source": [
    "# importing required modules\n",
    "import PyPDF2\n",
    "\n",
    "# creating a pdf file object\n",
    "pdfFileObj = open('Eric Matthes - Python Crash Course_ A Hands-On, Project-Based Introduction to Programming-No Starch Press (2019).pdf', 'rb')\n",
    "\n",
    "# creating a pdf reader object\n",
    "pdfReader = PyPDF2.PdfFileReader(pdfFileObj)\n",
    "\n",
    "# printing number of pages in pdf file\n",
    "print(pdfReader.numPages)\n",
    "\n",
    "# creating a page object\n",
    "pageObj = pdfReader.getPage(4)\n",
    "\n",
    "# extracting text from page\n",
    "print(pageObj.extractText())\n",
    "\n",
    "# closing the pdf file object\n",
    "pdfFileObj.close()\n"
   ]
  },
  {
   "cell_type": "markdown",
   "id": "classified-gamma",
   "metadata": {},
   "source": [
    "# Q3 :\n",
    "#### What PdfFileReader variable stores the number of pages in the PDF document?"
   ]
  },
  {
   "cell_type": "markdown",
   "id": "dimensional-blank",
   "metadata": {},
   "source": [
    "# Ans:"
   ]
  },
  {
   "cell_type": "markdown",
   "id": "caring-encyclopedia",
   "metadata": {},
   "source": [
    "> The PdfFileReader.numPages variable stores an integer of the number of pages in the PdfFileReader object"
   ]
  },
  {
   "cell_type": "code",
   "execution_count": 6,
   "id": "medieval-airline",
   "metadata": {},
   "outputs": [
    {
     "data": {
      "text/plain": [
       "16"
      ]
     },
     "execution_count": 6,
     "metadata": {},
     "output_type": "execute_result"
    }
   ],
   "source": [
    "import PyPDF2 as pdf\n",
    "pdfFileObj = open(\"MYSQL application.pdf\",'rb')\n",
    "pdfReader = pdf.PdfFileReader(pdfFileObj)\n",
    "pdfReader.numPages"
   ]
  },
  {
   "cell_type": "markdown",
   "id": "imperial-purpose",
   "metadata": {},
   "source": [
    "# Q4 :\n",
    "#### If a PdfFileReader object’s PDF is encrypted with the password swordfish, what must you do before you can obtain Page objects from it?"
   ]
  },
  {
   "cell_type": "markdown",
   "id": "upset-station",
   "metadata": {},
   "source": [
    "# Ans:"
   ]
  },
  {
   "cell_type": "markdown",
   "id": "prescription-employment",
   "metadata": {},
   "source": [
    "> Before we obtain the page object, the pdf has to be decrypted by calling .decrypt('swordfish')\n",
    "\n",
    "> pdfReader.decrypt('swordfish')"
   ]
  },
  {
   "cell_type": "markdown",
   "id": "productive-tourist",
   "metadata": {},
   "source": [
    "# Q5 :\n",
    "#### What methods do you use to rotate a page?"
   ]
  },
  {
   "cell_type": "markdown",
   "id": "traditional-helena",
   "metadata": {},
   "source": [
    "# Ans:"
   ]
  },
  {
   "cell_type": "markdown",
   "id": "dynamic-source",
   "metadata": {},
   "source": [
    "> The rotateClockwise() and rotateCounterClockwise() methods. The degrees to rotate is passed as an integer argument\n",
    "\n",
    "> pageObj.rotateCounterClockwise(180)"
   ]
  },
  {
   "cell_type": "markdown",
   "id": "tired-method",
   "metadata": {},
   "source": [
    "# Q6 :\n",
    "#### What is the difference between a Run object and a Paragraph object?"
   ]
  },
  {
   "cell_type": "markdown",
   "id": "incoming-topic",
   "metadata": {},
   "source": [
    "# Ans:"
   ]
  },
  {
   "cell_type": "markdown",
   "id": "suited-digest",
   "metadata": {},
   "source": [
    "> Paragraph Object :  \n",
    "\n",
    "> A document contains multiple paragraphs. A paragraph begins on a new line and contains multiple \n",
    "runs. \n",
    "\n",
    "> The Document object contains a list of Paragraph objects for the paragraphs in the document. (A new paragraph begins \n",
    "whenever the user presses ENTER or RETURN while typing in a Word document.)\n",
    "\n",
    "> Run Objects :\n",
    "\n",
    "> Runs are contiguous groups of characters within a paragraph with the same style"
   ]
  },
  {
   "cell_type": "markdown",
   "id": "curious-capability",
   "metadata": {},
   "source": [
    "# Q7 :\n",
    "#### How do you obtain a list of Paragraph objects for a Document object that’s stored in a variable named doc?"
   ]
  },
  {
   "cell_type": "markdown",
   "id": "moved-chase",
   "metadata": {},
   "source": [
    "# Ans:"
   ]
  },
  {
   "cell_type": "markdown",
   "id": "inner-wells",
   "metadata": {},
   "source": [
    "> By using doc.paragraphs"
   ]
  },
  {
   "cell_type": "code",
   "execution_count": 8,
   "id": "failing-condition",
   "metadata": {},
   "outputs": [],
   "source": [
    "#!pip install python-docx"
   ]
  },
  {
   "cell_type": "code",
   "execution_count": 9,
   "id": "centered-popularity",
   "metadata": {},
   "outputs": [
    {
     "data": {
      "text/plain": [
       "[<docx.text.paragraph.Paragraph at 0x1feb17940d0>,\n",
       " <docx.text.paragraph.Paragraph at 0x1feb17942b0>,\n",
       " <docx.text.paragraph.Paragraph at 0x1feb1794190>,\n",
       " <docx.text.paragraph.Paragraph at 0x1feb1794370>,\n",
       " <docx.text.paragraph.Paragraph at 0x1feb1794250>,\n",
       " <docx.text.paragraph.Paragraph at 0x1feb1794430>,\n",
       " <docx.text.paragraph.Paragraph at 0x1feb1794310>,\n",
       " <docx.text.paragraph.Paragraph at 0x1feb17944f0>,\n",
       " <docx.text.paragraph.Paragraph at 0x1feb17943d0>,\n",
       " <docx.text.paragraph.Paragraph at 0x1feb17945b0>,\n",
       " <docx.text.paragraph.Paragraph at 0x1feb1794490>,\n",
       " <docx.text.paragraph.Paragraph at 0x1feb1794670>,\n",
       " <docx.text.paragraph.Paragraph at 0x1feb1794550>,\n",
       " <docx.text.paragraph.Paragraph at 0x1feb1794730>,\n",
       " <docx.text.paragraph.Paragraph at 0x1feb1794610>,\n",
       " <docx.text.paragraph.Paragraph at 0x1feb17947f0>,\n",
       " <docx.text.paragraph.Paragraph at 0x1feb17946d0>,\n",
       " <docx.text.paragraph.Paragraph at 0x1feb17948b0>,\n",
       " <docx.text.paragraph.Paragraph at 0x1feb1794790>,\n",
       " <docx.text.paragraph.Paragraph at 0x1feb1794970>,\n",
       " <docx.text.paragraph.Paragraph at 0x1feb1794850>,\n",
       " <docx.text.paragraph.Paragraph at 0x1feb1794a30>,\n",
       " <docx.text.paragraph.Paragraph at 0x1feb1794910>,\n",
       " <docx.text.paragraph.Paragraph at 0x1feb1794af0>,\n",
       " <docx.text.paragraph.Paragraph at 0x1feb17949d0>,\n",
       " <docx.text.paragraph.Paragraph at 0x1feb1794bb0>,\n",
       " <docx.text.paragraph.Paragraph at 0x1feb1794a90>,\n",
       " <docx.text.paragraph.Paragraph at 0x1feb1794c70>,\n",
       " <docx.text.paragraph.Paragraph at 0x1feb1794b50>,\n",
       " <docx.text.paragraph.Paragraph at 0x1feb171bc10>,\n",
       " <docx.text.paragraph.Paragraph at 0x1feb1774e20>,\n",
       " <docx.text.paragraph.Paragraph at 0x1feb1774370>,\n",
       " <docx.text.paragraph.Paragraph at 0x1feb1774460>,\n",
       " <docx.text.paragraph.Paragraph at 0x1feb1774580>,\n",
       " <docx.text.paragraph.Paragraph at 0x1feb17744c0>,\n",
       " <docx.text.paragraph.Paragraph at 0x1feb1774640>,\n",
       " <docx.text.paragraph.Paragraph at 0x1feb1774520>,\n",
       " <docx.text.paragraph.Paragraph at 0x1feb17746d0>,\n",
       " <docx.text.paragraph.Paragraph at 0x1feb1774730>,\n",
       " <docx.text.paragraph.Paragraph at 0x1feb1774790>,\n",
       " <docx.text.paragraph.Paragraph at 0x1feb17747f0>,\n",
       " <docx.text.paragraph.Paragraph at 0x1feb1774850>,\n",
       " <docx.text.paragraph.Paragraph at 0x1feb17748b0>,\n",
       " <docx.text.paragraph.Paragraph at 0x1feb1774910>,\n",
       " <docx.text.paragraph.Paragraph at 0x1feb1774970>,\n",
       " <docx.text.paragraph.Paragraph at 0x1feb17749d0>,\n",
       " <docx.text.paragraph.Paragraph at 0x1feb1774a30>,\n",
       " <docx.text.paragraph.Paragraph at 0x1feb1774a90>,\n",
       " <docx.text.paragraph.Paragraph at 0x1feb1774af0>,\n",
       " <docx.text.paragraph.Paragraph at 0x1feb1774b50>,\n",
       " <docx.text.paragraph.Paragraph at 0x1feb1774bb0>,\n",
       " <docx.text.paragraph.Paragraph at 0x1feb1774c10>,\n",
       " <docx.text.paragraph.Paragraph at 0x1feb1774c70>,\n",
       " <docx.text.paragraph.Paragraph at 0x1feb1774cd0>,\n",
       " <docx.text.paragraph.Paragraph at 0x1feb1774d30>,\n",
       " <docx.text.paragraph.Paragraph at 0x1feb1774d90>,\n",
       " <docx.text.paragraph.Paragraph at 0x1feb1774df0>,\n",
       " <docx.text.paragraph.Paragraph at 0x1feb1774ee0>,\n",
       " <docx.text.paragraph.Paragraph at 0x1feb1774eb0>,\n",
       " <docx.text.paragraph.Paragraph at 0x1feb1774f10>,\n",
       " <docx.text.paragraph.Paragraph at 0x1feb1774fa0>,\n",
       " <docx.text.paragraph.Paragraph at 0x1feb1774400>,\n",
       " <docx.text.paragraph.Paragraph at 0x1feb17744f0>,\n",
       " <docx.text.paragraph.Paragraph at 0x1feb177edc0>,\n",
       " <docx.text.paragraph.Paragraph at 0x1feb177ee20>,\n",
       " <docx.text.paragraph.Paragraph at 0x1feb177ee80>,\n",
       " <docx.text.paragraph.Paragraph at 0x1feb177eee0>,\n",
       " <docx.text.paragraph.Paragraph at 0x1feb177ef40>,\n",
       " <docx.text.paragraph.Paragraph at 0x1feb177efa0>,\n",
       " <docx.text.paragraph.Paragraph at 0x1feb179f040>,\n",
       " <docx.text.paragraph.Paragraph at 0x1feb179f0a0>,\n",
       " <docx.text.paragraph.Paragraph at 0x1feb179f100>,\n",
       " <docx.text.paragraph.Paragraph at 0x1feb179f160>,\n",
       " <docx.text.paragraph.Paragraph at 0x1feb179f1c0>,\n",
       " <docx.text.paragraph.Paragraph at 0x1feb179f220>,\n",
       " <docx.text.paragraph.Paragraph at 0x1feb179f280>,\n",
       " <docx.text.paragraph.Paragraph at 0x1feb179f2e0>,\n",
       " <docx.text.paragraph.Paragraph at 0x1feb179f340>,\n",
       " <docx.text.paragraph.Paragraph at 0x1feb179f3a0>,\n",
       " <docx.text.paragraph.Paragraph at 0x1feb179f400>,\n",
       " <docx.text.paragraph.Paragraph at 0x1feb179f460>,\n",
       " <docx.text.paragraph.Paragraph at 0x1feb179f4c0>,\n",
       " <docx.text.paragraph.Paragraph at 0x1feb179f520>,\n",
       " <docx.text.paragraph.Paragraph at 0x1feb179f580>,\n",
       " <docx.text.paragraph.Paragraph at 0x1feb179f5e0>,\n",
       " <docx.text.paragraph.Paragraph at 0x1feb179f640>,\n",
       " <docx.text.paragraph.Paragraph at 0x1feb179f6a0>,\n",
       " <docx.text.paragraph.Paragraph at 0x1feb179f700>,\n",
       " <docx.text.paragraph.Paragraph at 0x1feb179f760>,\n",
       " <docx.text.paragraph.Paragraph at 0x1feb179f7c0>,\n",
       " <docx.text.paragraph.Paragraph at 0x1feb179f820>,\n",
       " <docx.text.paragraph.Paragraph at 0x1feb179f880>,\n",
       " <docx.text.paragraph.Paragraph at 0x1feb179f8e0>,\n",
       " <docx.text.paragraph.Paragraph at 0x1feb179f940>,\n",
       " <docx.text.paragraph.Paragraph at 0x1feb179f9a0>,\n",
       " <docx.text.paragraph.Paragraph at 0x1feb179fa00>,\n",
       " <docx.text.paragraph.Paragraph at 0x1feb179fa60>,\n",
       " <docx.text.paragraph.Paragraph at 0x1feb179fac0>,\n",
       " <docx.text.paragraph.Paragraph at 0x1feb179fb20>,\n",
       " <docx.text.paragraph.Paragraph at 0x1feb179fb80>,\n",
       " <docx.text.paragraph.Paragraph at 0x1feb179fbe0>,\n",
       " <docx.text.paragraph.Paragraph at 0x1feb179fc40>,\n",
       " <docx.text.paragraph.Paragraph at 0x1feb179fca0>,\n",
       " <docx.text.paragraph.Paragraph at 0x1feb179fd00>,\n",
       " <docx.text.paragraph.Paragraph at 0x1feb179fd60>,\n",
       " <docx.text.paragraph.Paragraph at 0x1feb179fdc0>,\n",
       " <docx.text.paragraph.Paragraph at 0x1feb179fe20>,\n",
       " <docx.text.paragraph.Paragraph at 0x1feb179fe80>,\n",
       " <docx.text.paragraph.Paragraph at 0x1feb179fee0>,\n",
       " <docx.text.paragraph.Paragraph at 0x1feb179ff40>,\n",
       " <docx.text.paragraph.Paragraph at 0x1feb179ffa0>,\n",
       " <docx.text.paragraph.Paragraph at 0x1feb17a0040>,\n",
       " <docx.text.paragraph.Paragraph at 0x1feb17a00a0>,\n",
       " <docx.text.paragraph.Paragraph at 0x1feb17a0100>,\n",
       " <docx.text.paragraph.Paragraph at 0x1feb17a0160>,\n",
       " <docx.text.paragraph.Paragraph at 0x1feb17a01c0>,\n",
       " <docx.text.paragraph.Paragraph at 0x1feb17a0220>,\n",
       " <docx.text.paragraph.Paragraph at 0x1feb17a0280>,\n",
       " <docx.text.paragraph.Paragraph at 0x1feb17a02e0>,\n",
       " <docx.text.paragraph.Paragraph at 0x1feb17a0340>,\n",
       " <docx.text.paragraph.Paragraph at 0x1feb17a03a0>,\n",
       " <docx.text.paragraph.Paragraph at 0x1feb17a0400>,\n",
       " <docx.text.paragraph.Paragraph at 0x1feb17a0460>,\n",
       " <docx.text.paragraph.Paragraph at 0x1feb17a04c0>,\n",
       " <docx.text.paragraph.Paragraph at 0x1feb17a0520>,\n",
       " <docx.text.paragraph.Paragraph at 0x1feb17a0580>,\n",
       " <docx.text.paragraph.Paragraph at 0x1feb17a05e0>,\n",
       " <docx.text.paragraph.Paragraph at 0x1feb17a0640>,\n",
       " <docx.text.paragraph.Paragraph at 0x1feb17a06a0>,\n",
       " <docx.text.paragraph.Paragraph at 0x1feb17a0700>,\n",
       " <docx.text.paragraph.Paragraph at 0x1feb17a0760>,\n",
       " <docx.text.paragraph.Paragraph at 0x1feb17a07c0>,\n",
       " <docx.text.paragraph.Paragraph at 0x1feb17a0820>,\n",
       " <docx.text.paragraph.Paragraph at 0x1feb17a0880>,\n",
       " <docx.text.paragraph.Paragraph at 0x1feb17a08e0>,\n",
       " <docx.text.paragraph.Paragraph at 0x1feb17a0940>,\n",
       " <docx.text.paragraph.Paragraph at 0x1feb17a09a0>,\n",
       " <docx.text.paragraph.Paragraph at 0x1feb17a0a00>,\n",
       " <docx.text.paragraph.Paragraph at 0x1feb17a0a60>,\n",
       " <docx.text.paragraph.Paragraph at 0x1feb17a0ac0>,\n",
       " <docx.text.paragraph.Paragraph at 0x1feb17a0b20>,\n",
       " <docx.text.paragraph.Paragraph at 0x1feb17a0b80>,\n",
       " <docx.text.paragraph.Paragraph at 0x1feb17a0be0>]"
      ]
     },
     "execution_count": 9,
     "metadata": {},
     "output_type": "execute_result"
    }
   ],
   "source": [
    "import docx\n",
    "doc = docx.Document('MYSQL application.docx')\n",
    "doc.paragraphs"
   ]
  },
  {
   "cell_type": "markdown",
   "id": "narrative-niagara",
   "metadata": {},
   "source": [
    "# Q8 :\n",
    "#### What type of object has bold, underline, italic, strike, and outline variables?"
   ]
  },
  {
   "cell_type": "markdown",
   "id": "quality-rover",
   "metadata": {},
   "source": [
    "# Ans:"
   ]
  },
  {
   "cell_type": "markdown",
   "id": "expensive-meeting",
   "metadata": {},
   "source": [
    "> A Run object has bold, underline,italic,strike and outline variables."
   ]
  },
  {
   "cell_type": "markdown",
   "id": "soviet-rally",
   "metadata": {},
   "source": [
    "# Q9 :\n",
    "#### What is the difference between False, True, and None for the bold variable?"
   ]
  },
  {
   "cell_type": "markdown",
   "id": "furnished-indianapolis",
   "metadata": {},
   "source": [
    "# Ans:"
   ]
  },
  {
   "cell_type": "markdown",
   "id": "going-register",
   "metadata": {},
   "source": [
    "> True always makes the Run object bolded and False makes it always not bolded, no matter what the style’s\n",
    "bold setting is. None will make the Run object just use the style’s bold setting."
   ]
  },
  {
   "cell_type": "markdown",
   "id": "equal-neighbor",
   "metadata": {},
   "source": [
    "# Q10 :\n",
    "#### How do you create a Document object for a new Word document?"
   ]
  },
  {
   "cell_type": "markdown",
   "id": "twenty-conversion",
   "metadata": {},
   "source": [
    "# Ans:"
   ]
  },
  {
   "cell_type": "markdown",
   "id": "standard-dover",
   "metadata": {},
   "source": [
    "> Call the docx.Document() function."
   ]
  },
  {
   "cell_type": "markdown",
   "id": "damaged-starter",
   "metadata": {},
   "source": [
    "# Q11 :\n",
    "#### How do you add a paragraph with the text &#39;Hello, there!&#39; to a Document object stored in a variable named doc?"
   ]
  },
  {
   "cell_type": "code",
   "execution_count": null,
   "id": "excess-break",
   "metadata": {},
   "outputs": [],
   "source": [
    "import docx\n",
    "doc = docx.Document()\n",
    "\n",
    "doc.add_paragraph('Hello there!')\n",
    "doc.save('hellothere.docx')"
   ]
  },
  {
   "cell_type": "markdown",
   "id": "colored-concentrate",
   "metadata": {},
   "source": [
    "# Q12 :\n",
    "#### What integers represent the levels of headings available in Word documents?"
   ]
  },
  {
   "cell_type": "markdown",
   "id": "foster-holly",
   "metadata": {},
   "source": [
    "# Ans:"
   ]
  },
  {
   "cell_type": "markdown",
   "id": "indie-southwest",
   "metadata": {},
   "source": [
    "> integer from 0 to 4\n",
    "\n",
    "> The arguments to add_heading() are a string of the heading text and an integer from 0 to 4. The integer 0 makes the heading the Title style, which is used for the top of the document. Integers 1 to 4 are for various heading levels, with 1 being the main heading and 4 the lowest subheading"
   ]
  }
 ],
 "metadata": {
  "kernelspec": {
   "display_name": "Python 3",
   "language": "python",
   "name": "python3"
  },
  "language_info": {
   "codemirror_mode": {
    "name": "ipython",
    "version": 3
   },
   "file_extension": ".py",
   "mimetype": "text/x-python",
   "name": "python",
   "nbconvert_exporter": "python",
   "pygments_lexer": "ipython3",
   "version": "3.8.8"
  }
 },
 "nbformat": 4,
 "nbformat_minor": 5
}
