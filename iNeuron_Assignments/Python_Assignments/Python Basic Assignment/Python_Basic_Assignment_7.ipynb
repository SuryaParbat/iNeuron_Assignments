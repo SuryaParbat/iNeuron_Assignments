{
 "cells": [
  {
   "cell_type": "markdown",
   "id": "polar-liquid",
   "metadata": {},
   "source": [
    "# Python Basic Assignment 7"
   ]
  },
  {
   "cell_type": "markdown",
   "id": "difficult-straight",
   "metadata": {},
   "source": [
    "# Q1 :\n",
    "#### What is the name of the feature responsible for generating Regex objects?"
   ]
  },
  {
   "cell_type": "markdown",
   "id": "announced-animal",
   "metadata": {},
   "source": [
    "# Ans:"
   ]
  },
  {
   "cell_type": "markdown",
   "id": "ranging-sleeve",
   "metadata": {},
   "source": [
    "> import re\n",
    "\n",
    "> The re.compile() function returns Regex objects."
   ]
  },
  {
   "cell_type": "markdown",
   "id": "adverse-munich",
   "metadata": {},
   "source": [
    "# Q2 :\n",
    "##### Why do raw strings often appear in Regex objects?"
   ]
  },
  {
   "cell_type": "markdown",
   "id": "smooth-horror",
   "metadata": {},
   "source": [
    "# Ans:"
   ]
  },
  {
   "cell_type": "markdown",
   "id": "korean-immigration",
   "metadata": {},
   "source": [
    "> Raw strings are used so that backslashes do not have to be escaped."
   ]
  },
  {
   "cell_type": "markdown",
   "id": "listed-burner",
   "metadata": {},
   "source": [
    "# Q3 :\n",
    "#### What is the return value of the search() method?"
   ]
  },
  {
   "cell_type": "markdown",
   "id": "periodic-shore",
   "metadata": {},
   "source": [
    "# Ans:"
   ]
  },
  {
   "cell_type": "markdown",
   "id": "successful-functionality",
   "metadata": {},
   "source": [
    "> The search() method returns Match objects.\n",
    "\n",
    "> The search() method searches a string for a specified value, and returns the position of the match.\n",
    "\n",
    "> The search value can be string or a regular expression.\n",
    "\n",
    "> This method returns -1 if no match is found"
   ]
  },
  {
   "cell_type": "markdown",
   "id": "permanent-architect",
   "metadata": {},
   "source": [
    "# Q4 :\n",
    "#### From a Match item, how do you get the actual strings that match the pattern?"
   ]
  },
  {
   "cell_type": "markdown",
   "id": "collected-rotation",
   "metadata": {},
   "source": [
    "# Ans:"
   ]
  },
  {
   "cell_type": "markdown",
   "id": "convinced-election",
   "metadata": {},
   "source": [
    "> The group() method returns strings of the matched text.\n",
    "\n",
    "> Calling matchingObject.group() will return the string."
   ]
  },
  {
   "cell_type": "code",
   "execution_count": 2,
   "id": "necessary-preparation",
   "metadata": {},
   "outputs": [
    {
     "name": "stdout",
     "output_type": "stream",
     "text": [
      "Phone number found: 415-555-4242\n"
     ]
    }
   ],
   "source": [
    "import re\n",
    "phoneNumRegex = re.compile(r'\\d\\d\\d-\\d\\d\\d-\\d\\d\\d\\d')\n",
    "no = phoneNumRegex.search('My number is 415-555-4242.')\n",
    "print('Phone number found: ' + no.group())"
   ]
  },
  {
   "cell_type": "markdown",
   "id": "built-providence",
   "metadata": {},
   "source": [
    "# Q5 :\n",
    "#### In the regex which created from the r&#39;(\\d\\d\\d)-(\\d\\d\\d-\\d\\d\\d\\d)&#39;, what does group zero cover? Group 2? Group 1?"
   ]
  },
  {
   "cell_type": "markdown",
   "id": "restricted-distinction",
   "metadata": {},
   "source": [
    "# Ans:"
   ]
  },
  {
   "cell_type": "markdown",
   "id": "skilled-germany",
   "metadata": {},
   "source": [
    "> group 0 is the entire match, group 1 covers the first set of parentheses, and group 2 covers the second set of parentheses.\n",
    "\n"
   ]
  },
  {
   "cell_type": "code",
   "execution_count": 6,
   "id": "specific-cooper",
   "metadata": {},
   "outputs": [
    {
     "data": {
      "text/plain": [
       "'555-4242'"
      ]
     },
     "execution_count": 6,
     "metadata": {},
     "output_type": "execute_result"
    }
   ],
   "source": [
    "phoneNumRegex = re.compile(r'(\\d\\d\\d)-(\\d\\d\\d-\\d\\d\\d\\d)')\n",
    "mo = phoneNumRegex.search('My number is 415-555-4242.')\n",
    "mo.group(2)"
   ]
  },
  {
   "cell_type": "markdown",
   "id": "constitutional-detail",
   "metadata": {},
   "source": [
    "# Q6 :\n",
    "#### In standard expression syntax, parentheses and intervals have distinct meanings. How can you tell a regex that you want it to fit real parentheses and periods?"
   ]
  },
  {
   "cell_type": "markdown",
   "id": "preceding-poster",
   "metadata": {},
   "source": [
    "# Ans:"
   ]
  },
  {
   "cell_type": "markdown",
   "id": "confused-puppy",
   "metadata": {},
   "source": [
    "    Periods and parentheses can be escaped with a backslash: \\., \\(, and \\)."
   ]
  },
  {
   "cell_type": "markdown",
   "id": "frozen-parcel",
   "metadata": {},
   "source": [
    "# Q7 :\n",
    "#### The findall() method returns a string list or a list of string tuples. What causes it to return one of the two options?"
   ]
  },
  {
   "cell_type": "markdown",
   "id": "enclosed-revolution",
   "metadata": {},
   "source": [
    "# Ans:"
   ]
  },
  {
   "cell_type": "markdown",
   "id": "pretty-nudist",
   "metadata": {},
   "source": [
    "> If the regex has no groups, a list of strings is returned. If the regex has groups, a list of tuples of strings is returned."
   ]
  },
  {
   "cell_type": "markdown",
   "id": "entertaining-calvin",
   "metadata": {},
   "source": [
    "# Q8 :\n",
    "#### In standard expressions, what does the | character mean?"
   ]
  },
  {
   "cell_type": "markdown",
   "id": "sweet-transcription",
   "metadata": {},
   "source": [
    "# Ans:"
   ]
  },
  {
   "cell_type": "markdown",
   "id": "interesting-syracuse",
   "metadata": {},
   "source": [
    "> The | character is called a pipe. You can use it anywhere you want to match one of many expressions. \n",
    "For example, the regular expression r'Banana|Apple Fruit' will match either 'Banana' or 'Apple Fruit'.\n",
    "\n",
    "> When both Banana and Apple Fruit occur in the searched string, the first occurrence of matching text will be \n",
    "returned as the Match object.\n",
    "\n",
    "\n",
    "> The | character signifies matching “either, or” between two groups."
   ]
  },
  {
   "cell_type": "code",
   "execution_count": 7,
   "id": "efficient-fancy",
   "metadata": {},
   "outputs": [
    {
     "data": {
      "text/plain": [
       "'Banana'"
      ]
     },
     "execution_count": 7,
     "metadata": {},
     "output_type": "execute_result"
    }
   ],
   "source": [
    "fruitRegex = re.compile (r'Banana|Apple Fruit')\n",
    "match = fruitRegex.search('Banana and Apple Fruit')\n",
    "match.group()"
   ]
  },
  {
   "cell_type": "code",
   "execution_count": 8,
   "id": "unknown-affiliation",
   "metadata": {},
   "outputs": [
    {
     "data": {
      "text/plain": [
       "'Apple Fruit'"
      ]
     },
     "execution_count": 8,
     "metadata": {},
     "output_type": "execute_result"
    }
   ],
   "source": [
    "match1 = fruitRegex.search('Apple Fruit and Banana')\n",
    "match1.group()"
   ]
  },
  {
   "cell_type": "markdown",
   "id": "handmade-project",
   "metadata": {},
   "source": [
    "# Q9 :\n",
    "#### In regular expressions, what does the character \"?\" stand for?"
   ]
  },
  {
   "cell_type": "markdown",
   "id": "italian-admission",
   "metadata": {},
   "source": [
    "# Ans:"
   ]
  },
  {
   "cell_type": "markdown",
   "id": "driven-wisconsin",
   "metadata": {},
   "source": [
    "> The ? character can either mean “match zero or one of the preceding group” or be used to signify nongreedy matching.\n",
    "\n"
   ]
  },
  {
   "cell_type": "code",
   "execution_count": 11,
   "id": "brave-remains",
   "metadata": {},
   "outputs": [
    {
     "data": {
      "text/plain": [
       "'Batman'"
      ]
     },
     "execution_count": 11,
     "metadata": {},
     "output_type": "execute_result"
    }
   ],
   "source": [
    "batRegex = re.compile(r'Bat(wo)?man')\n",
    "Match2 = batRegex.search('The Adventures of Batman')\n",
    "Match2.group()"
   ]
  },
  {
   "cell_type": "code",
   "execution_count": 12,
   "id": "wicked-metropolitan",
   "metadata": {},
   "outputs": [
    {
     "data": {
      "text/plain": [
       "'Batwoman'"
      ]
     },
     "execution_count": 12,
     "metadata": {},
     "output_type": "execute_result"
    }
   ],
   "source": [
    "match = batRegex.search('The Adventures of Batwoman')\n",
    "match.group()"
   ]
  },
  {
   "cell_type": "markdown",
   "id": "gentle-camcorder",
   "metadata": {},
   "source": [
    "# Q10 :\n",
    "#### In regular expressions, what is the difference between the + and * characters?"
   ]
  },
  {
   "cell_type": "markdown",
   "id": "colonial-jewel",
   "metadata": {},
   "source": [
    "# Ans:\n",
    "    "
   ]
  },
  {
   "cell_type": "markdown",
   "id": "requested-jamaica",
   "metadata": {},
   "source": [
    "> The + matches one or more. The * matches zero or more."
   ]
  },
  {
   "cell_type": "markdown",
   "id": "stretch-yugoslavia",
   "metadata": {},
   "source": [
    "# Q11 :\n",
    "#### What is the difference between {4} and {4,5} in regular expression?"
   ]
  },
  {
   "cell_type": "markdown",
   "id": "determined-eagle",
   "metadata": {},
   "source": [
    "# Ans:"
   ]
  },
  {
   "cell_type": "markdown",
   "id": "introductory-knife",
   "metadata": {},
   "source": [
    "> The {4} matches exactly three instances of the preceding group. The {4,5} matches between three and five instances."
   ]
  },
  {
   "cell_type": "markdown",
   "id": "retained-assets",
   "metadata": {},
   "source": [
    "# Q12 :\n",
    "#### What do you mean by the \\d, \\w, and \\s shorthand character classes signify in regular expressions?"
   ]
  },
  {
   "cell_type": "markdown",
   "id": "spatial-schedule",
   "metadata": {},
   "source": [
    "# Ans:"
   ]
  },
  {
   "cell_type": "markdown",
   "id": "sophisticated-eleven",
   "metadata": {},
   "source": [
    "> The \\d, \\w, and \\s shorthand character classes match a single digit, word, or space character, respectively.\n",
    "\n",
    "> The \\d, stands for single digit, Any numeric digit from 0 to 9\n",
    "\n",
    "> \\w, stands for single word, Any letter, numeric digit, or the underscore character. (Think of this as matching “word” \n",
    "characters.)\n",
    "\n",
    "> \\s stands for single space character, Any space, tab, or newline character. (Think of this as matching “space” \n",
    "characters.)"
   ]
  },
  {
   "cell_type": "markdown",
   "id": "hindu-works",
   "metadata": {},
   "source": [
    "# Q13 :\n",
    "#### What do means by \\D, \\W, and \\S shorthand character classes signify in regular expressions?"
   ]
  },
  {
   "cell_type": "markdown",
   "id": "explicit-perception",
   "metadata": {},
   "source": [
    "# Ans:"
   ]
  },
  {
   "cell_type": "markdown",
   "id": "offshore-tender",
   "metadata": {},
   "source": [
    "> The \\D, \\W, and \\S shorthand character classes match a single character that is not a digit, word, or space character, respectively.\n",
    "\n",
    "> \\D --- > Any character that is not a numeric digit from 0 to 9.\n",
    "\n",
    "> \\W --- > Any character that is not a letter, numeric digit, or the underscore character.\n",
    "\n",
    "> \\S --- > Any character that is not a space, tab, or newline.\n",
    "\n"
   ]
  },
  {
   "cell_type": "markdown",
   "id": "wireless-street",
   "metadata": {},
   "source": [
    "# Q14 :\n",
    "#### What is the difference between .* and .*?  ?"
   ]
  },
  {
   "cell_type": "markdown",
   "id": "widespread-synthesis",
   "metadata": {},
   "source": [
    "# Ans:"
   ]
  },
  {
   "cell_type": "markdown",
   "id": "broken-england",
   "metadata": {},
   "source": [
    "> The .* performs a greedy match, and the .*? performs a nongreedy match."
   ]
  },
  {
   "cell_type": "code",
   "execution_count": 13,
   "id": "stainless-scheme",
   "metadata": {},
   "outputs": [
    {
     "data": {
      "text/plain": [
       "'<To serve man> for dinner.>'"
      ]
     },
     "execution_count": 13,
     "metadata": {},
     "output_type": "execute_result"
    }
   ],
   "source": [
    "greedyRegex = re.compile(r'<.*>')\n",
    "match = greedyRegex.search('<To serve man> for dinner.>')\n",
    "match.group()"
   ]
  },
  {
   "cell_type": "code",
   "execution_count": 14,
   "id": "premium-gothic",
   "metadata": {},
   "outputs": [
    {
     "data": {
      "text/plain": [
       "'<To serve man>'"
      ]
     },
     "execution_count": 14,
     "metadata": {},
     "output_type": "execute_result"
    }
   ],
   "source": [
    "nongreedyRegex = re.compile(r'<.*?>')\n",
    "match = nongreedyRegex.search('<To serve man> for dinner.>')\n",
    "match.group()"
   ]
  },
  {
   "cell_type": "markdown",
   "id": "weighted-chemical",
   "metadata": {},
   "source": [
    "# Q15 :\n",
    "#### What is the syntax for matching both numbers and lowercase letters with a character class?"
   ]
  },
  {
   "cell_type": "markdown",
   "id": "rocky-bearing",
   "metadata": {},
   "source": [
    "# Ans:"
   ]
  },
  {
   "cell_type": "markdown",
   "id": "bright-action",
   "metadata": {},
   "source": [
    "> Either [0-9a-z] or [a-z0-9]"
   ]
  },
  {
   "cell_type": "markdown",
   "id": "stuck-aggregate",
   "metadata": {},
   "source": [
    "# Q16 :\n",
    "#### What is the procedure for making a normal expression in regax case insensitive?"
   ]
  },
  {
   "cell_type": "markdown",
   "id": "wireless-fever",
   "metadata": {},
   "source": [
    "# Ans:"
   ]
  },
  {
   "cell_type": "markdown",
   "id": "mineral-protection",
   "metadata": {},
   "source": [
    "> Passing re.I or re.IGNORECASE as the second argument to re.compile() will make the matching case insensitive."
   ]
  },
  {
   "cell_type": "code",
   "execution_count": 15,
   "id": "separate-arizona",
   "metadata": {},
   "outputs": [
    {
     "data": {
      "text/plain": [
       "'AI'"
      ]
     },
     "execution_count": 15,
     "metadata": {},
     "output_type": "execute_result"
    }
   ],
   "source": [
    "casesen = re.compile(r'ai', re.I)\n",
    "casesen.search('AI is part of data science').group()"
   ]
  },
  {
   "cell_type": "markdown",
   "id": "about-consciousness",
   "metadata": {},
   "source": [
    "# Q17 :\n",
    "#### What does the . character normally match? What does it match if re.DOTALL is passed as 2nd argument in re.compile()?"
   ]
  },
  {
   "cell_type": "markdown",
   "id": "natural-pursuit",
   "metadata": {},
   "source": [
    "# Ans:"
   ]
  },
  {
   "cell_type": "markdown",
   "id": "heard-configuration",
   "metadata": {},
   "source": [
    "> The . character normally matches any character except the newline character. \n",
    "\n",
    "> If re.DOTALL is passed as the second argument to re.compile(), then the dot will also match newline characters."
   ]
  },
  {
   "cell_type": "markdown",
   "id": "senior-truck",
   "metadata": {},
   "source": [
    "# Q18 :\n",
    "#### If numReg = re.compile(r&#39;\\d+&#39;), what will numRegex.sub(&#39;X&#39;, &#39;11 drummers, 10 pipers, five rings, 4 hen&#39;) return?"
   ]
  },
  {
   "cell_type": "markdown",
   "id": "diverse-english",
   "metadata": {},
   "source": [
    "# Ans:"
   ]
  },
  {
   "cell_type": "code",
   "execution_count": 16,
   "id": "contemporary-sudan",
   "metadata": {},
   "outputs": [
    {
     "data": {
      "text/plain": [
       "'X drummers, X pipers, five rings, X hen'"
      ]
     },
     "execution_count": 16,
     "metadata": {},
     "output_type": "execute_result"
    }
   ],
   "source": [
    "numRegex = re.compile(r'\\d+')\n",
    "match = numRegex.sub('X', '11 drummers, 10 pipers, five rings, 4 hen')\n",
    "match"
   ]
  },
  {
   "cell_type": "markdown",
   "id": "removable-parallel",
   "metadata": {},
   "source": [
    "# Q19 :\n",
    "#### What does passing re.VERBOSE as the 2nd argument to re.compile() allow to do?"
   ]
  },
  {
   "cell_type": "markdown",
   "id": "systematic-conjunction",
   "metadata": {},
   "source": [
    "# Ans:"
   ]
  },
  {
   "cell_type": "markdown",
   "id": "located-contrast",
   "metadata": {},
   "source": [
    "> The re.VERBOSE argument allows you to add whitespace and comments to the string passed to re.compile()."
   ]
  },
  {
   "cell_type": "markdown",
   "id": "quality-annex",
   "metadata": {},
   "source": [
    "# Q20 :\n",
    "#### How would you write a regex that match a number with comma for every three digits? It must match the given following:\n",
    "#### &#39;42&#39;\n",
    "#### &#39;1,234&#39;\n",
    "#### &#39;6,368,745&#39;\n",
    "\n",
    "#### but not the following:\n",
    "#### &#39;12,34,567&#39; (which has only two digits between the commas)\n",
    "#### &#39;1234&#39; (which lacks commas)"
   ]
  },
  {
   "cell_type": "code",
   "execution_count": 19,
   "id": "interpreted-donna",
   "metadata": {},
   "outputs": [
    {
     "data": {
      "text/plain": [
       "'42'"
      ]
     },
     "execution_count": 19,
     "metadata": {},
     "output_type": "execute_result"
    }
   ],
   "source": [
    "reg1 = re.compile(r'^\\d{1,3}(,\\d{3})*$')\n",
    "match = reg1.search('42')\n",
    "match.group()"
   ]
  },
  {
   "cell_type": "code",
   "execution_count": 24,
   "id": "bored-catering",
   "metadata": {},
   "outputs": [
    {
     "data": {
      "text/plain": [
       "'1,234'"
      ]
     },
     "execution_count": 24,
     "metadata": {},
     "output_type": "execute_result"
    }
   ],
   "source": [
    "reg1 = re.compile(r'^\\d{1,3}(,\\d{3})*$')\n",
    "match = reg1.search('1,234')\n",
    "match.group()"
   ]
  },
  {
   "cell_type": "code",
   "execution_count": 25,
   "id": "welcome-concern",
   "metadata": {},
   "outputs": [
    {
     "data": {
      "text/plain": [
       "'6,368,745'"
      ]
     },
     "execution_count": 25,
     "metadata": {},
     "output_type": "execute_result"
    }
   ],
   "source": [
    "reg1 = re.compile(r'^\\d{1,3}(,\\d{3})*$')\n",
    "match = reg1.search('6,368,745')\n",
    "match.group()"
   ]
  },
  {
   "cell_type": "markdown",
   "id": "forty-fountain",
   "metadata": {},
   "source": [
    "# Q21 :\n",
    "### How would you write a regex that matches the full name of someone whose last name is Watanabe? You can assume that the first name that comes before it will always be one word that begins with a capital letter. The regex must match the following:"
   ]
  },
  {
   "cell_type": "markdown",
   "id": "graphic-midwest",
   "metadata": {},
   "source": [
    "&#39;Haruto Watanabe&#39;\n",
    "\n",
    "&#39;Alice Watanabe&#39;\n",
    "\n",
    "&#39;RoboCop Watanabe&#39;\n",
    "\n",
    "but not the following:\n",
    "    \n",
    "&#39;haruto Watanabe&#39; (where the first name is not capitalized)\n",
    "\n",
    "&#39;Mr. Watanabe&#39; (where the preceding word has a nonletter character)\n",
    "\n",
    "&#39;Watanabe&#39; (which has no first name)\n",
    "\n",
    "&#39;Haruto watanabe&#39; (where Watanabe is not capitalized)"
   ]
  },
  {
   "cell_type": "markdown",
   "id": "printable-smoke",
   "metadata": {},
   "source": [
    "# Ans:"
   ]
  },
  {
   "cell_type": "code",
   "execution_count": 30,
   "id": "secret-miracle",
   "metadata": {},
   "outputs": [
    {
     "data": {
      "text/plain": [
       "'Haruto Watanabe'"
      ]
     },
     "execution_count": 30,
     "metadata": {},
     "output_type": "execute_result"
    }
   ],
   "source": [
    "name = re.compile(r'[A-Z][a-z]*\\sWatanabe')\n",
    "#reg1 = re.compile(r'^\\d{1,3}(,\\d{haruto Watanabe3})*$')\n",
    "match = name.search('Haruto Watanabe')\n",
    "match.group()"
   ]
  },
  {
   "cell_type": "code",
   "execution_count": 31,
   "id": "precious-violin",
   "metadata": {},
   "outputs": [
    {
     "data": {
      "text/plain": [
       "'Alice Watanabe'"
      ]
     },
     "execution_count": 31,
     "metadata": {},
     "output_type": "execute_result"
    }
   ],
   "source": [
    "name = re.compile(r'[A-Z][a-z]*\\sWatanabe')\n",
    "match = name.search('Alice Watanabe')\n",
    "match.group()"
   ]
  },
  {
   "cell_type": "code",
   "execution_count": 32,
   "id": "reliable-shannon",
   "metadata": {},
   "outputs": [
    {
     "data": {
      "text/plain": [
       "'Robocop Watanabe'"
      ]
     },
     "execution_count": 32,
     "metadata": {},
     "output_type": "execute_result"
    }
   ],
   "source": [
    "name = re.compile(r'[A-Z][a-z]*\\sWatanabe')\n",
    "match = name.search('Robocop Watanabe')\n",
    "match.group()"
   ]
  },
  {
   "cell_type": "code",
   "execution_count": 33,
   "id": "danish-calibration",
   "metadata": {},
   "outputs": [
    {
     "ename": "AttributeError",
     "evalue": "'NoneType' object has no attribute 'group'",
     "output_type": "error",
     "traceback": [
      "\u001b[1;31m---------------------------------------------------------------------------\u001b[0m",
      "\u001b[1;31mAttributeError\u001b[0m                            Traceback (most recent call last)",
      "\u001b[1;32m<ipython-input-33-ff23181b808a>\u001b[0m in \u001b[0;36m<module>\u001b[1;34m\u001b[0m\n\u001b[0;32m      2\u001b[0m \u001b[0mreg1\u001b[0m \u001b[1;33m=\u001b[0m \u001b[0mre\u001b[0m\u001b[1;33m.\u001b[0m\u001b[0mcompile\u001b[0m\u001b[1;33m(\u001b[0m\u001b[1;34mr'^\\d{1,3}(,\\d{3})*$'\u001b[0m\u001b[1;33m)\u001b[0m\u001b[1;33m\u001b[0m\u001b[1;33m\u001b[0m\u001b[0m\n\u001b[0;32m      3\u001b[0m \u001b[0mmatch\u001b[0m \u001b[1;33m=\u001b[0m \u001b[0mname\u001b[0m\u001b[1;33m.\u001b[0m\u001b[0msearch\u001b[0m\u001b[1;33m(\u001b[0m\u001b[1;34m'haruto Watanabe'\u001b[0m\u001b[1;33m)\u001b[0m\u001b[1;33m\u001b[0m\u001b[1;33m\u001b[0m\u001b[0m\n\u001b[1;32m----> 4\u001b[1;33m \u001b[0mmatch\u001b[0m\u001b[1;33m.\u001b[0m\u001b[0mgroup\u001b[0m\u001b[1;33m(\u001b[0m\u001b[1;33m)\u001b[0m\u001b[1;33m\u001b[0m\u001b[1;33m\u001b[0m\u001b[0m\n\u001b[0m",
      "\u001b[1;31mAttributeError\u001b[0m: 'NoneType' object has no attribute 'group'"
     ]
    }
   ],
   "source": [
    "name = re.compile(r'[A-Z][a-z]*\\sWatanabe')\n",
    "reg1 = re.compile(r'^\\d{1,3}(,\\d{3})*$')\n",
    "match = name.search('haruto Watanabe')\n",
    "match.group()"
   ]
  },
  {
   "cell_type": "markdown",
   "id": "musical-innocent",
   "metadata": {},
   "source": [
    "# Q22 :\n",
    "### How would you write a regex that matches a sentence where the first word is either Alice, Bob, or Carol; the second word is either eats, pets, or throws; the third word is apples, cats, or baseballs; and the sentence ends with a period? This regex should be case-insensitive. It must match the following:\n",
    "&#39;Alice eats apples.&#39;\n",
    "\n",
    "&#39;Bob pets cats.&#39;\n",
    "\n",
    "&#39;Carol throws baseballs.&#39;\n",
    "\n",
    "&#39;Alice throws Apples.&#39;\n",
    "\n",
    "&#39;BOB EATS CATS.&#39;\n",
    "\n",
    "but not the following:\n",
    "\n",
    "&#39;RoboCop eats apples.&#39;\n",
    "\n",
    "&#39;ALICE THROWS FOOTBALLS.&#39;\n",
    "\n",
    "&#39;Carol eats 7 cats.&#39;"
   ]
  },
  {
   "cell_type": "code",
   "execution_count": 34,
   "id": "fallen-airport",
   "metadata": {},
   "outputs": [
    {
     "data": {
      "text/plain": [
       "'Alice eats apples.'"
      ]
     },
     "execution_count": 34,
     "metadata": {},
     "output_type": "execute_result"
    }
   ],
   "source": [
    "name = re.compile(r'(Alice|Bob|Carol)\\s(eats|pets|throws)\\s(apples|cats|baseballs)\\.', re.IGNORECASE)\n",
    "\n",
    "match = name.search('Alice eats apples.')\n",
    "match.group()"
   ]
  },
  {
   "cell_type": "code",
   "execution_count": 35,
   "id": "pretty-conviction",
   "metadata": {},
   "outputs": [
    {
     "data": {
      "text/plain": [
       "'Bob pets cats.'"
      ]
     },
     "execution_count": 35,
     "metadata": {},
     "output_type": "execute_result"
    }
   ],
   "source": [
    "name = re.compile(r'(Alice|Bob|Carol)\\s(eats|pets|throws)\\s(apples|cats|baseballs)\\.', re.IGNORECASE)\n",
    "\n",
    "match = name.search('Bob pets cats.')\n",
    "match.group()"
   ]
  },
  {
   "cell_type": "code",
   "execution_count": 36,
   "id": "accredited-scratch",
   "metadata": {},
   "outputs": [
    {
     "data": {
      "text/plain": [
       "'BOB EATS CATS.'"
      ]
     },
     "execution_count": 36,
     "metadata": {},
     "output_type": "execute_result"
    }
   ],
   "source": [
    "name = re.compile(r'(Alice|Bob|Carol)\\s(eats|pets|throws)\\s(apples|cats|baseballs)\\.', re.IGNORECASE)\n",
    "\n",
    "match = name.search('BOB EATS CATS.')\n",
    "match.group()"
   ]
  }
 ],
 "metadata": {
  "kernelspec": {
   "display_name": "Python 3",
   "language": "python",
   "name": "python3"
  },
  "language_info": {
   "codemirror_mode": {
    "name": "ipython",
    "version": 3
   },
   "file_extension": ".py",
   "mimetype": "text/x-python",
   "name": "python",
   "nbconvert_exporter": "python",
   "pygments_lexer": "ipython3",
   "version": "3.8.8"
  }
 },
 "nbformat": 4,
 "nbformat_minor": 5
}
