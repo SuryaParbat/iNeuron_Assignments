{
 "cells": [
  {
   "cell_type": "markdown",
   "id": "independent-drain",
   "metadata": {},
   "source": [
    "# Python Programming Basic Assignment 16"
   ]
  },
  {
   "cell_type": "markdown",
   "id": "representative-journey",
   "metadata": {},
   "source": [
    "# Q1 :\n",
    "Write a function that stutters a word as if someone is struggling to read it. The\n",
    "first two letters are repeated twice with an ellipsis ... and space after each, and then the\n",
    "word is pronounced with a question mark ?.\n",
    "\n",
    "Examples:\n",
    "\n",
    "stutter(&quot;incredible&quot;) ➞ &quot;in... in... incredible?&quot;\n",
    "\n",
    "stutter(&quot;enthusiastic&quot;) ➞ &quot;en... en... enthusiastic?&quot;\n",
    "\n",
    "stutter(&quot;outstanding&quot;) ➞ &quot;ou... ou... outstanding?&quot;\n",
    "\n",
    "Hint :- Assume all input is in lower case and at least two characters long."
   ]
  },
  {
   "cell_type": "code",
   "execution_count": 1,
   "id": "union-rough",
   "metadata": {},
   "outputs": [],
   "source": [
    "def stutter(word):\n",
    "    stuttered_word = word[0:2]+'... '+word[0:2]+'... '+word+'?'\n",
    "    return stuttered_word\n"
   ]
  },
  {
   "cell_type": "code",
   "execution_count": 2,
   "id": "sunrise-consultancy",
   "metadata": {},
   "outputs": [],
   "source": [
    "stuttered_word1 = stutter(\"incredible\")\n",
    "stuttered_word2 = stutter(\"enthusiastic\")\n",
    "stuttered_word3 = stutter(\"outstanding\")\n",
    "stuttered_word4 = stutter(\"owl\")"
   ]
  },
  {
   "cell_type": "code",
   "execution_count": 3,
   "id": "wooden-father",
   "metadata": {},
   "outputs": [
    {
     "name": "stdout",
     "output_type": "stream",
     "text": [
      "\n",
      " in... in... incredible? \n",
      " en... en... enthusiastic? \n",
      " ou... ou... outstanding? \n",
      " ow... ow... owl?\n"
     ]
    }
   ],
   "source": [
    "print(\"\\n\",stuttered_word1,\"\\n\",stuttered_word2,\"\\n\",stuttered_word3,\"\\n\",stuttered_word4)"
   ]
  },
  {
   "cell_type": "markdown",
   "id": "excessive-snake",
   "metadata": {},
   "source": [
    "# Q2 : \n",
    "Create a function that takes an angle in radians and returns the corresponding\n",
    "angle in degrees rounded to one decimal place.\n",
    "\n",
    "Examples:\n",
    "    \n",
    "radians_to_degrees(1) ➞ 57.3\n",
    "\n",
    "radians_to_degrees(20) ➞ 1145.9\n",
    "\n",
    "radians_to_degrees(50) ➞ 2864.8"
   ]
  },
  {
   "cell_type": "code",
   "execution_count": 4,
   "id": "happy-granny",
   "metadata": {},
   "outputs": [],
   "source": [
    "def radian_to_degrees(radian):\n",
    "    pi = 3.14159\n",
    "    # Simply used the formula\n",
    "    degree = radian * (180/pi)\n",
    "    return round(degree, 1)\n",
    " "
   ]
  },
  {
   "cell_type": "code",
   "execution_count": 5,
   "id": "foreign-italian",
   "metadata": {},
   "outputs": [
    {
     "name": "stdout",
     "output_type": "stream",
     "text": [
      "degree = 2864.8\n"
     ]
    }
   ],
   "source": [
    "radian = 50\n",
    "print(\"degree =\",radian_to_degrees(radian))"
   ]
  },
  {
   "cell_type": "markdown",
   "id": "pediatric-boring",
   "metadata": {},
   "source": [
    "# Q3 :\n",
    "In this challenge, establish if a given integer num is a Curzon number. If 1 plus\n",
    "2 elevated to num is exactly divisible by 1 plus 2 multiplied by num, then num is a Curzon\n",
    "number.\n",
    "\n",
    "Given a non-negative integer num, implement a function that returns True if num is a Curzon\n",
    "number, or False otherwise.\n",
    "\n",
    "Examples:\n",
    "    \n",
    "is_curzon(5) ➞ True\n",
    "\n",
    "2 ** 5 + 1 = 33\n",
    "\n",
    "2 * 5 + 1 = 11\n",
    "\n",
    "33 is a multiple of 11\n",
    "\n",
    "is_curzon(10) ➞ False\n",
    "\n",
    "2 ** 10 + 1 = 1025\n",
    "\n",
    "2 * 10 + 1 = 21\n",
    "\n",
    "1025 is not a multiple of 21"
   ]
  },
  {
   "cell_type": "code",
   "execution_count": 6,
   "id": "complicated-frame",
   "metadata": {},
   "outputs": [],
   "source": [
    "def is_curzon(N):\n",
    "\n",
    "    powerTerm, productTerm = 0, 0\n",
    "\n",
    "    # Find 2^N + 1\n",
    "    powerTerm = pow(2, N) + 1\n",
    "\n",
    "    # Find 2*N + 1\n",
    "    productTerm = 2 * N + 1\n",
    "\n",
    "    # Check for divisibility\n",
    "    if (powerTerm % productTerm == 0):\n",
    "        print(\"True\")\n",
    "    else:\n",
    "        print(\"False\")\n"
   ]
  },
  {
   "cell_type": "code",
   "execution_count": 7,
   "id": "british-bachelor",
   "metadata": {},
   "outputs": [
    {
     "name": "stdout",
     "output_type": "stream",
     "text": [
      "True\n",
      "False\n",
      "True\n"
     ]
    }
   ],
   "source": [
    "N = 5\n",
    "is_curzon(N)\n",
    "N = 10\n",
    "is_curzon(N)\n",
    "N = 14\n",
    "is_curzon(N)\n"
   ]
  },
  {
   "cell_type": "markdown",
   "id": "vocal-portugal",
   "metadata": {},
   "source": [
    "# Q4 :\n",
    "Given the side length x find the area of a hexagon.\n",
    "\n",
    "Examples:\n",
    "\n",
    "area_of_hexagon(1) ➞ 2.6\n",
    "\n",
    "area_of_hexagon(2) ➞ 10.4\n",
    "\n",
    "area_of_hexagon(3) ➞ 23.4"
   ]
  },
  {
   "cell_type": "code",
   "execution_count": 8,
   "id": "disabled-rabbit",
   "metadata": {},
   "outputs": [],
   "source": [
    "import math\n",
    "\n",
    "def area_of_hexagon(s):\n",
    "    \n",
    "    area_of_hexagon = ((3 * math.sqrt(3) *(s * s)) / 2)\n",
    "\n",
    "    return area_of_hexagon"
   ]
  },
  {
   "cell_type": "code",
   "execution_count": 9,
   "id": "incomplete-release",
   "metadata": {},
   "outputs": [
    {
     "name": "stdout",
     "output_type": "stream",
     "text": [
      "Area: 2.6\n",
      "Area: 10.4\n",
      "Area: 23.4\n"
     ]
    }
   ],
   "source": [
    "# length of a side.\n",
    "s = 1\n",
    "print(\"Area:\",\"{0:.1f}\" .format(area_of_hexagon(s)))\n",
    "s = 2\n",
    "print(\"Area:\",\"{0:.1f}\" .format(area_of_hexagon(s)))\n",
    "s = 3\n",
    "print(\"Area:\",\"{0:.1f}\" .format(area_of_hexagon(s)))"
   ]
  },
  {
   "cell_type": "markdown",
   "id": "preceding-invalid",
   "metadata": {},
   "source": [
    "# Q5 :\n",
    "Create a function that returns a base-2 (binary) representation of a base-10\n",
    "(decimal) string number. To convert is simple: ((2) means base-2 and (10) means base-10)\n",
    "010101001(2) = 1 + 8 + 32 + 128.\n",
    "\n",
    "Going from right to left, the value of the most right bit is 1, now from that every bit to the left\n",
    "will be x2 the value, value of an 8 bit binary numbers are (256, 128, 64, 32, 16, 8, 4, 2, 1).\n",
    "\n",
    "Examples:\n",
    "    \n",
    "binary(1) ➞ &quot;1&quot;\n",
    "\n",
    "1*1 = 1\n",
    "\n",
    "binary(5) ➞ &quot;101&quot;\n",
    "\n",
    "1 * 1 + 1*4 = 5\n",
    "\n",
    "binary(10) ➞ &quot;1010&quot;\n",
    "\n",
    "1 * 2 + 1*8 = 10"
   ]
  },
  {
   "cell_type": "code",
   "execution_count": 10,
   "id": "sexual-utilization",
   "metadata": {},
   "outputs": [
    {
     "name": "stdout",
     "output_type": "stream",
     "text": [
      "1\n",
      "101\n",
      "1010\n"
     ]
    }
   ],
   "source": [
    "def decimalToBinary(n):\n",
    "    return bin(n).replace(\"0b\", \"\")\n",
    "   \n",
    "if __name__ == '__main__':\n",
    "    print(decimalToBinary(1))\n",
    "    print(decimalToBinary(5))\n",
    "    print(decimalToBinary(10))"
   ]
  },
  {
   "cell_type": "code",
   "execution_count": 27,
   "id": "aggregate-twelve",
   "metadata": {},
   "outputs": [
    {
     "name": "stdout",
     "output_type": "stream",
     "text": [
      "1\n",
      "\n",
      "101\n",
      "\n",
      "1010"
     ]
    }
   ],
   "source": [
    "# Function to print binary number using recursion\n",
    "#import ipdb\n",
    "def convertToBinary(n):\n",
    "    #ipdb.set_trace()\n",
    "    if n > 1:\n",
    "        convertToBinary(n//2)\n",
    "    print(n % 2,end = '')\n",
    "\n",
    "# decimal number\n",
    "dec = 1\n",
    "convertToBinary(dec)\n",
    "print(\"\\n\")\n",
    "dec = 5\n",
    "convertToBinary(dec)\n",
    "print(\"\\n\")\n",
    "dec = 10\n",
    "convertToBinary(dec)"
   ]
  }
 ],
 "metadata": {
  "kernelspec": {
   "display_name": "Python 3",
   "language": "python",
   "name": "python3"
  },
  "language_info": {
   "codemirror_mode": {
    "name": "ipython",
    "version": 3
   },
   "file_extension": ".py",
   "mimetype": "text/x-python",
   "name": "python",
   "nbconvert_exporter": "python",
   "pygments_lexer": "ipython3",
   "version": "3.8.8"
  }
 },
 "nbformat": 4,
 "nbformat_minor": 5
}
