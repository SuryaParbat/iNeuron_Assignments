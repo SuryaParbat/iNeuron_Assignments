{
 "cells": [
  {
   "cell_type": "markdown",
   "id": "short-creativity",
   "metadata": {},
   "source": [
    "# Python Programming Basic Assignment 9"
   ]
  },
  {
   "cell_type": "markdown",
   "id": "coastal-accessory",
   "metadata": {},
   "source": [
    "Q1 : Write a Python program to check if the given number is a Disarium Number?"
   ]
  },
  {
   "cell_type": "code",
   "execution_count": 16,
   "id": "invalid-bumper",
   "metadata": {},
   "outputs": [
    {
     "name": "stdout",
     "output_type": "stream",
     "text": [
      "Enter number : 89\n",
      "89 is a disarium number\n"
     ]
    }
   ],
   "source": [
    "#calculateLength() will count the digits present in a number    \n",
    "def calculateLength(n):    \n",
    "    length = 0    \n",
    "    while(n != 0):    \n",
    "        length = length + 1   \n",
    "        n = n//10    \n",
    "    return length    \n",
    "     \n",
    "num = int(input(\"Enter number : \"))   \n",
    "rem = sum = 0  \n",
    "n = num \n",
    "len = calculateLength(num)     \n",
    "        \n",
    "while(num > 0):    \n",
    "    rem = num%10    \n",
    "    sum = sum + int(rem**len)    \n",
    "    num = num//10    \n",
    "    len = len - 1    \n",
    "     \n",
    "#Checks whether the sum is equal to the number itself    \n",
    "if(sum == n):    \n",
    "    print(str(n) + \" is a disarium number\")    \n",
    "else:    \n",
    "    print(str(n) + \" is not a disarium number\")   "
   ]
  },
  {
   "cell_type": "markdown",
   "id": "elementary-transformation",
   "metadata": {},
   "source": [
    "Q2 : Write a Python program to print all disarium numbers between 1 to 100?"
   ]
  },
  {
   "cell_type": "code",
   "execution_count": 24,
   "id": "assured-collector",
   "metadata": {},
   "outputs": [
    {
     "name": "stdout",
     "output_type": "stream",
     "text": [
      "All disarium numbers between 1 to 100 are : \n",
      "1\n",
      "2\n",
      "3\n",
      "4\n",
      "5\n",
      "6\n",
      "7\n",
      "8\n",
      "9\n",
      "89\n"
     ]
    }
   ],
   "source": [
    "\n",
    "print(\"All disarium numbers between 1 to 100 are : \")  \n",
    "for n in range(1,101):\n",
    "    num = n\n",
    "    num1 = n\n",
    "    length = 0\n",
    "    rem = sum = 0\n",
    "    while(n != 0 ):\n",
    "        length = length + 1\n",
    "        n = n//10\n",
    "    while(num > 0):\n",
    "        rem = num%10\n",
    "        sum = sum + int(rem**length)\n",
    "        num = num//10    \n",
    "        length = length - 1 \n",
    "    if(sum == num1):    \n",
    "        print(str(num1))    "
   ]
  },
  {
   "cell_type": "markdown",
   "id": "transsexual-endorsement",
   "metadata": {},
   "source": [
    "Q3 : Write a Python program to check if the given number is Happy Number?"
   ]
  },
  {
   "cell_type": "code",
   "execution_count": 33,
   "id": "introductory-speech",
   "metadata": {},
   "outputs": [
    {
     "name": "stdout",
     "output_type": "stream",
     "text": [
      "Enter a number : 44\n",
      "44 is a happy number\n"
     ]
    }
   ],
   "source": [
    "  \n",
    "def isHappyNumber(num):    \n",
    "    rem = sum = 0 \n",
    "        \n",
    "    #Calculates the sum of squares of digits    \n",
    "    while(num > 0):    \n",
    "        rem = num%10  \n",
    "        sum = sum + (rem*rem)    \n",
    "        num = num//10 \n",
    "    return sum   \n",
    "        \n",
    "num = int(input(\"Enter a number : \"))  \n",
    "result = num    \n",
    "     \n",
    "while(result != 1 and result != 4):    \n",
    "    result = isHappyNumber(result)    \n",
    "     \n",
    "#Happy number always ends with 1    \n",
    "if(result == 1):    \n",
    "    print(str(num) + \" is a happy number\")    \n",
    "#Unhappy number ends in a cycle of repeating numbers which contain 4    \n",
    "elif(result == 4):    \n",
    "    print(str(num) + \" is not a happy number\") "
   ]
  },
  {
   "cell_type": "markdown",
   "id": "affecting-oriental",
   "metadata": {},
   "source": [
    "Q4 : Write a Python program to print all happy numbers between 1 and 100?"
   ]
  },
  {
   "cell_type": "code",
   "execution_count": 36,
   "id": "ruled-grace",
   "metadata": {},
   "outputs": [
    {
     "name": "stdout",
     "output_type": "stream",
     "text": [
      "All happy numbers between 1 and 100 are :\n",
      "1\n",
      "7\n",
      "10\n",
      "13\n",
      "19\n",
      "23\n",
      "28\n",
      "31\n",
      "32\n",
      "44\n",
      "49\n",
      "68\n",
      "70\n",
      "79\n",
      "82\n",
      "86\n",
      "91\n",
      "94\n",
      "97\n",
      "100\n"
     ]
    }
   ],
   "source": [
    "def isHappyNumber(num):    \n",
    "    rem = sum = 0 \n",
    "        \n",
    "    #Calculates the sum of squares of digits    \n",
    "    while(num > 0):    \n",
    "        rem = num%10  \n",
    "        sum = sum + (rem*rem)    \n",
    "        num = num//10 \n",
    "    return sum   \n",
    "\n",
    "print(\"All happy numbers between 1 and 100 are :\")\n",
    "\n",
    "for num in range(1,101):\n",
    "    result = num    \n",
    "    while(result != 1 and result != 4):   \n",
    "        result = isHappyNumber(result)    \n",
    "     \n",
    "    #Happy number always ends with 1    \n",
    "    if(result == 1):    \n",
    "        print(str(num))    "
   ]
  },
  {
   "cell_type": "markdown",
   "id": "rental-territory",
   "metadata": {},
   "source": [
    "Q5 : Write a Python program to determine whether the given number is a Harshad Number?"
   ]
  },
  {
   "cell_type": "code",
   "execution_count": 42,
   "id": "liquid-sharp",
   "metadata": {},
   "outputs": [
    {
     "name": "stdout",
     "output_type": "stream",
     "text": [
      "Enter number : 120\n",
      "120 is a harshad number\n"
     ]
    }
   ],
   "source": [
    "num = int(input(\"Enter number : \"))\n",
    "rem = sum = 0      \n",
    "n = num \n",
    "     \n",
    "#Calculates sum of digits    \n",
    "while(num > 0):    \n",
    "    rem = num%10  \n",
    "    #print(\"rem = \", rem)\n",
    "    sum = sum + rem    \n",
    "    num = num//10   \n",
    "     \n",
    "#Checks whether the number is divisible by the sum of digits    \n",
    "if(n%sum == 0):    \n",
    "    print(str(n) + \" is a harshad number\")   \n",
    "else:    \n",
    "    print(str(n) + \" is not a harshad number\")"
   ]
  },
  {
   "cell_type": "markdown",
   "id": "controlling-camera",
   "metadata": {},
   "source": [
    "Q6 : Write a Python program to print all pronic numbers between 1 and 100?"
   ]
  },
  {
   "cell_type": "code",
   "execution_count": 45,
   "id": "proper-hearts",
   "metadata": {},
   "outputs": [
    {
     "name": "stdout",
     "output_type": "stream",
     "text": [
      "Pronic numbers between 1 and 100: \n",
      "2\n",
      "6\n",
      "12\n",
      "20\n",
      "30\n",
      "42\n",
      "56\n",
      "72\n",
      "90\n"
     ]
    }
   ],
   "source": [
    "def isPronicNumber(num):\n",
    "    flag = False  \n",
    "        \n",
    "    for j in range(1, num+1):    \n",
    "        #Checks for pronic number by multiplying consecutive numbers    \n",
    "        if((j*(j+1)) == num):    \n",
    "            flag = True    \n",
    "            break \n",
    "    return flag   \n",
    "\n",
    "print(\"Pronic numbers between 1 and 100: \")   \n",
    "for i in range(1, 101):    \n",
    "    if(isPronicNumber(i)):    \n",
    "        print(i)     "
   ]
  }
 ],
 "metadata": {
  "kernelspec": {
   "display_name": "Python 3",
   "language": "python",
   "name": "python3"
  },
  "language_info": {
   "codemirror_mode": {
    "name": "ipython",
    "version": 3
   },
   "file_extension": ".py",
   "mimetype": "text/x-python",
   "name": "python",
   "nbconvert_exporter": "python",
   "pygments_lexer": "ipython3",
   "version": "3.8.8"
  }
 },
 "nbformat": 4,
 "nbformat_minor": 5
}
