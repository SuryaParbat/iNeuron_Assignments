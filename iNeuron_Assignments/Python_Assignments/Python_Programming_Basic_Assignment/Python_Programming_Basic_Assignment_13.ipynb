{
 "cells": [
  {
   "cell_type": "markdown",
   "id": "public-airplane",
   "metadata": {},
   "source": [
    "# Python Programming Basic Assignment 13"
   ]
  },
  {
   "cell_type": "markdown",
   "id": "alike-surfing",
   "metadata": {},
   "source": [
    "Write a program that calculates and prints the value according to the given formula:\n",
    "\n",
    "Q = Square root of [(2 * C * D)/H]\n",
    "\n",
    "Following are the fixed values of C and H:\n",
    "\n",
    "C is 50. H is 30.\n",
    "\n",
    "D is the variable whose values should be input to your program in a comma-separated\n",
    "sequence.\n",
    "\n",
    "Example--\n",
    "\n",
    "Let us assume the following comma separated input sequence is given to the program:\n",
    "\n",
    "100,150,180\n",
    "The output of the program should be:\n",
    "\n",
    "18,22,24"
   ]
  },
  {
   "cell_type": "code",
   "execution_count": 9,
   "id": "progressive-batman",
   "metadata": {},
   "outputs": [
    {
     "name": "stdout",
     "output_type": "stream",
     "text": [
      "Please enter vales followed by ','  100,150,180\n",
      "Desired result --\n",
      "18,22,24\n"
     ]
    }
   ],
   "source": [
    "import math\n",
    "\n",
    "# Defining the default values of c and h.\n",
    "c = 50\n",
    "h = 30\n",
    "\n",
    "# Creating two lists tostore user input and result\n",
    "value = []\n",
    "user_value = []\n",
    "\n",
    "# Getting input from user\n",
    "\n",
    "for i in input(\"Please enter vales followed by ','  \").split(','):\n",
    "    user_value.append(i)\n",
    "    #print(user_value)\n",
    "    \n",
    "# Now calulating result\n",
    "for i in user_value:\n",
    "    x = int(round(math.sqrt(2*c*float(i)/h)))\n",
    "    #print(x)\n",
    "    value.append(str(x))\n",
    "    \n",
    "# Now printing desired result.\n",
    "print(\"Desired result --\")\n",
    "print(','.join(value))\n",
    "    "
   ]
  },
  {
   "cell_type": "markdown",
   "id": "square-simpson",
   "metadata": {},
   "source": [
    "# Q2\n",
    "Write a program which takes 2 digits, X,Y as input and generates a 2-dimensional array. The\n",
    "element value in the i-th row and j-th column of the array should be i*j.\n",
    "\n",
    "Note: i=0,1.., X-1; j=0,1,¡Y-1.\n",
    "\n",
    "Example:\n",
    "\n",
    "Suppose the following inputs are given to the program:\n",
    "3,5\n",
    "\n",
    "Then, the output of the program should be:\n",
    "\n",
    "[[0, 0, 0, 0, 0], [0, 1, 2, 3, 4], [0, 2, 4, 6, 8]]"
   ]
  },
  {
   "cell_type": "code",
   "execution_count": 14,
   "id": "violent-differential",
   "metadata": {},
   "outputs": [
    {
     "name": "stdout",
     "output_type": "stream",
     "text": [
      "insert number of row's : 3\n",
      "insert number of col : 5\n",
      "[[0, 0, 0, 0, 0], [0, 1, 2, 3, 4], [0, 2, 4, 6, 8]]\n"
     ]
    }
   ],
   "source": [
    "row= int(input(\"insert number of row's : \"))\n",
    "col = int(input(\"insert number of col : \"))\n",
    "\n",
    "array = []\n",
    "\n",
    "for i in range(row):\n",
    "    lst = []\n",
    "    for j in range(col):\n",
    "        lst.append(i*j)\n",
    "    array.append(lst)\n",
    "        \n",
    "print(array)"
   ]
  },
  {
   "cell_type": "markdown",
   "id": "patient-authentication",
   "metadata": {},
   "source": [
    "# Q3\n",
    "Write a program that accepts a comma separated sequence of words as input and prints the\n",
    "words in a comma-separated sequence after sorting them alphabetically.\n",
    "\n",
    "Suppose the following input is supplied to the program:\n",
    "    \n",
    "without,hello,bag,world\n",
    "\n",
    "Then, the output should be:\n",
    "    \n",
    "bag,hello,without,world"
   ]
  },
  {
   "cell_type": "code",
   "execution_count": 16,
   "id": "selected-particle",
   "metadata": {},
   "outputs": [
    {
     "name": "stdout",
     "output_type": "stream",
     "text": [
      "Input comma separated sequence of words : without,hello,bag,world\n",
      "Required sorted output : \n",
      "bag,hello,without,world\n"
     ]
    }
   ],
   "source": [
    "items = input(\"Input comma separated sequence of words : \")\n",
    "words = [word for word in items.split(\",\")]\n",
    "print(\"Required sorted output : \")\n",
    "print(\",\".join(sorted(list(set(words)))))"
   ]
  },
  {
   "cell_type": "markdown",
   "id": "incredible-conservation",
   "metadata": {},
   "source": [
    "# Q4\n",
    "Write a program that accepts a sequence of whitespace separated words as input and prints\n",
    "the words after removing all duplicate words and sorting them alphanumerically.\n",
    "\n",
    "Suppose the following input is supplied to the program:\n",
    "    \n",
    "hello world and practice makes perfect and hello world again\n",
    "\n",
    "Then, the output should be:\n",
    "    \n",
    "again and hello makes perfect practice world\n",
    "\n"
   ]
  },
  {
   "cell_type": "code",
   "execution_count": 19,
   "id": "thick-pierre",
   "metadata": {},
   "outputs": [
    {
     "name": "stdout",
     "output_type": "stream",
     "text": [
      "Type in: hello world and practice makes perfect and hello world again\n",
      "words after removing all duplicate words and sorting them alphanumerically. : \n",
      "again and hello makes perfect practice world\n"
     ]
    }
   ],
   "source": [
    "phrase = input(\"Type in: \")\n",
    "\n",
    "# Spliting the words after whitespace\n",
    "phrase_splited = phrase.split(' ')\n",
    "\n",
    "word_list = []\n",
    "\n",
    "for i in phrase_splited:\n",
    "    if i not in word_list:\n",
    "        word_list.append(i)\n",
    "    #else:\n",
    "        #continue\n",
    "        \n",
    "word_list.sort()\n",
    "\n",
    "print(\"words after removing all duplicate words and sorting them alphanumerically. : \")\n",
    "print((' ').join(word_list))"
   ]
  },
  {
   "cell_type": "markdown",
   "id": "composed-israeli",
   "metadata": {},
   "source": [
    "# Q5\n",
    "Write a program that accepts a sentence and calculate the number of letters and digits.\n",
    "\n",
    "Suppose the following input is supplied to the program:\n",
    "    \n",
    "hello world! 123\n",
    "\n",
    "Then, the output should be:\n",
    "    \n",
    "LETTERS 10\n",
    "\n",
    "DIGITS 3"
   ]
  },
  {
   "cell_type": "code",
   "execution_count": 20,
   "id": "suited-quantity",
   "metadata": {},
   "outputs": [
    {
     "name": "stdout",
     "output_type": "stream",
     "text": [
      "Enter the string which contains words and digits : hello world! 123\n",
      "LETTERS  10\n",
      "DIGITS  3\n"
     ]
    }
   ],
   "source": [
    "phrase = input(\"Enter the string which contains words and digits : \")\n",
    "\n",
    "d = 0\n",
    "a = 0\n",
    "\n",
    "# Now Calulating nuber of alphabets and digits in the provided string by user \n",
    "\n",
    "for i in phrase:\n",
    "    if i.isalpha():\n",
    "        a = a+1\n",
    "    elif i.isdigit():\n",
    "        d = d+1\n",
    "\n",
    "print(\"LETTERS \", a)\n",
    "print(\"DIGITS \", d)        "
   ]
  },
  {
   "cell_type": "markdown",
   "id": "indian-commonwealth",
   "metadata": {},
   "source": [
    "# Q6 \n",
    "A website requires the users to input username and password to register.\n",
    "Write a program to check the validity of password input by users.\n",
    "\n",
    "Following are the criteria for checking the password:\n",
    "    \n",
    "1. At least 1 letter between [a-z]\n",
    "2. At least 1 number between [0-9]\n",
    "1. At least 1 letter between [A-Z]\n",
    "3. At least 1 character from [$#@]\n",
    "4. Minimum length of transaction password: 6\n",
    "5. Maximum length of transaction password: 12\n",
    "                              \n",
    "Your program should accept a sequence of comma separated passwords and will check them\n",
    "according to the above criteria. Passwords that match the criteria are to be printed, each\n",
    "separated by a comma.\n",
    "                              \n",
    "Example : \n",
    "                              \n",
    "If the following passwords are given as input to the program:\n",
    "                              \n",
    "ABd1234@1,a F1#,2w3E*,2We3345\n",
    "                              \n",
    "Then, the output of the program should be:\n",
    "                              \n",
    "ABd1234@1"
   ]
  },
  {
   "cell_type": "code",
   "execution_count": 30,
   "id": "touched-purchase",
   "metadata": {},
   "outputs": [
    {
     "name": "stdout",
     "output_type": "stream",
     "text": [
      "Type passwords you want to check : ABd1234@1,a F1#,2w3E*,2We3345\n",
      "ABd1234@1\n"
     ]
    }
   ],
   "source": [
    "import re\n",
    "\n",
    "passwords = input(\"Type passwords you want to check : \")\n",
    "passwords = passwords.split(\",\")\n",
    "\n",
    "accepted_pass = []\n",
    "\n",
    "for i in passwords:\n",
    "\n",
    "    if len(i) < 6 or len(i) > 12:\n",
    "        continue\n",
    "\n",
    "    elif not re.search(\"([a-z])+\", i):\n",
    "        continue\n",
    "\n",
    "    elif not re.search(\"([A-Z])+\", i):\n",
    "        continue\n",
    "\n",
    "    elif not re.search(\"([0-9])+\", i):\n",
    "        continue\n",
    "\n",
    "    elif not re.search(\"([!@$%^&])+\", i):\n",
    "        continue\n",
    "\n",
    "    else:\n",
    "        accepted_pass.append(i)\n",
    "\n",
    "if len(accepted_pass) > 0:\n",
    "    print((\" \").join(accepted_pass))\n",
    "    \n",
    "else:\n",
    "    print(\"Please enter a valid password which meets the following requirments : \")\n",
    "    print(\"1. At least 1 letter between [a-z]\\n2. At least 1 number between [0-9]\\n3. At least 1 letter between [A-Z]\\n4. At least 1 character from [$#@]\\n5. Minimum length of transaction password: 6\\n6. Maximum length of transaction password: 12\")"
   ]
  },
  {
   "cell_type": "code",
   "execution_count": null,
   "id": "employed-verification",
   "metadata": {},
   "outputs": [],
   "source": []
  }
 ],
 "metadata": {
  "kernelspec": {
   "display_name": "Python 3",
   "language": "python",
   "name": "python3"
  },
  "language_info": {
   "codemirror_mode": {
    "name": "ipython",
    "version": 3
   },
   "file_extension": ".py",
   "mimetype": "text/x-python",
   "name": "python",
   "nbconvert_exporter": "python",
   "pygments_lexer": "ipython3",
   "version": "3.8.8"
  }
 },
 "nbformat": 4,
 "nbformat_minor": 5
}
