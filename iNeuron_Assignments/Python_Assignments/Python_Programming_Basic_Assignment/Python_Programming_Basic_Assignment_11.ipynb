{
 "cells": [
  {
   "cell_type": "markdown",
   "id": "charming-following",
   "metadata": {},
   "source": [
    "# Python Programming Basic Assignment 11"
   ]
  },
  {
   "cell_type": "markdown",
   "id": "referenced-radius",
   "metadata": {},
   "source": [
    "Q1 : Write a Python program to find words which are greater than given length k?"
   ]
  },
  {
   "cell_type": "code",
   "execution_count": 2,
   "id": "unavailable-merchandise",
   "metadata": {},
   "outputs": [],
   "source": [
    "def string_k(k, str):\n",
    "\n",
    "    # create the empty string\n",
    "    string = []\n",
    "\n",
    "    # split the string where space is comes\n",
    "    text = str.split(\" \")\n",
    "    \n",
    "    for x in text:\n",
    "        if len(x) > k:\n",
    "            # append this sub string in\n",
    "            # string list\n",
    "            string.append(x)\n",
    "\n",
    "    return string\n"
   ]
  },
  {
   "cell_type": "code",
   "execution_count": 3,
   "id": "national-pledge",
   "metadata": {},
   "outputs": [
    {
     "name": "stdout",
     "output_type": "stream",
     "text": [
      "Enter a Sentence - Write a Python program to find words which are greater than given length k?\n",
      "Enter the length of words you want to filter- 4\n"
     ]
    },
    {
     "data": {
      "text/plain": [
       "['Write', 'Python', 'program', 'words', 'which', 'greater', 'given', 'length']"
      ]
     },
     "execution_count": 3,
     "metadata": {},
     "output_type": "execute_result"
    }
   ],
   "source": [
    "str = input(\"Enter a Sentence - \")\n",
    "k = int(input(\"Enter the length of words you want to filter- \"))\n",
    "\n",
    "string_k(k, str)"
   ]
  },
  {
   "cell_type": "markdown",
   "id": "voluntary-organizer",
   "metadata": {},
   "source": [
    "Q2 : Write a Python program for removing i-th character from a string?"
   ]
  },
  {
   "cell_type": "code",
   "execution_count": 4,
   "id": "removed-overall",
   "metadata": {},
   "outputs": [],
   "source": [
    "def remove(string, i):\n",
    "\n",
    "    # Characters before the i-th indexed\n",
    "    # is stored in a variable a\n",
    "    a = string[ : i]\n",
    "\n",
    "    # Characters after the nth indexed\n",
    "    # is stored in a variable b\n",
    "    b = string[i + 1: ]\n",
    "\n",
    "    # Returning string after removing\n",
    "    # nth indexed character.\n",
    "    return a + b"
   ]
  },
  {
   "cell_type": "code",
   "execution_count": 6,
   "id": "greater-transfer",
   "metadata": {},
   "outputs": [
    {
     "name": "stdout",
     "output_type": "stream",
     "text": [
      "Enter your string - iNeuron\n",
      "Enter location to remove character - 1\n"
     ]
    },
    {
     "data": {
      "text/plain": [
       "'ieuron'"
      ]
     },
     "execution_count": 6,
     "metadata": {},
     "output_type": "execute_result"
    }
   ],
   "source": [
    "string = input(\"Enter your string - \")\n",
    "i = int(input(\"Enter location to remove character - \"))\n",
    "\n",
    "remove(string, i)"
   ]
  },
  {
   "cell_type": "markdown",
   "id": "accessory-meeting",
   "metadata": {},
   "source": [
    "Q3 : Write a Python program to split and join a string?"
   ]
  },
  {
   "cell_type": "code",
   "execution_count": 20,
   "id": "sixth-investigation",
   "metadata": {},
   "outputs": [],
   "source": [
    "def splitAndjoin(string):\n",
    "    \n",
    "    a = string.split(\" \") # a is converted to a list of strings.\n",
    "    print(\"String after splitting - \", a)\n",
    "    b = \"-\".join(a)\n",
    "    print(\"String after joining - \", b)"
   ]
  },
  {
   "cell_type": "code",
   "execution_count": 21,
   "id": "ranking-batman",
   "metadata": {},
   "outputs": [
    {
     "name": "stdout",
     "output_type": "stream",
     "text": [
      "Enter your string - Full stack data science\n",
      "String after splitting -  ['Full', 'stack', 'data', 'science']\n",
      "String after joining -  Full-stack-data-science\n"
     ]
    }
   ],
   "source": [
    "string = input(\"Enter your string - \")\n",
    "\n",
    "splitAndjoin(string)"
   ]
  },
  {
   "cell_type": "markdown",
   "id": "promising-leisure",
   "metadata": {},
   "source": [
    "Q4 : Write a Python to check if a given string is binary string or not?"
   ]
  },
  {
   "cell_type": "code",
   "execution_count": 39,
   "id": "chinese-copyright",
   "metadata": {},
   "outputs": [],
   "source": [
    "def check(string) :\n",
    "\n",
    "    # set function convert string\n",
    "    # into set of characters .\n",
    "    p = set(string)\n",
    "\n",
    "    # declare set of '0', '1' .\n",
    "    s = {'0', '1'}\n",
    "\n",
    "    # check set p is same as set s\n",
    "    # or set p contains only '0'\n",
    "    # or set p contains only '1'\n",
    "    # or not, if any one condition\n",
    "    # is true then string is accepted\n",
    "    # otherwise not .\n",
    "    if s == p or p == {'0'} or p == {'1'}:\n",
    "        print(\"Yes, it's a binary string\")\n",
    "\n",
    "    else :\n",
    "        print(\"No, it's not a binary string\")\n"
   ]
  },
  {
   "cell_type": "code",
   "execution_count": 40,
   "id": "dental-mistake",
   "metadata": {},
   "outputs": [
    {
     "name": "stdout",
     "output_type": "stream",
     "text": [
      "Please enter a binary string !!! 101010101\n",
      "Yes, it's a binary string\n"
     ]
    }
   ],
   "source": [
    "string = input(\"Please enter a binary string !!! \")\n",
    "\n",
    "check(string)"
   ]
  },
  {
   "cell_type": "markdown",
   "id": "neural-latitude",
   "metadata": {},
   "source": [
    "Q5 : Write a Python program to find uncommon words from two Strings?"
   ]
  },
  {
   "cell_type": "code",
   "execution_count": 41,
   "id": "external-premises",
   "metadata": {},
   "outputs": [
    {
     "name": "stdout",
     "output_type": "stream",
     "text": [
      "Uncommon words in given strings ['Orange', 'Mango']\n"
     ]
    }
   ],
   "source": [
    "def UncommonWords(A, B):\n",
    "\n",
    "    # count will contain all the word counts\n",
    "    count = {}\n",
    "\n",
    "    # insert words of string A to hash\n",
    "    for word in A.split():\n",
    "        count[word] = count.get(word, 0) + 1\n",
    "        \n",
    "    # insert words of string B to hash\n",
    "    for word in B.split():\n",
    "        count[word] = count.get(word, 0) + 1\n",
    "        \n",
    "    # return required list of words\n",
    "    return [word for word in count if count[word] == 1]\n",
    "\n",
    "# Driver Code\n",
    "A = \"Banana Apple Banana Orange\"\n",
    "B = \"Banana Apple Banana Mango\"\n",
    "\n",
    "# Print required answer\n",
    "print(\"Uncommon words in given strings\",UncommonWords(A, B))\n"
   ]
  },
  {
   "cell_type": "markdown",
   "id": "legal-absorption",
   "metadata": {},
   "source": [
    "Q6 : Write a Python to find all duplicate characters in string?"
   ]
  },
  {
   "cell_type": "code",
   "execution_count": 112,
   "id": "hollow-apollo",
   "metadata": {},
   "outputs": [
    {
     "name": "stdout",
     "output_type": "stream",
     "text": [
      "t 2\n",
      "h 2\n",
      "e 3\n",
      "u 2\n",
      "r 2\n",
      "o 4\n"
     ]
    }
   ],
   "source": [
    "#import collections\n",
    "str1 = 'thequickbrownfoxjumpsoverthelazydog'\n",
    "#d = collections.defaultdict(int)\n",
    "d = {}\n",
    "for c in str1:\n",
    "    d[c] = d.get(c,0)+1\n",
    "    \n",
    "        \n",
    "#print(d)\n",
    "\n",
    "for c in d:\n",
    "    if d[c] > 1:\n",
    "        print(c, d[c])"
   ]
  },
  {
   "cell_type": "markdown",
   "id": "apart-intermediate",
   "metadata": {},
   "source": [
    "Q7 : Write a Python Program to check if a string contains any special character?"
   ]
  },
  {
   "cell_type": "code",
   "execution_count": 122,
   "id": "vocal-smell",
   "metadata": {},
   "outputs": [],
   "source": [
    "import re \n",
    "  \n",
    "# Function checks if the input string(test)\n",
    "# contains any special character or not\n",
    "def check_splcharacter(test): \n",
    "  \n",
    "    # Make an RE character set and pass  \n",
    "    # this as an argument in compile function\n",
    " \n",
    "    string_check= re.compile('[@_!#$%^&*()<>?/\\|}{~:]') \n",
    "    #print(re.compile('[@_!#$%^&*()<>?/\\|}{~:]').search(test))      \n",
    "    # Pass the string in search function  \n",
    "    # of RE object (string_check).\n",
    "     \n",
    "    if(string_check.search(test) == None): \n",
    "        print(\"String does not contain Special Characters.\")\n",
    "          \n",
    "    else: \n",
    "        print(\"String contains Special Characters.\") \n",
    "    "
   ]
  },
  {
   "cell_type": "code",
   "execution_count": 123,
   "id": "certified-sociology",
   "metadata": {},
   "outputs": [
    {
     "name": "stdout",
     "output_type": "stream",
     "text": [
      "String contains Special Characters.\n"
     ]
    }
   ],
   "source": [
    "test = \"querry@ineuron.com\"\n",
    "      \n",
    "# calling check_splcharacter function\n",
    "  \n",
    "check_splcharacter(test) "
   ]
  },
  {
   "cell_type": "code",
   "execution_count": null,
   "id": "professional-prospect",
   "metadata": {},
   "outputs": [],
   "source": []
  }
 ],
 "metadata": {
  "kernelspec": {
   "display_name": "Python 3",
   "language": "python",
   "name": "python3"
  },
  "language_info": {
   "codemirror_mode": {
    "name": "ipython",
    "version": 3
   },
   "file_extension": ".py",
   "mimetype": "text/x-python",
   "name": "python",
   "nbconvert_exporter": "python",
   "pygments_lexer": "ipython3",
   "version": "3.8.8"
  }
 },
 "nbformat": 4,
 "nbformat_minor": 5
}
