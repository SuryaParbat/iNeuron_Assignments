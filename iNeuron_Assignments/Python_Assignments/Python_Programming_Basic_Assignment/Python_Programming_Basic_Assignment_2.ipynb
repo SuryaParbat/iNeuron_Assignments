{
 "cells": [
  {
   "cell_type": "markdown",
   "id": "heavy-madagascar",
   "metadata": {},
   "source": [
    "#  Python Programming Basic Assignment_2"
   ]
  },
  {
   "cell_type": "markdown",
   "id": "powered-philippines",
   "metadata": {},
   "source": [
    "Q1: Write a Python program to convert kilometers to miles?"
   ]
  },
  {
   "cell_type": "code",
   "execution_count": 3,
   "id": "smooth-paste",
   "metadata": {},
   "outputs": [
    {
     "name": "stdout",
     "output_type": "stream",
     "text": [
      "Enter value in kilometers: 50\n",
      "50.00 kilometers is equal to 31.07 miles\n"
     ]
    }
   ],
   "source": [
    "kilometers = float(input(\"Enter value in kilometers: \"))\n",
    "\n",
    "convertion_fac = 0.6214\n",
    "\n",
    "miles = kilometers * convertion_fac\n",
    "\n",
    "print('%0.2f kilometers is equal to %0.2f miles' %(kilometers,miles))"
   ]
  },
  {
   "cell_type": "markdown",
   "id": "sound-action",
   "metadata": {},
   "source": [
    "Q2: Write a Python program to convert Celsius to Fahrenheit?"
   ]
  },
  {
   "cell_type": "code",
   "execution_count": 7,
   "id": "aboriginal-beast",
   "metadata": {},
   "outputs": [
    {
     "name": "stdout",
     "output_type": "stream",
     "text": [
      "Enter temperature in celsius: 46\n",
      "46.00 Celsius is: 114.80 Fahrenheit\n"
     ]
    }
   ],
   "source": [
    "celsius = float(input(\"Enter temperature in celsius: \"))\n",
    "\n",
    "fahrenheit = (celsius * (9/5)) + 32\n",
    "\n",
    "print('%.2f Celsius is: %0.2f Fahrenheit' %(celsius, fahrenheit))"
   ]
  },
  {
   "cell_type": "markdown",
   "id": "split-outline",
   "metadata": {},
   "source": [
    "Q3: Write a Python program to display calendar?"
   ]
  },
  {
   "cell_type": "code",
   "execution_count": 11,
   "id": "later-location",
   "metadata": {},
   "outputs": [
    {
     "name": "stdout",
     "output_type": "stream",
     "text": [
      " Enter Year : 2021\n",
      " Enter Month : 3\n",
      "\n",
      "      March 2021\n",
      "Mo Tu We Th Fr Sa Su\n",
      " 1  2  3  4  5  6  7\n",
      " 8  9 10 11 12 13 14\n",
      "15 16 17 18 19 20 21\n",
      "22 23 24 25 26 27 28\n",
      "29 30 31\n",
      "\n"
     ]
    }
   ],
   "source": [
    "# importing the calendar module\n",
    "import calendar\n",
    "\n",
    "year = int(input(\" Enter Year : \"))\n",
    "month = int(input(\" Enter Month : \"))\n",
    "\n",
    "\n",
    "print(\"\\n\",calendar.month(year, month))"
   ]
  },
  {
   "cell_type": "markdown",
   "id": "northern-mechanics",
   "metadata": {},
   "source": [
    "Q4: Write a Python program to solve quadratic equation?"
   ]
  },
  {
   "cell_type": "code",
   "execution_count": 33,
   "id": "informative-watson",
   "metadata": {},
   "outputs": [
    {
     "name": "stdout",
     "output_type": "stream",
     "text": [
      "Enter a: 3\n",
      "Enter b: 5\n",
      "Enter c: 6\n",
      "The solution are (-0.8333333333333334-1.1426091000668406j) and (-0.8333333333333334+1.1426091000668406j)\n"
     ]
    }
   ],
   "source": [
    "# import complex math module\n",
    "import cmath\n",
    "\n",
    "a = float(input('Enter a: '))\n",
    "b = float(input('Enter b: '))\n",
    "c = float(input('Enter c: '))\n",
    "\n",
    "# calculate the discriminant\n",
    "d = (b**2) - (4*a*c)\n",
    "\n",
    "# find two solutions\n",
    "sol1 = (-b-cmath.sqrt(d))/(2*a)\n",
    "sol2 = (-b+cmath.sqrt(d))/(2*a)\n",
    "\n",
    "print('The solution are {0} and {1}'.format(sol1,sol2))"
   ]
  },
  {
   "cell_type": "markdown",
   "id": "structural-airport",
   "metadata": {},
   "source": [
    "Q5: Write a Python program to swap two variables without temp variable?"
   ]
  },
  {
   "cell_type": "code",
   "execution_count": 35,
   "id": "parental-mortality",
   "metadata": {},
   "outputs": [
    {
     "name": "stdout",
     "output_type": "stream",
     "text": [
      " Enter the value of x : surya\n",
      " Enter the value of y : parbat\n",
      "Before swapping: \n",
      "\n",
      "Value of x :  surya  and y :  parbat\n",
      "\n",
      " After swapping: \n",
      "\n",
      " Value of x :  parbat  and y :  surya\n"
     ]
    }
   ],
   "source": [
    "x = input(\" Enter the value of x : \")\n",
    "y = input(\" Enter the value of y : \")\n",
    " \n",
    "print (\"Before swapping: \\n\")\n",
    "print(\"Value of x : \", x, \" and y : \", y)\n",
    " \n",
    "x, y = y, x\n",
    " \n",
    "print (\"\\n After swapping: \")\n",
    "print(\"\\n Value of x : \", x, \" and y : \", y)"
   ]
  }
 ],
 "metadata": {
  "kernelspec": {
   "display_name": "Python 3",
   "language": "python",
   "name": "python3"
  },
  "language_info": {
   "codemirror_mode": {
    "name": "ipython",
    "version": 3
   },
   "file_extension": ".py",
   "mimetype": "text/x-python",
   "name": "python",
   "nbconvert_exporter": "python",
   "pygments_lexer": "ipython3",
   "version": "3.8.8"
  }
 },
 "nbformat": 4,
 "nbformat_minor": 5
}
