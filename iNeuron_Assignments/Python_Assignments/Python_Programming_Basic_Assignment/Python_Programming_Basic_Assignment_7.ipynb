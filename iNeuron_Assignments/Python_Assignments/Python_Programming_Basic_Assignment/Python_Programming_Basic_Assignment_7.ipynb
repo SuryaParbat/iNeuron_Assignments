{
 "cells": [
  {
   "cell_type": "markdown",
   "id": "prime-occasions",
   "metadata": {},
   "source": [
    "# Python Programming Basic Assignment 7"
   ]
  },
  {
   "cell_type": "markdown",
   "id": "institutional-brown",
   "metadata": {},
   "source": [
    "Q1: Write a Python Program to find sum of array?"
   ]
  },
  {
   "cell_type": "code",
   "execution_count": 15,
   "id": "opposite-startup",
   "metadata": {},
   "outputs": [
    {
     "name": "stdout",
     "output_type": "stream",
     "text": [
      "Enter the size of the array : 5\n",
      " Enter the 0 element of array : 43\n",
      " Enter the 1 element of array : 45\n",
      " Enter the 2 element of array : 47\n",
      " Enter the 3 element of array : 67\n",
      " Enter the 4 element of array : 88\n",
      "\n",
      "Sum of array  [43.0, 45.0, 47.0, 67.0, 88.0]  is :  290.0\n"
     ]
    }
   ],
   "source": [
    "size = int(input(\"Enter the size of the array : \"))\n",
    "\n",
    "arr = []\n",
    "sum_arr = 0\n",
    "for i in range(0, size):\n",
    "    arr.append(float(input(\" Enter the {0} element of array : \".format(i))))\n",
    "\n",
    "for j in arr:\n",
    "    sum_arr = sum_arr + j\n",
    "    \n",
    "print(\"\\nSum of array \", arr , \" is : \", sum_arr)"
   ]
  },
  {
   "cell_type": "markdown",
   "id": "designing-vanilla",
   "metadata": {},
   "source": [
    "Q2 : Write a Python Program to find largest element in an array?"
   ]
  },
  {
   "cell_type": "code",
   "execution_count": 16,
   "id": "ranking-theme",
   "metadata": {},
   "outputs": [
    {
     "name": "stdout",
     "output_type": "stream",
     "text": [
      "Enter the size of the array : 7\n",
      " Enter the 0 element of array : 34\n",
      " Enter the 1 element of array : 54\n",
      " Enter the 2 element of array : 66\n",
      " Enter the 3 element of array : 76\n",
      " Enter the 4 element of array : 99\n",
      " Enter the 5 element of array : 23\n",
      " Enter the 6 element of array : 45\n",
      "\n",
      "Largest element of array  [34.0, 54.0, 66.0, 76.0, 99.0, 23.0, 45.0]  is :  99.0\n"
     ]
    }
   ],
   "source": [
    "size = int(input(\"Enter the size of the array : \"))\n",
    "\n",
    "arr = [] \n",
    "for i in range(0, size):\n",
    "    arr.append(float(input(\" Enter the {0} element of array : \".format(i))))\n",
    "\n",
    "arr_max = arr[0]\n",
    "\n",
    "for j in range(1, size):\n",
    "    if arr[j] > arr_max:\n",
    "        arr_max = arr[j]\n",
    "\n",
    "print(\"\\nLargest element of array \", arr , \" is : \", arr_max)"
   ]
  },
  {
   "cell_type": "markdown",
   "id": "cathedral-nudist",
   "metadata": {},
   "source": [
    "Q3 : Write a Python Program for array rotation?"
   ]
  },
  {
   "cell_type": "markdown",
   "id": "acting-anchor",
   "metadata": {},
   "source": [
    "# By using array slicing"
   ]
  },
  {
   "cell_type": "code",
   "execution_count": 17,
   "id": "automated-submission",
   "metadata": {},
   "outputs": [
    {
     "name": "stdout",
     "output_type": "stream",
     "text": [
      "Enter the size of the array : 7\n",
      " Enter the 0 element of array : 1\n",
      " Enter the 1 element of array : 2\n",
      " Enter the 2 element of array : 3\n",
      " Enter the 3 element of array : 4\n",
      " Enter the 4 element of array : 5\n",
      " Enter the 5 element of array : 6\n",
      " Enter the 6 element of array : 7\n",
      "\n",
      "Select operation.\n",
      "1.Left Rotation\n",
      "2.Right Rotation\n",
      "\n",
      "Enter choice(1/2): 1\n",
      "By how many elements you want to rotate array : 2\n",
      "Entered array :\n",
      "[1, 2, 3, 4, 5, 6, 7]\n",
      "Left Rotated list is :\n",
      "[3, 4, 5, 6, 7, 1, 2]\n"
     ]
    }
   ],
   "source": [
    "size = int(input(\"Enter the size of the array : \"))\n",
    "\n",
    "arr = [] \n",
    "left_arr = []\n",
    "right_arr = []\n",
    "for i in range(0, size):\n",
    "    arr.append(int(input(\" Enter the {0} element of array : \".format(i))))\n",
    "\n",
    "print(\"\\nSelect operation.\")\n",
    "print(\"1.Left Rotation\")\n",
    "print(\"2.Right Rotation\")\n",
    "\n",
    "while True:\n",
    "    choice = int(input(\"\\nEnter choice(1/2): \"))\n",
    "\n",
    "    if choice in (1,2):\n",
    "        d = int(input(\"By how many elements you want to rotate array : \"))\n",
    "\n",
    "        if choice == 1:\n",
    "            left_arr[:]=arr[d:size]+arr[0:d]\n",
    "            print(\"Entered array :\")\n",
    "            print(arr)\n",
    "            print(\"Left Rotated list is :\")\n",
    "            print(left_arr)\n",
    "\n",
    "        elif choice == 2:\n",
    "            right_arr[:]=arr[-d:size]+arr[0:-d]\n",
    "            print(\"Entered array :\")\n",
    "            print(arr)\n",
    "            print(\"Right Rotated list is :\")\n",
    "            print(right_arr)\n",
    "        break\n",
    "    else:\n",
    "        print(\" Invalid Input\")\n"
   ]
  },
  {
   "cell_type": "markdown",
   "id": "general-leadership",
   "metadata": {},
   "source": [
    "Q4 : Write a Python Program to Split the array and add the first part to the end?"
   ]
  },
  {
   "cell_type": "code",
   "execution_count": 19,
   "id": "broad-kernel",
   "metadata": {},
   "outputs": [
    {
     "name": "stdout",
     "output_type": "stream",
     "text": [
      "Enter the size of the array : 7\n",
      " Enter the 0 element of array : 7\n",
      " Enter the 1 element of array : 6\n",
      " Enter the 2 element of array : 5\n",
      " Enter the 3 element of array : 4\n",
      " Enter the 4 element of array : 3\n",
      " Enter the 5 element of array : 2\n",
      " Enter the 6 element of array : 1\n",
      "Enter the position from where you want to split the array : 3\n",
      "Array you entered : \n",
      "[7, 6, 5, 4, 3, 2, 1]\n",
      "Array after split and added to the end : \n",
      "[4, 3, 2, 1, 7, 6, 5]\n"
     ]
    }
   ],
   "source": [
    "def splitArr(arr, n, k):\n",
    "    for i in range(0, k):\n",
    "        x = arr[0]\n",
    "        for j in range(0, n-1):\n",
    "            arr[j] = arr[j + 1]\n",
    "        \n",
    "        arr[n-1] = x\n",
    "    return arr    \n",
    "\n",
    "size = int(input(\"Enter the size of the array : \"))\n",
    "\n",
    "arr = []\n",
    "for i in range(0, size):\n",
    "    arr.append(int(input(\" Enter the {0} element of array : \".format(i))))\n",
    "    \n",
    "position = int(input(\"Enter the position from where you want to split the array : \"))\n",
    "print(\"Array you entered : \")\n",
    "print(arr)\n",
    "\n",
    "splitArr(arr, size, position)\n",
    "\n",
    "print(\"Array after split and added to the end : \")\n",
    "print(arr)\n",
    "\n"
   ]
  },
  {
   "cell_type": "markdown",
   "id": "nominated-fitness",
   "metadata": {},
   "source": [
    "Q5 : Write a Python Program to check if given array is Monotonic?"
   ]
  },
  {
   "cell_type": "code",
   "execution_count": 22,
   "id": "naughty-screening",
   "metadata": {},
   "outputs": [
    {
     "name": "stdout",
     "output_type": "stream",
     "text": [
      "input size of the array :7\n",
      "input value for position 0 : 9\n",
      "input value for position 1 : 8\n",
      "input value for position 2 : 7\n",
      "input value for position 3 : 6\n",
      "input value for position 4 : 5\n",
      "input value for position 5 : 4\n",
      "input value for position 6 : 3\n",
      "Input array is Monotonic decreasing\n"
     ]
    }
   ],
   "source": [
    "user_array = list()\n",
    "\n",
    "def is_monotonic(A):\n",
    "    if all(A[i] <= A[i+1] for i in range (len(A)-1)):\n",
    "        return \"Monotonic increasing\"\n",
    "    elif all(A[i] >= A[i+1] for i in range (len(A)-1)):\n",
    "        return \"Monotonic decreasing\"\n",
    "    \n",
    "    return \"not Monotonic array\"\n",
    "\n",
    "n = int(input(\"input size of the array :\"))\n",
    "\n",
    "for i in range(n):\n",
    "    s=int(input(\"input value for position {} : \".format(i)))\n",
    "    user_array.append(s)\n",
    "\n",
    "print(\"Input array is \"+is_monotonic(user_array))"
   ]
  },
  {
   "cell_type": "markdown",
   "id": "executive-maryland",
   "metadata": {},
   "source": [
    "## "
   ]
  }
 ],
 "metadata": {
  "kernelspec": {
   "display_name": "Python 3",
   "language": "python",
   "name": "python3"
  },
  "language_info": {
   "codemirror_mode": {
    "name": "ipython",
    "version": 3
   },
   "file_extension": ".py",
   "mimetype": "text/x-python",
   "name": "python",
   "nbconvert_exporter": "python",
   "pygments_lexer": "ipython3",
   "version": "3.8.8"
  }
 },
 "nbformat": 4,
 "nbformat_minor": 5
}
