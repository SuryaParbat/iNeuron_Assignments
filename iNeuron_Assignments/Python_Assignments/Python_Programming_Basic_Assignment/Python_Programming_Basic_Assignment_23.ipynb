{
 "cells": [
  {
   "cell_type": "markdown",
   "id": "molecular-charger",
   "metadata": {},
   "source": [
    "# Python Programming Basic Assignment 23"
   ]
  },
  {
   "cell_type": "markdown",
   "id": "cardiac-crown",
   "metadata": {},
   "source": [
    "# Q1 :\n",
    "Create a function that takes a number as an argument and returns True or False depending\n",
    "on whether the number is symmetrical or not. A number is symmetrical when it is the same as\n",
    "its reverse.\n",
    "\n",
    "Examples:\n",
    "    \n",
    "is_symmetrical(7227) ➞ True\n",
    "\n",
    "is_symmetrical(12567) ➞ False\n",
    "\n",
    "is_symmetrical(44444444) ➞ True\n",
    "\n",
    "is_symmetrical(9939) ➞ False\n",
    "\n",
    "is_symmetrical(1112111) ➞ True"
   ]
  },
  {
   "cell_type": "code",
   "execution_count": 1,
   "id": "suited-gamma",
   "metadata": {},
   "outputs": [
    {
     "name": "stdout",
     "output_type": "stream",
     "text": [
      "True\n",
      "False\n",
      "True\n",
      "False\n",
      "True\n"
     ]
    }
   ],
   "source": [
    "def is_symmetrical(n):\n",
    "    \n",
    "    return str(n) == str(n)[::-1]\n",
    "\n",
    "print(is_symmetrical(7227))\n",
    "print(is_symmetrical(12567))\n",
    "print(is_symmetrical(44444444))\n",
    "print(is_symmetrical(9939))\n",
    "print(is_symmetrical(1112111))"
   ]
  },
  {
   "cell_type": "markdown",
   "id": "small-timing",
   "metadata": {},
   "source": [
    "# Q2 :\n",
    "Given a string of numbers separated by a comma and space, return the product of the\n",
    "numbers.\n",
    "\n",
    "Examples:\n",
    "    \n",
    "multiply_nums(&quot;2, 3&quot;) ➞ 6\n",
    "\n",
    "multiply_nums(&quot;1, 2, 3, 4&quot;) ➞ 24\n",
    "\n",
    "multiply_nums(&quot;54, 75, 453, 0&quot;) ➞ 0\n",
    "\n",
    "multiply_nums(&quot;10, -2&quot;) ➞ -20"
   ]
  },
  {
   "cell_type": "code",
   "execution_count": 9,
   "id": "ordinary-weekly",
   "metadata": {},
   "outputs": [],
   "source": [
    "def multiply_nums(string):\n",
    "    num = string.split(',')\n",
    "    mult = 1\n",
    "    for ele in num:\n",
    "        mult = int(ele)*mult\n",
    "    return mult"
   ]
  },
  {
   "cell_type": "code",
   "execution_count": 11,
   "id": "certified-advertising",
   "metadata": {},
   "outputs": [
    {
     "name": "stdout",
     "output_type": "stream",
     "text": [
      "6\n",
      "24\n",
      "0\n",
      "-20\n"
     ]
    }
   ],
   "source": [
    "print(multiply_nums(\"2, 3\"))\n",
    "print(multiply_nums(\"1, 2, 3, 4\"))\n",
    "print(multiply_nums(\"54, 75, 453, 0\"))\n",
    "print(multiply_nums(\"10, -2\"))"
   ]
  },
  {
   "cell_type": "markdown",
   "id": "pretty-impossible",
   "metadata": {},
   "source": [
    "# Q3 :\n",
    "Create a function that squares every digit of a number.\n",
    "\n",
    "Examples:\n",
    "    \n",
    "square_digits(9119) ➞ 811181\n",
    "\n",
    "square_digits(2483) ➞ 416649\n",
    "\n",
    "square_digits(3212) ➞ 9414\n",
    "\n",
    "Notes:\n",
    "    \n",
    "The function receives an integer and must return an integer."
   ]
  },
  {
   "cell_type": "code",
   "execution_count": 26,
   "id": "saved-burke",
   "metadata": {},
   "outputs": [],
   "source": [
    "def square_digits(digit):\n",
    "    sq= []\n",
    "    for i in str(digit):\n",
    "        sq.append(int(i)*int(i))\n",
    "        string_ints = [str(int) for int in sq]\n",
    "    sq_digit = ''.join(string_ints)\n",
    "    return int(sq_digit)"
   ]
  },
  {
   "cell_type": "code",
   "execution_count": 27,
   "id": "satisfactory-order",
   "metadata": {},
   "outputs": [
    {
     "name": "stdout",
     "output_type": "stream",
     "text": [
      "811181\n",
      "416649\n",
      "9414\n"
     ]
    }
   ],
   "source": [
    "print(square_digits(9119))\n",
    "print(square_digits(2483))\n",
    "print(square_digits(3212))"
   ]
  },
  {
   "cell_type": "markdown",
   "id": "unavailable-coral",
   "metadata": {},
   "source": [
    "# Q4 :\n",
    "Create a function that sorts a list and removes all duplicate items from it.\n",
    "\n",
    "Examples:\n",
    "    \n",
    "setify([1, 3, 3, 5, 5]) ➞ [1, 3, 5]\n",
    "\n",
    "setify([4, 4, 4, 4]) ➞ [4]\n",
    "\n",
    "setify([5, 7, 8, 9, 10, 15]) ➞ [5, 7, 8, 9, 10, 15]\n",
    "\n",
    "setify([3, 3, 3, 2, 1]) ➞ [1, 2, 3]"
   ]
  },
  {
   "cell_type": "code",
   "execution_count": 43,
   "id": "judicial-jordan",
   "metadata": {},
   "outputs": [],
   "source": [
    "def setify(user_lst):\n",
    "    # Converting user_lst to tuple to remove any duplicate elements present in list.\n",
    "    sorted_lst = []\n",
    "    filtered_lst = list(set(user_lst))\n",
    "    filtered_lst.sort()\n",
    "    \n",
    "    return filtered_lst"
   ]
  },
  {
   "cell_type": "code",
   "execution_count": 44,
   "id": "relative-dutch",
   "metadata": {},
   "outputs": [
    {
     "name": "stdout",
     "output_type": "stream",
     "text": [
      "[1, 3, 5]\n",
      "[4]\n",
      "[5, 7, 8, 9, 10, 15]\n",
      "[1, 2, 3]\n"
     ]
    }
   ],
   "source": [
    "print(setify([1, 3, 3, 5, 5]))\n",
    "print(setify([4, 4, 4, 4]))\n",
    "print(setify([5, 7, 8, 9, 10, 15]))\n",
    "print(setify([3, 3, 3, 2, 1]))"
   ]
  },
  {
   "cell_type": "markdown",
   "id": "several-pursuit",
   "metadata": {},
   "source": [
    "# Q5 :\n",
    "Create a function that returns the mean of all digits.\n",
    "\n",
    "Examples:\n",
    "    \n",
    "mean(42) ➞ 3\n",
    "\n",
    "mean(12345) ➞ 3\n",
    "\n",
    "mean(666) ➞ 6\n",
    "\n",
    "Notes:\n",
    "    \n",
    " The mean of all digits is the sum of digits / how many digits there are (e.g. mean of digits in\n",
    "512 is (5+1+2)/3(number of digits) = 8/3=2).\n",
    "\n",
    " The mean will always be an integer."
   ]
  },
  {
   "cell_type": "code",
   "execution_count": 46,
   "id": "physical-evans",
   "metadata": {},
   "outputs": [],
   "source": [
    "def mean(num):\n",
    "    sum = 0\n",
    "    len = 0\n",
    "    for ele in str(num):\n",
    "        sum += int(ele)\n",
    "        len += 1\n",
    "    mean = sum//len\n",
    "    return mean"
   ]
  },
  {
   "cell_type": "code",
   "execution_count": 48,
   "id": "environmental-literacy",
   "metadata": {},
   "outputs": [
    {
     "name": "stdout",
     "output_type": "stream",
     "text": [
      "3\n",
      "3\n",
      "6\n"
     ]
    }
   ],
   "source": [
    "print(mean(42))\n",
    "print(mean(12345))\n",
    "print(mean(666))"
   ]
  }
 ],
 "metadata": {
  "kernelspec": {
   "display_name": "Python 3",
   "language": "python",
   "name": "python3"
  },
  "language_info": {
   "codemirror_mode": {
    "name": "ipython",
    "version": 3
   },
   "file_extension": ".py",
   "mimetype": "text/x-python",
   "name": "python",
   "nbconvert_exporter": "python",
   "pygments_lexer": "ipython3",
   "version": "3.8.8"
  }
 },
 "nbformat": 4,
 "nbformat_minor": 5
}
