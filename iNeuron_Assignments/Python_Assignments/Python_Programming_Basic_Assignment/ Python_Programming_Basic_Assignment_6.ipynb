{
 "cells": [
  {
   "cell_type": "markdown",
   "id": "insured-persian",
   "metadata": {},
   "source": [
    "# Python Programming Basic Assignment 6"
   ]
  },
  {
   "cell_type": "markdown",
   "id": "committed-graham",
   "metadata": {},
   "source": [
    "Q1: Write a Python Program to Display Fibonacci Sequence Using Recursion?"
   ]
  },
  {
   "cell_type": "code",
   "execution_count": 3,
   "id": "liquid-culture",
   "metadata": {},
   "outputs": [
    {
     "name": "stdout",
     "output_type": "stream",
     "text": [
      "Enter number of terms:9\n",
      "Fibonacci sequence using Recursion :\n",
      "0\n",
      "1\n",
      "1\n",
      "2\n",
      "3\n",
      "5\n",
      "8\n",
      "13\n",
      "21\n"
     ]
    }
   ],
   "source": [
    "def fib_seq(length):\n",
    "    if(length <= 1):\n",
    "        return length\n",
    "    else:\n",
    "        return (fib_seq(length-1) + fib_seq(length-2))\n",
    "\n",
    "length = int(input(\"Enter number of terms:\"))\n",
    "\n",
    "print(\"Fibonacci sequence using Recursion :\")\n",
    "for iter in range(length):\n",
    "    print(fib_seq(iter))"
   ]
  },
  {
   "cell_type": "markdown",
   "id": "physical-coverage",
   "metadata": {},
   "source": [
    "Q2: Write a Python Program to Find Factorial of Number Using Recursion?"
   ]
  },
  {
   "cell_type": "code",
   "execution_count": 5,
   "id": "qualified-stake",
   "metadata": {},
   "outputs": [
    {
     "name": "stdout",
     "output_type": "stream",
     "text": [
      "Enter number : 9\n",
      "The factorial of 9 is 362880\n"
     ]
    }
   ],
   "source": [
    "def recur_factorial(n):\n",
    "    if n == 1:\n",
    "        return n\n",
    "    else:\n",
    "        return n*recur_factorial(n-1)\n",
    "\n",
    "num = int(input(\"Enter number : \"))\n",
    "\n",
    "# check if the number is negative\n",
    "if num < 0:\n",
    "    print(\"Sorry, factorial does not exist for negative numbers\")\n",
    "elif num == 0:\n",
    "    print(\"The factorial of 0 is 1\")\n",
    "else:\n",
    "    print(\"The factorial of\", num, \"is\", recur_factorial(num))"
   ]
  },
  {
   "cell_type": "markdown",
   "id": "duplicate-thinking",
   "metadata": {},
   "source": [
    "Q3: Write a Python Program to calculate your Body Mass Index?"
   ]
  },
  {
   "cell_type": "code",
   "execution_count": 8,
   "id": "varying-background",
   "metadata": {},
   "outputs": [
    {
     "name": "stdout",
     "output_type": "stream",
     "text": [
      "Enter your height(m): 1.83\n",
      "Enter your weight(kg): 85\n",
      "Your BMI is:  25.38\n"
     ]
    }
   ],
   "source": [
    "height = float(input(\"Enter your height(m): \"))\n",
    "weight = float(input(\"Enter your weight(kg): \"))\n",
    "print(\"Your BMI is: \", round(weight / (height * height), 2))"
   ]
  },
  {
   "cell_type": "markdown",
   "id": "forbidden-journalism",
   "metadata": {},
   "source": [
    "Q4: Write a Python Program to calculate the natural logarithm of any number?"
   ]
  },
  {
   "cell_type": "code",
   "execution_count": 12,
   "id": "efficient-contact",
   "metadata": {},
   "outputs": [
    {
     "name": "stdout",
     "output_type": "stream",
     "text": [
      "Enter number : 14\n",
      "Natural logarithm of 14 is 2.6390573296152584 \n"
     ]
    }
   ],
   "source": [
    "import math\n",
    "\n",
    "num = int(input(\"Enter number : \"))\n",
    "print (\"Natural logarithm of {0} is {1} \".format(num, math.log(num)))"
   ]
  },
  {
   "cell_type": "markdown",
   "id": "alternate-assist",
   "metadata": {},
   "source": [
    "Q5: Write a Python Program for cube sum of first n natural numbers?"
   ]
  },
  {
   "cell_type": "code",
   "execution_count": 14,
   "id": "relevant-redhead",
   "metadata": {},
   "outputs": [
    {
     "name": "stdout",
     "output_type": "stream",
     "text": [
      "Enter number : 3\n",
      "36\n"
     ]
    }
   ],
   "source": [
    "def sumofcubes(n):\n",
    "    sum = 0\n",
    "    for i in range(1, n+1):\n",
    "        sum +=i*i*i\n",
    "         \n",
    "    return sum\n",
    "\n",
    "n = int(input(\"Enter number : \"))\n",
    "print(sumofcubes(n))"
   ]
  }
 ],
 "metadata": {
  "kernelspec": {
   "display_name": "Python 3",
   "language": "python",
   "name": "python3"
  },
  "language_info": {
   "codemirror_mode": {
    "name": "ipython",
    "version": 3
   },
   "file_extension": ".py",
   "mimetype": "text/x-python",
   "name": "python",
   "nbconvert_exporter": "python",
   "pygments_lexer": "ipython3",
   "version": "3.8.8"
  }
 },
 "nbformat": 4,
 "nbformat_minor": 5
}
