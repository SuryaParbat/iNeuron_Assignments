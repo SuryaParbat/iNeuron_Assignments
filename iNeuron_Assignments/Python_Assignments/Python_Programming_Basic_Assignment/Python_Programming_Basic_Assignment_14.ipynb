{
 "cells": [
  {
   "cell_type": "markdown",
   "id": "continuing-friendship",
   "metadata": {},
   "source": [
    "# Python Programming Basic Assignment 14"
   ]
  },
  {
   "cell_type": "markdown",
   "id": "remarkable-memory",
   "metadata": {},
   "source": [
    "# Q1 :\n",
    "Define a class with a generator which can iterate the numbers, which are divisible by\n",
    "7, between a given range 0 and n."
   ]
  },
  {
   "cell_type": "code",
   "execution_count": 5,
   "id": "waiting-relative",
   "metadata": {},
   "outputs": [],
   "source": [
    "def divby7(n):\n",
    "    for i in range(n):\n",
    "        try:\n",
    "            if i % 7 == 0:\n",
    "                print(i,\" is divisible by 7\")\n",
    "            #else:\n",
    "                #print(i, \" not divisible by 7\")\n",
    "        except Exception as e:\n",
    "            print(\"There is some issue you need to resolve : \", e)"
   ]
  },
  {
   "cell_type": "code",
   "execution_count": 8,
   "id": "flush-curve",
   "metadata": {},
   "outputs": [
    {
     "name": "stdout",
     "output_type": "stream",
     "text": [
      "0  is divisible by 7\n",
      "7  is divisible by 7\n",
      "14  is divisible by 7\n",
      "21  is divisible by 7\n",
      "28  is divisible by 7\n",
      "35  is divisible by 7\n",
      "42  is divisible by 7\n",
      "49  is divisible by 7\n",
      "56  is divisible by 7\n",
      "63  is divisible by 7\n",
      "70  is divisible by 7\n",
      "77  is divisible by 7\n",
      "84  is divisible by 7\n",
      "91  is divisible by 7\n",
      "98  is divisible by 7\n"
     ]
    }
   ],
   "source": [
    "divby7(100)"
   ]
  },
  {
   "cell_type": "markdown",
   "id": "professional-output",
   "metadata": {},
   "source": [
    "# Q2 :\n",
    "Write a program to compute the frequency of the words from the input. The output\n",
    "should output after sorting the key alphanumerically.\n",
    "\n",
    "Suppose the following input is supplied to the program:\n",
    "    \n",
    "New to Python or choosing between Python 2 and Python 3? Read Python 2 or\n",
    "Python 3.\n",
    "\n",
    "Then, the output should be:\n",
    "\n",
    "2:2\n",
    "\n",
    "3.:1\n",
    "\n",
    "3?:1\n",
    "\n",
    "New:1\n",
    "\n",
    "Python:5\n",
    "\n",
    "Read:1\n",
    "\n",
    "and:1\n",
    "\n",
    "between:1\n",
    "\n",
    "choosing:1\n",
    "\n",
    "or:2\n",
    "\n",
    "to:1"
   ]
  },
  {
   "cell_type": "code",
   "execution_count": 15,
   "id": "august-functionality",
   "metadata": {},
   "outputs": [
    {
     "name": "stdout",
     "output_type": "stream",
     "text": [
      "Type in : New to Python or choosing between Python 2 and Python 3? Read Python 2 or Python 3.\n",
      "2:2\n",
      "3.:1\n",
      "3?:1\n",
      "New:1\n",
      "Python:5\n",
      "Read:1\n",
      "and:1\n",
      "between:1\n",
      "choosing:1\n",
      "or:2\n",
      "to:1\n"
     ]
    }
   ],
   "source": [
    "import operator\n",
    "\n",
    "text_line = input(\"Type in : \")\n",
    "\n",
    "freq_dict = {}\n",
    "\n",
    "for i in text_line.split(' '):\n",
    "\n",
    "    if i not in freq_dict:\n",
    "        freq_dict[i] = 1\n",
    "    elif i in freq_dict:\n",
    "        freq_dict[i] = freq_dict[i] + 1\n",
    "\n",
    "sorted_freq_dict = sorted(freq_dict.items(), key = operator.itemgetter(0))\n",
    "#print(sorted_freq_dict)\n",
    "\n",
    "for i in sorted_freq_dict:\n",
    "    print(str(i[0])+\":\"+str(i[1]))"
   ]
  },
  {
   "cell_type": "markdown",
   "id": "approximate-pharmacy",
   "metadata": {},
   "source": [
    "# Q3 :\n",
    "Define a class Person and its two child classes: Male and Female. All classes have a\n",
    "method &quot;getGender&quot; which can print &quot;Male&quot; for Male class and &quot;Female&quot; for Female\n",
    "class."
   ]
  },
  {
   "cell_type": "code",
   "execution_count": 32,
   "id": "expensive-center",
   "metadata": {},
   "outputs": [
    {
     "name": "stdout",
     "output_type": "stream",
     "text": [
      "Ram Male\n",
      "Seeta Female\n"
     ]
    }
   ],
   "source": [
    "class Person(object):\n",
    "    \n",
    "    def __init__(self, name):\n",
    "        self.name = name\n",
    "        \n",
    "    def getname(self):\n",
    "        return self.name\n",
    "    \n",
    "    def getGender(self):\n",
    "        return \"Unknown\"\n",
    "\n",
    "class Male(Person):\n",
    "    def getGender(self):\n",
    "        return \"Male\"\n",
    "\n",
    "class Female(Person):\n",
    "    def getGender(self):\n",
    "        return \"Female\"\n",
    "\n",
    "aMale = Male(\"Ram\")\n",
    "aFemale= Female(\"Seeta\")\n",
    "print(aMale.getname() ,aMale.getGender())\n",
    "print(aFemale.getname() ,aFemale.getGender())"
   ]
  },
  {
   "cell_type": "markdown",
   "id": "billion-halifax",
   "metadata": {},
   "source": [
    "# Q4 : \n",
    "Please write a program to generate all sentences where subject is in [&quot;I&quot;, &quot;You&quot;] and\n",
    "verb is in [&quot;Play&quot;, &quot;Love&quot;] and the object is in [&quot;Hockey&quot;,&quot;Football&quot;]."
   ]
  },
  {
   "cell_type": "code",
   "execution_count": 33,
   "id": "disturbed-perfume",
   "metadata": {},
   "outputs": [
    {
     "name": "stdout",
     "output_type": "stream",
     "text": [
      "I Play Hockey.\n",
      "I Play Football.\n",
      "I Love Hockey.\n",
      "I Love Football.\n",
      "You Play Hockey.\n",
      "You Play Football.\n",
      "You Love Hockey.\n",
      "You Love Football.\n"
     ]
    }
   ],
   "source": [
    "subjects=[\"I\", \"You\"]\n",
    "verbs=[\"Play\", \"Love\"]\n",
    "objects=[\"Hockey\",\"Football\"]\n",
    "for i in range(len(subjects)):\n",
    "    for j in range(len(verbs)):\n",
    "        for k in range(len(objects)):\n",
    "            sentence = \"%s %s %s.\" % (subjects[i], verbs[j], objects[k])\n",
    "            print(sentence)\n"
   ]
  },
  {
   "cell_type": "markdown",
   "id": "medical-impact",
   "metadata": {},
   "source": [
    "# Q5 : \n",
    "Please write a program to compress and decompress the string &quot;hello world!hello\n",
    "world!hello world!hello world!&quot;."
   ]
  },
  {
   "cell_type": "code",
   "execution_count": 39,
   "id": "impaired-receptor",
   "metadata": {},
   "outputs": [
    {
     "name": "stdout",
     "output_type": "stream",
     "text": [
      "b'x\\x9c\\xcbH\\xcd\\xc9\\xc9W(\\xcf/\\xcaIQ\\xcc \\x82\\r\\x00\\xbd[\\x11\\xf5'\n",
      "b'hello world!hello world!hello world!hello world!'\n"
     ]
    }
   ],
   "source": [
    "import zlib\n",
    "s = 'hello world!hello world!hello world!hello world!'\n",
    "# In Python 3 zlib.compress() accepts only DataType <bytes>\n",
    "y = bytes(s, 'utf-8')\n",
    "compres_s = zlib.compress(y)\n",
    "print(compres_s)\n",
    "print(zlib.decompress(compres_s))"
   ]
  },
  {
   "cell_type": "markdown",
   "id": "selected-shannon",
   "metadata": {},
   "source": [
    "# Q6 :\n",
    "Please write a binary search function which searches an item in a sorted list. The\n",
    "function should return the index of element to be searched in the list."
   ]
  },
  {
   "cell_type": "code",
   "execution_count": 55,
   "id": "serious-thanks",
   "metadata": {},
   "outputs": [
    {
     "name": "stdout",
     "output_type": "stream",
     "text": [
      "Sorted list :  [2, 5, 7, 9, 11, 17, 222]\n",
      "Searched element is at index :  4\n",
      "Searched element is at index :  2\n"
     ]
    }
   ],
   "source": [
    "import math\n",
    "def bin_search(li, element):\n",
    "    bottom = 0\n",
    "    top = len(li)-1\n",
    "    index = -1\n",
    "    while top>=bottom and index==-1:\n",
    "        mid = int((top+bottom)/2)\n",
    "        #print(\"mid: \",mid)\n",
    "        if li[mid]==element:\n",
    "            index = mid\n",
    "        elif li[mid]>element:\n",
    "            top = mid-1\n",
    "        else:\n",
    "            bottom = mid+1\n",
    "\n",
    "    return index\n",
    "\n",
    "li=[2,5,7,9,11,17,222]\n",
    "print(\"Sorted list : \", li)\n",
    "print(\"Searched element is at index : \",bin_search(li,11))\n",
    "print(\"Searched element is at index : \",bin_search(li,7))\n"
   ]
  },
  {
   "cell_type": "code",
   "execution_count": 68,
   "id": "pharmaceutical-joining",
   "metadata": {},
   "outputs": [],
   "source": [
    "from bisect import bisect_left\n",
    "  \n",
    "def BinarySearch(a, x):\n",
    "\n",
    "    i = bisect_left(a, x)\n",
    "    if i:\n",
    "        return i\n",
    "    else:\n",
    "        return -1\n"
   ]
  },
  {
   "cell_type": "code",
   "execution_count": 69,
   "id": "muslim-power",
   "metadata": {},
   "outputs": [
    {
     "name": "stdout",
     "output_type": "stream",
     "text": [
      "Searched element  17  is at index  5\n"
     ]
    }
   ],
   "source": [
    "a  = [2,5,7,9,11,17,222]\n",
    "x = int(17)\n",
    "res = BinarySearch(a, x)\n",
    "if res == -1:\n",
    "    print(x, \"is not found in given list\")\n",
    "else:\n",
    "    print(\"Searched element \", x, \" is at index \", res)"
   ]
  }
 ],
 "metadata": {
  "kernelspec": {
   "display_name": "Python 3",
   "language": "python",
   "name": "python3"
  },
  "language_info": {
   "codemirror_mode": {
    "name": "ipython",
    "version": 3
   },
   "file_extension": ".py",
   "mimetype": "text/x-python",
   "name": "python",
   "nbconvert_exporter": "python",
   "pygments_lexer": "ipython3",
   "version": "3.8.8"
  }
 },
 "nbformat": 4,
 "nbformat_minor": 5
}
