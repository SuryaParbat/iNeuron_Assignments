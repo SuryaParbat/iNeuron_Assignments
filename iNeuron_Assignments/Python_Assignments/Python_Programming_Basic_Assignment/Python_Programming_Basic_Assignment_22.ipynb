{
 "cells": [
  {
   "cell_type": "markdown",
   "id": "parliamentary-orientation",
   "metadata": {},
   "source": [
    "# Python Programming Basic Assignment 22"
   ]
  },
  {
   "cell_type": "markdown",
   "id": "dated-element",
   "metadata": {},
   "source": [
    "# Q1 :\n",
    "Create a function that takes three parameters where:\n",
    "    \n",
    " x is the start of the range (inclusive).\n",
    "\n",
    " y is the end of the range (inclusive).\n",
    "\n",
    " n is the divisor to be checked against.\n",
    "\n",
    "Return an ordered list with numbers in the range that are divisible by the third parameter n.\n",
    "\n",
    "Return an empty list if there are no numbers that are divisible by n.\n",
    "\n",
    "Examples:\n",
    "    \n",
    "list_operation(1, 10, 3) ➞ [3, 6, 9]\n",
    "\n",
    "list_operation(7, 9, 2) ➞ [8]\n",
    "\n",
    "list_operation(15, 20, 7) ➞ []"
   ]
  },
  {
   "cell_type": "code",
   "execution_count": 1,
   "id": "listed-assistant",
   "metadata": {},
   "outputs": [],
   "source": [
    "def list_operation(lower_limit, upper_limit, n):\n",
    "    lst = []\n",
    "    for ele in range(lower_limit, upper_limit +1 ):\n",
    "        if ele % n == 0:\n",
    "            lst.append(ele)\n",
    "    return lst"
   ]
  },
  {
   "cell_type": "code",
   "execution_count": 2,
   "id": "buried-rugby",
   "metadata": {},
   "outputs": [
    {
     "name": "stdout",
     "output_type": "stream",
     "text": [
      "[3, 6, 9]\n",
      "[8]\n",
      "[]\n"
     ]
    }
   ],
   "source": [
    "print(list_operation(1, 10, 3))\n",
    "print(list_operation(7, 9, 2))\n",
    "print(list_operation(15, 20, 7))"
   ]
  },
  {
   "cell_type": "markdown",
   "id": "entertaining-definition",
   "metadata": {},
   "source": [
    "# Q2 :\n",
    "Create a function that takes in two lists and returns True if the second list follows the first list\n",
    "by one element, and False otherwise. In other words, determine if the second list is the first\n",
    "list shifted to the right by 1.\n",
    "\n",
    "Examples:\n",
    "    \n",
    "simon_says([1, 2], [5, 1]) ➞ True\n",
    "\n",
    "simon_says([1, 2], [5, 5]) ➞ False\n",
    "\n",
    "simon_says([1, 2, 3, 4, 5], [0, 1, 2, 3, 4]) ➞ True\n",
    "\n",
    "simon_says([1, 2, 3, 4, 5], [5, 5, 1, 2, 3]) ➞ False\n",
    "\n",
    "Notes:\n",
    "    \n",
    " Both input lists will be of the same length, and will have a minimum length of 2.\n",
    "\n",
    " The values of the 0-indexed element in the second list and the n-1th indexed element\n",
    "in the first list do not matter.\n"
   ]
  },
  {
   "cell_type": "code",
   "execution_count": 11,
   "id": "fallen-glasgow",
   "metadata": {},
   "outputs": [],
   "source": [
    "def simon_says(lst1, lst2):\n",
    "    if len(lst1) >=2 and len(lst2) >= 2 and len(lst1) == len(lst2):\n",
    "        if lst1[0] == lst2[1]:\n",
    "            return \"True\"\n",
    "        else:\n",
    "            return \"False\"\n",
    "    else:\n",
    "        return \"Minimun length of both lists must be 2 and must have same length\""
   ]
  },
  {
   "cell_type": "code",
   "execution_count": 17,
   "id": "starting-andrew",
   "metadata": {},
   "outputs": [
    {
     "name": "stdout",
     "output_type": "stream",
     "text": [
      "True\n",
      "False\n",
      "True\n",
      "False\n"
     ]
    }
   ],
   "source": [
    "print(simon_says([1,2], [5,1]))\n",
    "print(simon_says([1, 2], [5, 5]))\n",
    "print(simon_says([1, 2, 3, 4, 5], [0, 1, 2, 3, 4]))\n",
    "print(simon_says([1, 2, 3, 4, 5], [5, 5, 1, 2, 3]))"
   ]
  },
  {
   "cell_type": "markdown",
   "id": "greater-ordinance",
   "metadata": {},
   "source": [
    "# Q3 :\n",
    "A group of friends have decided to start a secret society. The name will be the first letter of\n",
    "each of their names, sorted in alphabetical order.\n",
    "\n",
    "Create a function that takes in a list of names and returns the name of the secret society.\n",
    "\n",
    "Examples:\n",
    "    \n",
    "society_name([&quot;Adam&quot;, &quot;Sarah&quot;, &quot;Malcolm&quot;]) ➞ &quot;AMS&quot;\n",
    "\n",
    "society_name([&quot;Harry&quot;, &quot;Newt&quot;, &quot;Luna&quot;, &quot;Cho&quot;]) ➞ &quot;CHLN&quot;\n",
    "\n",
    "society_name([&quot;Phoebe&quot;, &quot;Chandler&quot;, &quot;Rachel&quot;, &quot;Ross&quot;, &quot;Monica&quot;, &quot;Joey&quot;])"
   ]
  },
  {
   "cell_type": "code",
   "execution_count": 37,
   "id": "continuing-hobby",
   "metadata": {},
   "outputs": [],
   "source": [
    "def society_name(lst):\n",
    "    name = ''\n",
    "    for i in range(len(lst)):\n",
    "        name += lst[i][0]\n",
    "    sorted_name= sorted(name)\n",
    "    sorted_name = ''.join(sorted_name)\n",
    "    return str(sorted_name)"
   ]
  },
  {
   "cell_type": "code",
   "execution_count": 38,
   "id": "beginning-roads",
   "metadata": {},
   "outputs": [
    {
     "name": "stdout",
     "output_type": "stream",
     "text": [
      "AMS\n",
      "CHLN\n",
      "CJMPRR\n"
     ]
    }
   ],
   "source": [
    "print(society_name([\"Adam\", \"Sarah\", \"Malcolm\"]))\n",
    "print(society_name([\"Harry\", \"Newt\", \"Luna\", \"Cho\"]))\n",
    "print(society_name([\"Phoebe\", \"Chandler\", \"Rachel\", \"Ross\", \"Monica\", \"Joey\"]))"
   ]
  },
  {
   "cell_type": "markdown",
   "id": "regular-english",
   "metadata": {},
   "source": [
    "# Q4 :\n",
    "An isogram is a word that has no duplicate letters. Create a function that takes a string and\n",
    "returns either True or False depending on whether or not it&#39;s an &quot;isogram&quot;.\n",
    "\n",
    "Examples:\n",
    "    \n",
    "is_isogram(&quot;Algorism&quot;) ➞ True\n",
    "\n",
    "is_isogram(&quot;PasSword&quot;) ➞ False\n",
    "\n",
    "Not case sensitive.\n",
    "\n",
    "is_isogram(&quot;Consecutive&quot;) ➞ False\n",
    "\n",
    "Notes:\n",
    "    \n",
    " Ignore letter case (should not be case sensitive).\n",
    "\n",
    " All test cases contain valid one word strings."
   ]
  },
  {
   "cell_type": "code",
   "execution_count": 28,
   "id": "modern-threshold",
   "metadata": {},
   "outputs": [],
   "source": [
    "def is_isogram(word):\n",
    "\n",
    "    # Convert the word or sentence in lower case letters.\n",
    "    clean_word = word.lower()\n",
    "\n",
    "    # Make an empty list to append unique letters\n",
    "    letter_list = []\n",
    "    \n",
    "    if len(word) != 0:\n",
    "\n",
    "        for letter in clean_word:\n",
    "\n",
    "            # If letter is an alphabet then only check\n",
    "            if letter.isalpha():\n",
    "                if letter in letter_list:\n",
    "                    return False\n",
    "                letter_list.append(letter)\n",
    "\n",
    "        return True"
   ]
  },
  {
   "cell_type": "code",
   "execution_count": 29,
   "id": "every-plaza",
   "metadata": {},
   "outputs": [
    {
     "name": "stdout",
     "output_type": "stream",
     "text": [
      "True\n",
      "False\n",
      "False\n"
     ]
    }
   ],
   "source": [
    "print(is_isogram(\"Algorism\"))\n",
    "print(is_isogram(\"PasSword\"))\n",
    "print(is_isogram(\"Consecutive\"))"
   ]
  },
  {
   "cell_type": "markdown",
   "id": "optical-mystery",
   "metadata": {},
   "source": [
    "# Q5 :\n",
    "Create a function that takes a string and returns True or False, depending on whether the\n",
    "characters are in order or not.\n",
    "\n",
    "Examples:\n",
    "    \n",
    "is_in_order(&quot;abc&quot;) ➞ True\n",
    "\n",
    "is_in_order(&quot;edabit&quot;) ➞ False\n",
    "\n",
    "is_in_order(&quot;123&quot;) ➞ True\n",
    "\n",
    "is_in_order(&quot;xyzz&quot;) ➞ True\n",
    "\n",
    "Notes:\n",
    "    \n",
    "You don&#39;t have to handle empty strings."
   ]
  },
  {
   "cell_type": "code",
   "execution_count": 31,
   "id": "american-reservoir",
   "metadata": {},
   "outputs": [],
   "source": [
    "def is_in_order(s):\n",
    "    n = len(s)\n",
    " \n",
    "    for i in range(1, n):\n",
    " \n",
    "        # if element at index 'i' is less\n",
    "        # than the element at index 'i-1'\n",
    "        # then the string is not sorted\n",
    "        if (s[i] < s[i - 1]) :\n",
    "            \n",
    "            return False\n",
    " \n",
    "    return True"
   ]
  },
  {
   "cell_type": "code",
   "execution_count": 32,
   "id": "otherwise-disorder",
   "metadata": {},
   "outputs": [
    {
     "name": "stdout",
     "output_type": "stream",
     "text": [
      "True\n",
      "False\n",
      "True\n",
      "True\n"
     ]
    }
   ],
   "source": [
    "print(is_in_order(\"abc\"))\n",
    "print(is_in_order(\"edabit\"))\n",
    "print(is_in_order(\"123\"))\n",
    "print(is_in_order(\"xyzz\"))"
   ]
  },
  {
   "cell_type": "code",
   "execution_count": 39,
   "id": "eight-batch",
   "metadata": {},
   "outputs": [],
   "source": [
    "def is_in_order(s):\n",
    "    # length of the string\n",
    "    n = len(s)\n",
    " \n",
    "    # create a character array\n",
    "    # of the length of the string\n",
    "    c = [s[i] for i in range(len(s))]\n",
    " \n",
    "    # sort the character array\n",
    "    c.sort(reverse = False)\n",
    " \n",
    "    # check if the character array\n",
    "    # is equal to the string or not\n",
    "    for i in range(n):\n",
    "        if (c[i] != s[i]):\n",
    "            return False\n",
    "         \n",
    "    return True"
   ]
  },
  {
   "cell_type": "code",
   "execution_count": 40,
   "id": "laden-attack",
   "metadata": {},
   "outputs": [
    {
     "name": "stdout",
     "output_type": "stream",
     "text": [
      "True\n",
      "False\n",
      "True\n",
      "True\n"
     ]
    }
   ],
   "source": [
    "print(is_in_order(\"abc\"))\n",
    "print(is_in_order(\"edabit\"))\n",
    "print(is_in_order(\"123\"))\n",
    "print(is_in_order(\"xyzz\"))"
   ]
  }
 ],
 "metadata": {
  "kernelspec": {
   "display_name": "Python 3",
   "language": "python",
   "name": "python3"
  },
  "language_info": {
   "codemirror_mode": {
    "name": "ipython",
    "version": 3
   },
   "file_extension": ".py",
   "mimetype": "text/x-python",
   "name": "python",
   "nbconvert_exporter": "python",
   "pygments_lexer": "ipython3",
   "version": "3.8.8"
  }
 },
 "nbformat": 4,
 "nbformat_minor": 5
}
