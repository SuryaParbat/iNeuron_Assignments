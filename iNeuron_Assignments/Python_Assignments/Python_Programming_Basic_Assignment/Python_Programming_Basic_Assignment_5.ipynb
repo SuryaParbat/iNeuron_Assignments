{
 "cells": [
  {
   "cell_type": "markdown",
   "id": "recent-lecture",
   "metadata": {},
   "source": [
    "# Python Programming Basic Assignment 5"
   ]
  },
  {
   "cell_type": "markdown",
   "id": "unique-intent",
   "metadata": {},
   "source": [
    "Q1: Write a Python Program to Find LCM?"
   ]
  },
  {
   "cell_type": "code",
   "execution_count": 8,
   "id": "burning-finder",
   "metadata": {},
   "outputs": [
    {
     "name": "stdout",
     "output_type": "stream",
     "text": [
      " Please Enter the First Value a: 5\n",
      " Please Enter the Second Value b: 7\n",
      "\n",
      " LCM of 5.0 and 7.0 = 35.0\n"
     ]
    }
   ],
   "source": [
    "a = float(input(\" Please Enter the First Value a: \"))\n",
    "b = float(input(\" Please Enter the Second Value b: \"))\n",
    "\n",
    "if(a > b):\n",
    "    maximum = a\n",
    "else:\n",
    "    maximum = b\n",
    "\n",
    "while(True):\n",
    "    if(maximum % a == 0 and maximum % b == 0):\n",
    "        print(\"\\n LCM of {0} and {1} = {2}\".format(a, b, maximum))\n",
    "        break;\n",
    "    maximum = maximum + 1"
   ]
  },
  {
   "cell_type": "markdown",
   "id": "accredited-arena",
   "metadata": {},
   "source": [
    "Q2: Write a Python Program to Find HCF?"
   ]
  },
  {
   "cell_type": "code",
   "execution_count": 11,
   "id": "adapted-shanghai",
   "metadata": {},
   "outputs": [
    {
     "name": "stdout",
     "output_type": "stream",
     "text": [
      "Enter first number: 12\n",
      "Enter second number: 16\n",
      "The H.C.F. of 12 and 16 is 4\n"
     ]
    }
   ],
   "source": [
    "x = int(input(\"Enter first number: \"))  \n",
    "y = int(input(\"Enter second number: \"))  \n",
    "if x > y:  \n",
    "    smaller = y  \n",
    "else:  \n",
    "    smaller = x  \n",
    "for i in range(1,smaller + 1):  \n",
    "    if((x % i == 0) and (y % i == 0)):  \n",
    "        hcf = i  \n",
    "\n",
    "print(\"The H.C.F. of\", x,\"and\", y,\"is\", hcf)  "
   ]
  },
  {
   "cell_type": "markdown",
   "id": "functioning-honolulu",
   "metadata": {},
   "source": [
    "Q3: Write a Python Program to Convert Decimal to Binary, Octal and Hexadecimal?"
   ]
  },
  {
   "cell_type": "code",
   "execution_count": 13,
   "id": "mobile-india",
   "metadata": {},
   "outputs": [
    {
     "name": "stdout",
     "output_type": "stream",
     "text": [
      "Please Enter the Decimal Number = 55\n",
      "55  Decimal =  0b110111 Binary Value\n",
      "55  Decimal =  0o67 Octal Value\n",
      "55  Decimal =  0x37 Hexadecimal Value\n"
     ]
    }
   ],
   "source": [
    "decimal = int(input(\"Please Enter the Decimal Number = \"))\n",
    "\n",
    "binary = bin(decimal)\n",
    "octal = oct(decimal)\n",
    "hexadecimal = hex(decimal)\n",
    "\n",
    "print(decimal, \" Decimal = \", binary, \"Binary Value\")\n",
    "print(decimal, \" Decimal = \", octal, \"Octal Value\")\n",
    "print(decimal, \" Decimal = \", hexadecimal, \"Hexadecimal Value\")"
   ]
  },
  {
   "cell_type": "markdown",
   "id": "incident-attribute",
   "metadata": {},
   "source": [
    "Q4: Write a Python Program To Find ASCII value of a character?"
   ]
  },
  {
   "cell_type": "code",
   "execution_count": 18,
   "id": "funny-software",
   "metadata": {},
   "outputs": [
    {
     "name": "stdout",
     "output_type": "stream",
     "text": [
      "Please Enter your String : Surya\n",
      "The ASCII Value of Character S = 83\n",
      "The ASCII Value of Character u = 117\n",
      "The ASCII Value of Character r = 114\n",
      "The ASCII Value of Character y = 121\n",
      "The ASCII Value of Character a = 97\n"
     ]
    }
   ],
   "source": [
    "str1 = input(\"Please Enter your String : \")\n",
    " \n",
    "for i in range(len(str1)):\n",
    "    print(\"The ASCII Value of Character %c = %d\" %(str1[i], ord(str1[i])))"
   ]
  },
  {
   "cell_type": "markdown",
   "id": "hollywood-child",
   "metadata": {},
   "source": [
    "Q5: Write a Python Program to Make a Simple Calculator with 4 basic mathematical operations?"
   ]
  },
  {
   "cell_type": "code",
   "execution_count": 26,
   "id": "deluxe-authentication",
   "metadata": {},
   "outputs": [
    {
     "name": "stdout",
     "output_type": "stream",
     "text": [
      "Select operation.\n",
      "1.Add\n",
      "2.Subtract\n",
      "3.Multiply\n",
      "4.Divide\n",
      "\n",
      "Enter choice(1/2/3/4): 1\n",
      "\n",
      "Enter first number: 2\n",
      "\n",
      "Enter second number: 3\n",
      "2.0 + 3.0 = 5.0\n"
     ]
    }
   ],
   "source": [
    "print(\"Select operation.\")\n",
    "print(\"1.Add\")\n",
    "print(\"2.Subtract\")\n",
    "print(\"3.Multiply\")\n",
    "print(\"4.Divide\")\n",
    "\n",
    "while True:\n",
    "    choice = input(\"\\nEnter choice(1/2/3/4): \")\n",
    "\n",
    "    if choice in ('1', '2', '3', '4'):\n",
    "        num1 = float(input(\"\\nEnter first number: \"))\n",
    "        num2 = float(input(\"\\nEnter second number: \"))\n",
    "\n",
    "        if choice == '1':\n",
    "            print(num1, \"+\", num2, \"=\", num1 + num2)\n",
    "\n",
    "        elif choice == '2':\n",
    "            print(num1, \"-\", num2, \"=\", num1 - num2)\n",
    "\n",
    "        elif choice == '3':\n",
    "            print(num1, \"*\", num2, \"=\", num1 * num2)\n",
    "\n",
    "        elif choice == '4':\n",
    "            print(num1, \"/\", num2, \"=\", num1 / num2)\n",
    "        break\n",
    "    else:\n",
    "        print(\" Invalid Input\")"
   ]
  }
 ],
 "metadata": {
  "kernelspec": {
   "display_name": "Python 3",
   "language": "python",
   "name": "python3"
  },
  "language_info": {
   "codemirror_mode": {
    "name": "ipython",
    "version": 3
   },
   "file_extension": ".py",
   "mimetype": "text/x-python",
   "name": "python",
   "nbconvert_exporter": "python",
   "pygments_lexer": "ipython3",
   "version": "3.8.8"
  }
 },
 "nbformat": 4,
 "nbformat_minor": 5
}
