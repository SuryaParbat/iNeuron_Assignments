{
 "cells": [
  {
   "cell_type": "markdown",
   "id": "yellow-dylan",
   "metadata": {},
   "source": [
    "# Python Programming Basic Assignment 12"
   ]
  },
  {
   "cell_type": "markdown",
   "id": "renewable-certificate",
   "metadata": {},
   "source": [
    "Q1 : Write a Python program to Extract Unique values dictionary values?"
   ]
  },
  {
   "cell_type": "code",
   "execution_count": 14,
   "id": "noble-calendar",
   "metadata": {},
   "outputs": [
    {
     "name": "stdout",
     "output_type": "stream",
     "text": [
      "The original dictionary is : {'A': [1, 2, 3, 'Surya'], 'B': [3, 4, 5, 'Parbat'], 'C': [4, 5, 6, 'Surya']}\n",
      "The unique values list is :  [1, 2, 3, 4, 5, 6, 'Parbat', 'Surya']\n"
     ]
    }
   ],
   "source": [
    "# Initializing dictionay\n",
    "dct_test = {\"A\" : [1,2,3, \"Surya\"], \"B\" : [3,4,5, \"Parbat\"], \"C\" : [4,5,6, \"Surya\"]}\n",
    "\n",
    "# Initializing set to store unique values\n",
    "unique_val = set()\n",
    "\n",
    "# printing original dictionary\n",
    "print(\"The original dictionary is : \" + str(dct_test))\n",
    "\n",
    "# Extract Unique values dictionary values\n",
    "for val in dct_test.values():\n",
    "    for ele in val:\n",
    "        unique_val.add(ele)\n",
    "        \n",
    "print(\"The unique values list is : \", list((unique_val)))\n",
    "        \n",
    "        "
   ]
  },
  {
   "cell_type": "markdown",
   "id": "breathing-hacker",
   "metadata": {},
   "source": [
    "Q2 : Write a Python program to find the sum of all items in a dictionary?"
   ]
  },
  {
   "cell_type": "code",
   "execution_count": 37,
   "id": "political-plane",
   "metadata": {},
   "outputs": [],
   "source": [
    "def sum_ofall_items(dict1):\n",
    "    \"\"\"\n",
    "    This function add all the airthematic values present\n",
    "    in dictionary in form of list---\n",
    "    \n",
    "    \"\"\"\n",
    "    sum = 0\n",
    "    try:\n",
    "        for val in dict1.values():\n",
    "            if type(val) == list:\n",
    "                for ele in val:\n",
    "                    if type(ele) == int:\n",
    "                        sum = sum + ele\n",
    "            if type(val) == int:\n",
    "                sum = sum + val\n",
    "    except Exception as e:\n",
    "        print(\"There is a problem with values of dictionary  :  \", e)\n",
    "    finally:\n",
    "        print(\"Sum of all int elements : \", sum)"
   ]
  },
  {
   "cell_type": "code",
   "execution_count": 39,
   "id": "affiliated-kidney",
   "metadata": {},
   "outputs": [
    {
     "name": "stdout",
     "output_type": "stream",
     "text": [
      "Sum of all int elements :  67\n"
     ]
    }
   ],
   "source": [
    "sum_ofall_items({ \"D\" : 34, \"A\" : [1,2,3, \"Surya\"], \"B\" : [3,4,5, \"Parbat\"], \"C\" : [4,5,6, \"Surya\"]})"
   ]
  },
  {
   "cell_type": "markdown",
   "id": "flying-burst",
   "metadata": {},
   "source": [
    "Q3 : Write a Python program to Merging two Dictionaries?"
   ]
  },
  {
   "cell_type": "code",
   "execution_count": 44,
   "id": "vocational-junction",
   "metadata": {},
   "outputs": [],
   "source": [
    "def mergeDict(dict1, dict2):\n",
    "    res = {**dict1, **dict2}\n",
    "    return res"
   ]
  },
  {
   "cell_type": "code",
   "execution_count": 50,
   "id": "elementary-cross",
   "metadata": {},
   "outputs": [
    {
     "name": "stdout",
     "output_type": "stream",
     "text": [
      "After Merging :  {'D': 34, 'A': [1, 2, 3, 4, 'Surya'], 'B': [3, 4, 5, 'Parbat'], 'C': [4, 5, 6, 'Surya'], 'x': 1, 'y': 2}\n"
     ]
    }
   ],
   "source": [
    "dict3 = mergeDict({ \"D\" : 34, \"A\" : [1,2,3, \"Surya\"], \"B\" : [3,4,5, \"Parbat\"], \"C\" : [4,5,6, \"Surya\"]},{\"x\" : 1, \"y\" : 2, \"A\" : [1,2,3,4, \"Surya\"]})\n",
    "print(\"After Merging : \", dict3)"
   ]
  },
  {
   "cell_type": "markdown",
   "id": "correct-jaguar",
   "metadata": {},
   "source": [
    "Q4 : Write a Python program to convert key-values list to flat dictionary?"
   ]
  },
  {
   "cell_type": "code",
   "execution_count": 51,
   "id": "assisted-letter",
   "metadata": {},
   "outputs": [
    {
     "name": "stdout",
     "output_type": "stream",
     "text": [
      "The original dictionary is : {'month': [1, 2, 3], 'name': ['Jan', 'Feb', 'March']}\n",
      "Flattened dictionary : {1: 'Jan', 2: 'Feb', 3: 'March'}\n"
     ]
    }
   ],
   "source": [
    "\n",
    "from itertools import product\n",
    "\n",
    "# initializing dictionary\n",
    "test_dict = {'month' : [1, 2, 3],\n",
    "            'name' : ['Jan', 'Feb', 'March']}\n",
    "\n",
    "# printing original dictionary\n",
    "print(\"The original dictionary is : \" + str(test_dict))\n",
    "\n",
    "# Convert key-values list to flat dictionary\n",
    "# Using dict() + zip()\n",
    "res = dict(zip(test_dict['month'], test_dict['name']))\n",
    "\n",
    "# printing result\n",
    "print(\"Flattened dictionary : \" + str(res))\n"
   ]
  },
  {
   "cell_type": "markdown",
   "id": "beautiful-fossil",
   "metadata": {},
   "source": [
    "Q5 : Write a Python program to insertion at the beginning in OrderedDict?"
   ]
  },
  {
   "cell_type": "code",
   "execution_count": 54,
   "id": "cleared-removal",
   "metadata": {},
   "outputs": [
    {
     "name": "stdout",
     "output_type": "stream",
     "text": [
      "Resultant Dictionary : OrderedDict([('raj', '3'), ('surya', '1'), ('aman', '2')])\n"
     ]
    }
   ],
   "source": [
    "\n",
    "from collections import OrderedDict\n",
    "\n",
    "# initialising ordered_dict\n",
    "iniordered_dict = OrderedDict([('surya', '1'), ('aman', '2')])\n",
    "\n",
    "# inserting items in starting of dict\n",
    "iniordered_dict.update({'raj':'3'})\n",
    "iniordered_dict.move_to_end('raj', last = False)\n",
    "\n",
    "# print result\n",
    "print (\"Resultant Dictionary : \"+str(iniordered_dict))\n"
   ]
  },
  {
   "cell_type": "markdown",
   "id": "emerging-proxy",
   "metadata": {},
   "source": [
    "Q6 : Write a Python program to check order of character in string using OrderedDict()?"
   ]
  },
  {
   "cell_type": "code",
   "execution_count": 60,
   "id": "optional-amazon",
   "metadata": {},
   "outputs": [],
   "source": [
    "\n",
    "from collections import OrderedDict\n",
    "\n",
    "def checkOrder(input, pattern):\n",
    "\n",
    "    # create empty OrderedDict\n",
    "    # output will be like {'a': None,'b': None, 'c': None}\n",
    "    dict = OrderedDict.fromkeys(input)\n",
    "    #print(dict)\n",
    "\n",
    "    # traverse generated OrderedDict parallel with\n",
    "    # pattern string to check if order of characters\n",
    "    # are same or not\n",
    "    ptrlen = 0\n",
    "    for key,value in dict.items():\n",
    "        if (key == pattern[ptrlen]):\n",
    "            ptrlen = ptrlen + 1\n",
    "\n",
    "        # check if we have traverse complete\n",
    "        # pattern string\n",
    "        if (ptrlen == (len(pattern))):\n",
    "            return 'true'\n",
    "\n",
    "    # if we come out from for loop that means\n",
    "    # order was mismatched\n",
    "    return 'false'\n",
    "\n"
   ]
  },
  {
   "cell_type": "code",
   "execution_count": 65,
   "id": "atlantic-assembly",
   "metadata": {},
   "outputs": [
    {
     "name": "stdout",
     "output_type": "stream",
     "text": [
      "true\n"
     ]
    }
   ],
   "source": [
    "input = 'ineuron'\n",
    "pattern = 'inr'\n",
    "print (checkOrder(input,pattern))\n"
   ]
  },
  {
   "cell_type": "markdown",
   "id": "human-manor",
   "metadata": {},
   "source": [
    "Q7 : Write a Python program to sort Python Dictionaries by Key or Value?"
   ]
  },
  {
   "cell_type": "code",
   "execution_count": 135,
   "id": "included-pearl",
   "metadata": {},
   "outputs": [],
   "source": [
    "import operator\n",
    "def sortedDictbykeyOrValue(dict1):\n",
    "    \"\"\"\n",
    "    Sorting dictionary according to key value\n",
    "    \n",
    "    \"\"\"\n",
    "    sorted_key = []\n",
    "    sorted_dict1_key = []\n",
    "    print(dict1)\n",
    "    for key in dict1.keys():\n",
    "        sorted_key.append(key)\n",
    "    \n",
    "    sorted_key = sorted(sorted_key)\n",
    "    print(\"Keys and Values sorted in\",\n",
    "                \"alphabetical order by the key \")\n",
    "    for orderd_key in sorted_key:\n",
    "        sorted_dict1_key.append((orderd_key, dict1[orderd_key]))\n",
    "        #print((orderd_key, dict1[orderd_key]), end=\" \")\n",
    "    print('\\nDictionary in ascending order by key : ',sorted_dict1_key)\n",
    "        \n",
    "        \n",
    "    sorted_dict1_value = sorted(dict1.items(), key=operator.itemgetter(1))\n",
    "    print('\\nDictionary in ascending order by value : ',sorted_dict1_value)"
   ]
  },
  {
   "cell_type": "code",
   "execution_count": 136,
   "id": "moral-toolbox",
   "metadata": {},
   "outputs": [
    {
     "name": "stdout",
     "output_type": "stream",
     "text": [
      "{1: 'surya', 3: 'aman', 2: 'raj', 4: 'bobby'}\n",
      "Keys and Values sorted in alphabetical order by the key \n",
      "\n",
      "Dictionary in ascending order by key :  [(1, 'surya'), (2, 'raj'), (3, 'aman'), (4, 'bobby')]\n",
      "\n",
      "Dictionary in ascending order by value :  [(3, 'aman'), (4, 'bobby'), (2, 'raj'), (1, 'surya')]\n"
     ]
    }
   ],
   "source": [
    "sortedDictbykeyOrValue({1 : \"surya\", 3:\"aman\", 2 : \"raj\", 4 : \"bobby\"})"
   ]
  }
 ],
 "metadata": {
  "kernelspec": {
   "display_name": "Python 3",
   "language": "python",
   "name": "python3"
  },
  "language_info": {
   "codemirror_mode": {
    "name": "ipython",
    "version": 3
   },
   "file_extension": ".py",
   "mimetype": "text/x-python",
   "name": "python",
   "nbconvert_exporter": "python",
   "pygments_lexer": "ipython3",
   "version": "3.8.8"
  }
 },
 "nbformat": 4,
 "nbformat_minor": 5
}
