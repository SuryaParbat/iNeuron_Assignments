{
 "cells": [
  {
   "cell_type": "markdown",
   "id": "assumed-digit",
   "metadata": {},
   "source": [
    "# Python Programming Basic Assignment 10"
   ]
  },
  {
   "cell_type": "markdown",
   "id": "effective-genesis",
   "metadata": {},
   "source": [
    "Q1 : Write a Python program to find sum of elements in list?"
   ]
  },
  {
   "cell_type": "code",
   "execution_count": 5,
   "id": "greater-shannon",
   "metadata": {},
   "outputs": [],
   "source": [
    "def sumoflistElements(l):\n",
    "    sum = 0\n",
    "    for i in l:\n",
    "        sum = sum + i\n",
    "    return sum\n",
    "    "
   ]
  },
  {
   "cell_type": "code",
   "execution_count": 8,
   "id": "changing-ghost",
   "metadata": {},
   "outputs": [
    {
     "name": "stdout",
     "output_type": "stream",
     "text": [
      "Enter size of list - 8\n",
      "Enter element for index 0 - 10\n",
      "Enter element for index 1 - 10\n",
      "Enter element for index 2 - 10\n",
      "Enter element for index 3 - 10\n",
      "Enter element for index 4 - 10\n",
      "Enter element for index 5 - 10\n",
      "Enter element for index 6 - 10\n",
      "Enter element for index 7 - 8\n",
      "Sum of  [10.0, 10.0, 10.0, 10.0, 10.0, 10.0, 10.0, 8.0]  is -  78.0\n"
     ]
    }
   ],
   "source": [
    "# Getting list elements by user\n",
    "lst = []\n",
    "no_elements = int(input(\"Enter size of list - \"))\n",
    "\n",
    "for i in range(no_elements):\n",
    "    element = float(input(\"Enter element for index {0} - \".format(i)))\n",
    "    lst.append(element)\n",
    "    \n",
    "s= sumoflistElements(lst)\n",
    "\n",
    "print(\"Sum of \", lst, \" is - \", s)\n",
    "\n",
    "    "
   ]
  },
  {
   "cell_type": "markdown",
   "id": "abandoned-kruger",
   "metadata": {},
   "source": [
    "Q2 : Write a Python program to Multiply all numbers in the list?"
   ]
  },
  {
   "cell_type": "code",
   "execution_count": 12,
   "id": "durable-anniversary",
   "metadata": {},
   "outputs": [],
   "source": [
    "def multoflistElements(l1):\n",
    "    mult = 1\n",
    "    for i in l1:\n",
    "        mult = mult * i\n",
    "    return mult"
   ]
  },
  {
   "cell_type": "code",
   "execution_count": 14,
   "id": "effective-hamburg",
   "metadata": {},
   "outputs": [
    {
     "name": "stdout",
     "output_type": "stream",
     "text": [
      "Enter size of list - 5\n",
      "Enter element for index 0 - 2\n",
      "Enter element for index 1 - 2\n",
      "Enter element for index 2 - 2\n",
      "Enter element for index 3 - 2\n",
      "Enter element for index 4 - 10\n",
      "Mutliplication of  [2.0, 2.0, 2.0, 2.0, 10.0]  is -  160.0\n"
     ]
    }
   ],
   "source": [
    "# Getting list elements by user\n",
    "lst1 = []\n",
    "no_elements = int(input(\"Enter size of list - \"))\n",
    "\n",
    "for i in range(no_elements):\n",
    "    element = float(input(\"Enter element for index {0} - \".format(i)))\n",
    "    lst1.append(element)\n",
    "    \n",
    "m = multoflistElements(lst1)\n",
    "\n",
    "print(\"Mutliplication of \", lst1, \" is - \", m)\n"
   ]
  },
  {
   "cell_type": "markdown",
   "id": "labeled-despite",
   "metadata": {},
   "source": [
    "Q3 : Write a Python program to find smallest number in a list?"
   ]
  },
  {
   "cell_type": "code",
   "execution_count": 23,
   "id": "different-consolidation",
   "metadata": {},
   "outputs": [],
   "source": [
    "def smallest_no_in_list(l2):\n",
    "    \"\"\"\n",
    "    Sorting all elements of list in order to find smallest element \n",
    "    \"\"\"\n",
    "    l2.sort()\n",
    "    smallest = l2[0]\n",
    "    return smallest"
   ]
  },
  {
   "cell_type": "code",
   "execution_count": 24,
   "id": "senior-spank",
   "metadata": {},
   "outputs": [
    {
     "name": "stdout",
     "output_type": "stream",
     "text": [
      "Enter size of list - 5\n",
      "Enter element for index 0 - 23\n",
      "Enter element for index 1 - 45\n",
      "Enter element for index 2 - 64\n",
      "Enter element for index 3 - 12\n",
      "Enter element for index 4 - 6\n",
      "Smallest number in  [6.0, 12.0, 23.0, 45.0, 64.0]  is -  6.0\n"
     ]
    }
   ],
   "source": [
    "# Getting list elements by user\n",
    "lst2 = []\n",
    "no_elements = int(input(\"Enter size of list - \"))\n",
    "\n",
    "for i in range(no_elements):\n",
    "    element = float(input(\"Enter element for index {0} - \".format(i)))\n",
    "    lst2.append(element)\n",
    "    \n",
    "s_no = smallest_no_in_list(lst2)\n",
    "\n",
    "print(\"Smallest number in \", lst2, \" is - \", s_no)\n"
   ]
  },
  {
   "cell_type": "markdown",
   "id": "indie-bulgaria",
   "metadata": {},
   "source": [
    "Q4 : Write a Python program to find largest number in a list?"
   ]
  },
  {
   "cell_type": "code",
   "execution_count": 26,
   "id": "dramatic-newman",
   "metadata": {},
   "outputs": [],
   "source": [
    "def largest_no_in_list(l3):\n",
    "    # Assume first number in list is largest\n",
    "    max = l3[0]\n",
    "\n",
    "    for x in l3:\n",
    "        if x > max :\n",
    "            max = x\n",
    "    return max"
   ]
  },
  {
   "cell_type": "code",
   "execution_count": 31,
   "id": "impossible-juvenile",
   "metadata": {},
   "outputs": [
    {
     "name": "stdout",
     "output_type": "stream",
     "text": [
      "Enter size of list - 5\n",
      "Enter element for index 0 - 23\n",
      "Enter element for index 1 - 12\n",
      "Enter element for index 2 - 88\n",
      "Enter element for index 3 - 34\n",
      "Enter element for index 4 - 45\n",
      "Largest number in  [23.0, 12.0, 88.0, 34.0, 45.0]  is -  88.0\n"
     ]
    }
   ],
   "source": [
    "# Getting list elements by user\n",
    "lst3 = []\n",
    "no_elements = int(input(\"Enter size of list - \"))\n",
    "\n",
    "for i in range(no_elements):\n",
    "    element = float(input(\"Enter element for index {0} - \".format(i)))\n",
    "    lst3.append(element)\n",
    "    \n",
    "l_no = largest_no_in_list(lst3)\n",
    "\n",
    "print(\"Largest number in \", lst3, \" is - \", l_no)\n"
   ]
  },
  {
   "cell_type": "markdown",
   "id": "accessory-graham",
   "metadata": {},
   "source": [
    "Q5 : Write a Python program to find second largest number in a list?"
   ]
  },
  {
   "cell_type": "code",
   "execution_count": 33,
   "id": "reduced-comfort",
   "metadata": {},
   "outputs": [],
   "source": [
    "def second_largst_no_inList(list1):\n",
    "    mx=max(list1[0],list1[1])\n",
    "    secondmax=min(list1[0],list1[1])\n",
    "    n =len(list1)\n",
    "    for i in range(2,n):\n",
    "        if list1[i]>mx:\n",
    "            secondmax=mx\n",
    "            mx=list1[i]\n",
    "        elif list1[i]>secondmax and mx != list1[i]:\n",
    "            secondmax=list1[i]\n",
    "    return secondmax"
   ]
  },
  {
   "cell_type": "code",
   "execution_count": 34,
   "id": "competent-volume",
   "metadata": {},
   "outputs": [
    {
     "name": "stdout",
     "output_type": "stream",
     "text": [
      "Enter size of list - 5\n",
      "Enter element for index 0 - 12\n",
      "Enter element for index 1 - 32\n",
      "Enter element for index 2 - 45\n",
      "Enter element for index 3 - 66\n",
      "Enter element for index 4 - 60\n",
      " Second Largest number in  [12.0, 32.0, 45.0, 66.0, 60.0]  is -  60.0\n"
     ]
    }
   ],
   "source": [
    "lst4 = []\n",
    "no_elements = int(input(\"Enter size of list - \"))\n",
    "\n",
    "for i in range(no_elements):\n",
    "    element = float(input(\"Enter element for index {0} - \".format(i)))\n",
    "    lst4.append(element)\n",
    "\n",
    "s_l_no = second_largst_no_inList(lst4)\n",
    "\n",
    "print(\"Second Largest number in \", lst4, \" is - \", s_l_no)\n"
   ]
  },
  {
   "cell_type": "markdown",
   "id": "assisted-oxford",
   "metadata": {},
   "source": [
    "Q6 : Write a Python program to find N largest elements from a list?"
   ]
  },
  {
   "cell_type": "code",
   "execution_count": 12,
   "id": "beginning-greenhouse",
   "metadata": {},
   "outputs": [],
   "source": [
    "def N_max_elements(list, N):\n",
    "    final_list = []\n",
    "  \n",
    "    for i in range(0, N): \n",
    "        max1 = 0\n",
    "          \n",
    "        for j in range(len(list)):     \n",
    "            if list[j] > max1:\n",
    "                max1 = list[j]\n",
    "        # Removing max element in order to find next one in rest of list.          \n",
    "        list.remove(max1)\n",
    "\n",
    "        final_list.append(max1)\n",
    "        \n",
    "    return final_list"
   ]
  },
  {
   "cell_type": "code",
   "execution_count": 13,
   "id": "placed-louisiana",
   "metadata": {},
   "outputs": [
    {
     "name": "stdout",
     "output_type": "stream",
     "text": [
      "Enter size of list - 6\n",
      "Enter element for index 0 - 22\n",
      "Enter element for index 1 - 33\n",
      "Enter element for index 2 - 44\n",
      "Enter element for index 3 - 55\n",
      "Enter element for index 4 - 66\n",
      "Enter element for index 5 - 77\n",
      "Enter number of max elements you want to find - 3\n",
      "3 Largest number in  [22.0, 33.0, 44.0, 55.0, 66.0, 77.0]  is -  [77.0, 66.0, 55.0]\n"
     ]
    }
   ],
   "source": [
    "lst5 = []\n",
    "original_lst = []\n",
    "no_elements = int(input(\"Enter size of list - \"))\n",
    "\n",
    "for i in range(no_elements):\n",
    "    element = float(input(\"Enter element for index {0} - \".format(i)))\n",
    "    lst5.append(element)\n",
    "    # For keeping original list intact because we need to remove max element in order to find next one.\n",
    "    original_lst.append(element)\n",
    "\n",
    "# Taking user input for how much max elements we need to find\n",
    "n = int(input(\"Enter number of max elements you want to find - \"))\n",
    "\n",
    "max_elements = N_max_elements(lst5, n)\n",
    "\n",
    "print(\"{} Largest number in \".format(n), original_lst, \" is - \", max_elements)"
   ]
  },
  {
   "cell_type": "markdown",
   "id": "identical-kazakhstan",
   "metadata": {},
   "source": [
    "Q7 : Write a Python program to print even numbers in a list?"
   ]
  },
  {
   "cell_type": "code",
   "execution_count": 18,
   "id": "bacterial-banner",
   "metadata": {},
   "outputs": [],
   "source": [
    "def even_number(list1):\n",
    "\n",
    "    # using list comprehension\n",
    "    even_nos = [num for num in list1 if num % 2 == 0]\n",
    "\n",
    "    print(\"Even numbers in the list: \",list1,\" are\", even_nos)\n"
   ]
  },
  {
   "cell_type": "code",
   "execution_count": 19,
   "id": "raising-victim",
   "metadata": {},
   "outputs": [
    {
     "name": "stdout",
     "output_type": "stream",
     "text": [
      "Enter size of list - 6\n",
      "Enter element for index 0 - 12\n",
      "Enter element for index 1 - 13\n",
      "Enter element for index 2 - 14\n",
      "Enter element for index 3 - 15\n",
      "Enter element for index 4 - 16\n",
      "Enter element for index 5 - 17\n",
      "Even numbers in the list:  [12.0, 13.0, 14.0, 15.0, 16.0, 17.0]  are [12.0, 14.0, 16.0]\n"
     ]
    }
   ],
   "source": [
    "lst6 = []\n",
    "no_elements = int(input(\"Enter size of list - \"))\n",
    "\n",
    "for i in range(no_elements):\n",
    "    element = float(input(\"Enter element for index {0} - \".format(i)))\n",
    "    lst6.append(element)\n",
    "    \n",
    "even_number(lst6)"
   ]
  },
  {
   "cell_type": "markdown",
   "id": "opening-procurement",
   "metadata": {},
   "source": [
    "Q8 : Write a Python program to print odd numbers in a List?"
   ]
  },
  {
   "cell_type": "code",
   "execution_count": 25,
   "id": "verified-consideration",
   "metadata": {},
   "outputs": [],
   "source": [
    "def odd_number(list2):\n",
    "    \n",
    "    # using list comprehension\n",
    "    odd_nos = [num for num in list2 if num % 2 != 0]\n",
    "\n",
    "    print(\"Odd numbers in the list: \",list2, \" are\", odd_nos)"
   ]
  },
  {
   "cell_type": "code",
   "execution_count": 26,
   "id": "artificial-transformation",
   "metadata": {},
   "outputs": [
    {
     "name": "stdout",
     "output_type": "stream",
     "text": [
      "Enter size of list - 6\n",
      "Enter element for index 0 - 22\n",
      "Enter element for index 1 - 33\n",
      "Enter element for index 2 - 44\n",
      "Enter element for index 3 - 55\n",
      "Enter element for index 4 - 66\n",
      "Enter element for index 5 - 77\n",
      "Odd numbers in the list:  [22.0, 33.0, 44.0, 55.0, 66.0, 77.0]  are [33.0, 55.0, 77.0]\n"
     ]
    }
   ],
   "source": [
    "lst7 = []\n",
    "no_elements = int(input(\"Enter size of list - \"))\n",
    "\n",
    "for i in range(no_elements):\n",
    "    element = float(input(\"Enter element for index {0} - \".format(i)))\n",
    "    lst7.append(element)\n",
    "    \n",
    "odd_number(lst7)"
   ]
  },
  {
   "cell_type": "markdown",
   "id": "recovered-vintage",
   "metadata": {},
   "source": [
    "Q9 : Write a Python program to Remove empty List from List?"
   ]
  },
  {
   "cell_type": "code",
   "execution_count": 28,
   "id": "demonstrated-terrain",
   "metadata": {},
   "outputs": [
    {
     "name": "stdout",
     "output_type": "stream",
     "text": [
      "The original list is : ['Surya', [2, 3, 4], [], 3.45, [], [], (5, 6, 7)]\n",
      "List after empty list removal : ['Surya', [2, 3, 4], 3.45, (5, 6, 7)]\n"
     ]
    }
   ],
   "source": [
    "# using filter()\n",
    "\n",
    "# Initializing list\n",
    "list4 = [\"Surya\", [2,3,4], [], 3.45, [], [], (5,6,7)]\n",
    "\n",
    "# printing original list\n",
    "print(\"The original list is : \" + str(list4))\n",
    "\n",
    "# Remove empty List from List\n",
    "# using filter\n",
    "res = list(filter(None, list4))\n",
    "\n",
    "print (\"List after empty list removal : \" + str(res))\n"
   ]
  },
  {
   "cell_type": "markdown",
   "id": "loaded-sponsorship",
   "metadata": {},
   "source": [
    "Q10 : Write a Python program to Cloning or Copying a list?"
   ]
  },
  {
   "cell_type": "code",
   "execution_count": 30,
   "id": "spread-bread",
   "metadata": {},
   "outputs": [],
   "source": [
    "# Using the Slice Operator\n",
    "def Cloning(list1):\n",
    "    list1_copy = list1[:]\n",
    "    print(\"Original list - \", list1)\n",
    "    print(\"Copy of list - \", list1_copy)"
   ]
  },
  {
   "cell_type": "code",
   "execution_count": 31,
   "id": "according-retention",
   "metadata": {},
   "outputs": [
    {
     "name": "stdout",
     "output_type": "stream",
     "text": [
      "Enter size of list - 6\n",
      "Enter element for index 0 - 1\n",
      "Enter element for index 1 - 2\n",
      "Enter element for index 2 - 3\n",
      "Enter element for index 3 - 3\n",
      "Enter element for index 4 - 2\n",
      "Enter element for index 5 - 1\n",
      "Original list -  [1.0, 2.0, 3.0, 3.0, 2.0, 1.0]\n",
      "Copy of list -  [1.0, 2.0, 3.0, 3.0, 2.0, 1.0]\n"
     ]
    }
   ],
   "source": [
    "lst8 = []\n",
    "no_elements = int(input(\"Enter size of list - \"))\n",
    "\n",
    "for i in range(no_elements):\n",
    "    element = float(input(\"Enter element for index {0} - \".format(i)))\n",
    "    lst8.append(element)\n",
    "    \n",
    "Cloning(lst8)\n",
    "\n"
   ]
  },
  {
   "cell_type": "markdown",
   "id": "weird-hundred",
   "metadata": {},
   "source": [
    "Q11 : Write a Python program to Count occurrences of an element in a list?"
   ]
  },
  {
   "cell_type": "code",
   "execution_count": 45,
   "id": "needed-doctor",
   "metadata": {},
   "outputs": [],
   "source": [
    "def count_specific_element(lst, x):\n",
    "    count = 0\n",
    "    for ele in lst:\n",
    "        if (ele == x):\n",
    "            count = count + 1\n",
    "\n",
    "    return count"
   ]
  },
  {
   "cell_type": "code",
   "execution_count": 46,
   "id": "plastic-plumbing",
   "metadata": {},
   "outputs": [
    {
     "name": "stdout",
     "output_type": "stream",
     "text": [
      "Enter size of list - 10\n",
      "Enter element for index 0 - 2\n",
      "Enter element for index 1 - 3\n",
      "Enter element for index 2 - 4\n",
      "Enter element for index 3 - 4\n",
      "Enter element for index 4 - 4\n",
      "Enter element for index 5 - 2\n",
      "Enter element for index 6 - 7\n",
      "Enter element for index 7 - 8\n",
      "Enter element for index 8 - 9\n",
      "Enter element for index 9 - 4\n",
      "Enter element to count it's occurrence - 4\n",
      "4.0 has occurred 4 times\n"
     ]
    }
   ],
   "source": [
    "lst9 = []\n",
    "no_elements = int(input(\"Enter size of list - \"))\n",
    "\n",
    "for i in range(no_elements):\n",
    "    element = float(input(\"Enter element for index {0} - \".format(i)))\n",
    "    lst9.append(element)\n",
    "    \n",
    "element_x = float(input(\"Enter element to count it's occurrence - \"))\n",
    "                        \n",
    "element_count = count_specific_element(lst9, element_x)\n",
    "                        \n",
    "print('{} has occurred {} times'.format(element_x, element_count))\n"
   ]
  }
 ],
 "metadata": {
  "kernelspec": {
   "display_name": "Python 3",
   "language": "python",
   "name": "python3"
  },
  "language_info": {
   "codemirror_mode": {
    "name": "ipython",
    "version": 3
   },
   "file_extension": ".py",
   "mimetype": "text/x-python",
   "name": "python",
   "nbconvert_exporter": "python",
   "pygments_lexer": "ipython3",
   "version": "3.8.8"
  }
 },
 "nbformat": 4,
 "nbformat_minor": 5
}
