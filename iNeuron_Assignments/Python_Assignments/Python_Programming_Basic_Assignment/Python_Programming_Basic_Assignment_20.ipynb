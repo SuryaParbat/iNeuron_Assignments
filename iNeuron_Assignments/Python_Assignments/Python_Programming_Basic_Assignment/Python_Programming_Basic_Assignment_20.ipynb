{
 "cells": [
  {
   "cell_type": "markdown",
   "id": "academic-provincial",
   "metadata": {},
   "source": [
    "# Python Programming Basic Assignment 20"
   ]
  },
  {
   "cell_type": "markdown",
   "id": "russian-fifteen",
   "metadata": {},
   "source": [
    "# Q1 :\n",
    "Create a function that takes a list of strings and integers, and filters out the list so that it\n",
    "returns a list of integers only.\n",
    "\n",
    "Examples:\n",
    "    \n",
    "filter_list([1, 2, 3, &quot;a&quot;, &quot;b&quot;, 4]) ➞ [1, 2, 3, 4]\n",
    "\n",
    "filter_list([&quot;A&quot;, 0, &quot;Edabit&quot;, 1729, &quot;Python&quot;, &quot;1729&quot;]) ➞ [0, 1729]\n",
    "\n",
    "filter_list([&quot;Nothing&quot;, &quot;here&quot;]) ➞ []"
   ]
  },
  {
   "cell_type": "code",
   "execution_count": 1,
   "id": "acoustic-logistics",
   "metadata": {},
   "outputs": [],
   "source": [
    "def filter_list(lst):\n",
    "    filter_list = []\n",
    "    for ele in lst:\n",
    "        if type(ele) == int:\n",
    "            filter_list.append(ele)\n",
    "    return filter_list"
   ]
  },
  {
   "cell_type": "code",
   "execution_count": 3,
   "id": "stopped-drunk",
   "metadata": {},
   "outputs": [
    {
     "name": "stdout",
     "output_type": "stream",
     "text": [
      "[1, 2, 3, 4]\n",
      "[0, 1729]\n",
      "[]\n"
     ]
    }
   ],
   "source": [
    "print(filter_list([1, 2, 3, \"a\", \"b\", 4]))\n",
    "print(filter_list([\"A\", 0, \"Edabit\", 1729, \"Python\", \"1729\"]))\n",
    "print(filter_list([\"Nothing\", \"here\"]))"
   ]
  },
  {
   "cell_type": "markdown",
   "id": "atomic-voice",
   "metadata": {},
   "source": [
    "# Q2 :\n",
    "Given a list of numbers, create a function which returns the list but with each element&#39;s\n",
    "index in the list added to itself. This means you add 0 to the number at index 0, add 1 to the\n",
    "number at index 1, etc...\n",
    "\n",
    "Examples:\n",
    "    \n",
    "add_indexes([0, 0, 0, 0, 0]) ➞ [0, 1, 2, 3, 4]\n",
    "\n",
    "add_indexes([1, 2, 3, 4, 5]) ➞ [1, 3, 5, 7, 9]\n",
    "\n",
    "add_indexes([5, 4, 3, 2, 1]) ➞ [5, 5, 5, 5, 5]"
   ]
  },
  {
   "cell_type": "code",
   "execution_count": 4,
   "id": "technical-controversy",
   "metadata": {},
   "outputs": [],
   "source": [
    "def add_indexes(lst):\n",
    "    final_lst = []\n",
    "    for index in range(len(lst)):\n",
    "        ele = lst[index] + index\n",
    "        final_lst.append(ele)\n",
    "    return final_lst"
   ]
  },
  {
   "cell_type": "code",
   "execution_count": 5,
   "id": "complimentary-eating",
   "metadata": {},
   "outputs": [
    {
     "name": "stdout",
     "output_type": "stream",
     "text": [
      "[0, 1, 2, 3, 4]\n",
      "[1, 3, 5, 7, 9]\n",
      "[5, 5, 5, 5, 5]\n"
     ]
    }
   ],
   "source": [
    "print(add_indexes([0, 0, 0, 0, 0]))\n",
    "print(add_indexes([1, 2, 3, 4, 5]))\n",
    "print(add_indexes([5, 4, 3, 2, 1]))"
   ]
  },
  {
   "cell_type": "markdown",
   "id": "organized-certificate",
   "metadata": {},
   "source": [
    "# Q3 :\n",
    "Create a function that takes the height and radius of a cone as arguments and returns the\n",
    "volume of the cone rounded to the nearest hundredth. See the resources tab for the formula.\n",
    "\n",
    "Examples:\n",
    "    \n",
    "cone_volume(3, 2) ➞ 12.57\n",
    "\n",
    "cone_volume(15, 6) ➞ 565.49\n",
    "\n",
    "cone_volume(18, 0) ➞ 0"
   ]
  },
  {
   "cell_type": "code",
   "execution_count": 10,
   "id": "molecular-vegetarian",
   "metadata": {},
   "outputs": [],
   "source": [
    "import math\n",
    "pi = math.pi\n",
    "def cone_volume(h, r):\n",
    "    volume = (1 / 3) * pi * r * r * h\n",
    "    return round(volume, 2)"
   ]
  },
  {
   "cell_type": "code",
   "execution_count": 13,
   "id": "wrapped-algebra",
   "metadata": {},
   "outputs": [
    {
     "name": "stdout",
     "output_type": "stream",
     "text": [
      "12.57\n",
      "565.49\n",
      "0.0\n"
     ]
    }
   ],
   "source": [
    "print(cone_volume(3, 2))\n",
    "print(cone_volume(15, 6))\n",
    "print(cone_volume(18, 0))"
   ]
  },
  {
   "cell_type": "markdown",
   "id": "racial-netherlands",
   "metadata": {},
   "source": [
    "# Q4 :\n",
    "This Triangular Number Sequence is generated from a pattern of dots that form a triangle.\n",
    "The first 5 numbers of the sequence, or dots, are:\n",
    "    \n",
    "1, 3, 6, 10, 15\n",
    "\n",
    "This means that the first triangle has just one dot, the second one has three dots, the third one\n",
    "has 6 dots and so on.\n",
    "\n",
    "Write a function that gives the number of dots with its corresponding triangle number of the\n",
    "sequence.\n",
    "\n",
    "Examples:\n",
    "    \n",
    "triangle(1) ➞ 1\n",
    "\n",
    "triangle(6) ➞ 21\n",
    "\n",
    "triangle(215) ➞ 23220"
   ]
  },
  {
   "cell_type": "code",
   "execution_count": 14,
   "id": "satisfied-grocery",
   "metadata": {},
   "outputs": [],
   "source": [
    "def triangle(n):\n",
    "    \"\"\"\n",
    "    The first triangle has just one dot.\n",
    "    The second triangle has another row with 2 extra dots, making 1 + 2 = 3\n",
    "    The third triangle has another row with 3 extra dots, making 1 + 2 + 3 = 6\n",
    "    The fourth has 1 + 2 + 3 + 4 = 10\n",
    "    etc!\n",
    "    \n",
    "    \"\"\"\n",
    "    return n*(n+1)//2"
   ]
  },
  {
   "cell_type": "code",
   "execution_count": 17,
   "id": "positive-hampton",
   "metadata": {},
   "outputs": [
    {
     "name": "stdout",
     "output_type": "stream",
     "text": [
      "1\n",
      "21\n",
      "23220\n"
     ]
    }
   ],
   "source": [
    "print(triangle(1))\n",
    "print(triangle(6))\n",
    "print(triangle(215))"
   ]
  },
  {
   "cell_type": "markdown",
   "id": "recorded-suffering",
   "metadata": {},
   "source": [
    "# Q5 :\n",
    "Create a function that takes a list of numbers between 1 and 10 (excluding one number) and\n",
    "returns the missing number.\n",
    "\n",
    "Examples:\n",
    "    \n",
    "missing_num([1, 2, 3, 4, 6, 7, 8, 9, 10]) ➞ 5\n",
    "\n",
    "missing_num([7, 2, 3, 6, 5, 9, 1, 4, 8]) ➞ 10\n",
    "\n",
    "missing_num([10, 5, 1, 2, 4, 6, 8, 3, 9]) ➞ 7"
   ]
  },
  {
   "cell_type": "code",
   "execution_count": 18,
   "id": "proved-miami",
   "metadata": {},
   "outputs": [],
   "source": [
    "def missing_num(lst):\n",
    "    # get the array's length\n",
    "    n = len(lst)\n",
    " \n",
    "    # actual size is `n+1` since a number is missing from the list\n",
    "    m = n + 1\n",
    " \n",
    "    # get a sum of integers between 1 and `n+1`\n",
    "    total = m * (m + 1) // 2\n",
    " \n",
    "    # the missing number is the difference between the expected sum and\n",
    "    # the actual sum of integers in the list\n",
    "    return total - sum(lst)"
   ]
  },
  {
   "cell_type": "code",
   "execution_count": 19,
   "id": "contained-longitude",
   "metadata": {},
   "outputs": [
    {
     "name": "stdout",
     "output_type": "stream",
     "text": [
      "The missing number is 5\n",
      "The missing number is 10\n",
      "The missing number is 7\n"
     ]
    }
   ],
   "source": [
    "print(\"The missing number is\", missing_num([1, 2, 3, 4, 6, 7, 8, 9, 10]))\n",
    "print(\"The missing number is\", missing_num([7, 2, 3, 6, 5, 9, 1, 4, 8]))\n",
    "print(\"The missing number is\", missing_num([10, 5, 1, 2, 4, 6, 8, 3, 9]))"
   ]
  }
 ],
 "metadata": {
  "kernelspec": {
   "display_name": "Python 3",
   "language": "python",
   "name": "python3"
  },
  "language_info": {
   "codemirror_mode": {
    "name": "ipython",
    "version": 3
   },
   "file_extension": ".py",
   "mimetype": "text/x-python",
   "name": "python",
   "nbconvert_exporter": "python",
   "pygments_lexer": "ipython3",
   "version": "3.8.8"
  }
 },
 "nbformat": 4,
 "nbformat_minor": 5
}
