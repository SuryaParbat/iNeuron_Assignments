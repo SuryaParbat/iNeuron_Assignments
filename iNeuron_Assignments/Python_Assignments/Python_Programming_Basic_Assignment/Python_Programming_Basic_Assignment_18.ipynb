{
 "cells": [
  {
   "cell_type": "markdown",
   "id": "ruled-earth",
   "metadata": {},
   "source": [
    "# Python Programming Basic Assignment 18"
   ]
  },
  {
   "cell_type": "markdown",
   "id": "brown-actress",
   "metadata": {},
   "source": [
    "# Q1 :\n",
    "Create a function that takes a list of non-negative integers and strings and return a new list\n",
    "without the strings.\n",
    "\n",
    "Examples:\n",
    "    \n",
    "filter_list([1, 2, &quot;a&quot;, &quot;b&quot;]) ➞ [1, 2]\n",
    "\n",
    "filter_list([1, &quot;a&quot;, &quot;b&quot;, 0, 15]) ➞ [1, 0, 15]\n",
    "\n",
    "filter_list([1, 2, &quot;aasf&quot;, &quot;1&quot;, &quot;123&quot;, 123]) ➞ [1, 2, 123]"
   ]
  },
  {
   "cell_type": "code",
   "execution_count": 1,
   "id": "present-staff",
   "metadata": {},
   "outputs": [],
   "source": [
    "def filter_list(lst):\n",
    "    filtered_lst = []\n",
    "    for ele in lst:\n",
    "        if type(ele) == int:\n",
    "            filtered_lst.append(ele)\n",
    "            \n",
    "    return filtered_lst\n",
    "        "
   ]
  },
  {
   "cell_type": "code",
   "execution_count": 2,
   "id": "understanding-mother",
   "metadata": {},
   "outputs": [
    {
     "name": "stdout",
     "output_type": "stream",
     "text": [
      "[1, 2]\n",
      "[1, 0, 15]\n",
      "[1, 2, 123]\n"
     ]
    }
   ],
   "source": [
    "print(filter_list([1, 2, \"a\", \"b\"]))\n",
    "print(filter_list([1, \"a\", \"b\", 0, 15]))\n",
    "print(filter_list([1, 2, \"aasf\", \"1\", \"123\", 123]))"
   ]
  },
  {
   "cell_type": "markdown",
   "id": "satisfactory-sleep",
   "metadata": {},
   "source": [
    "# Q2 :\n",
    "The &quot;Reverser&quot; takes a string as input and returns that string in reverse order, with the\n",
    "opposite case.\n",
    "\n",
    "Examples;\n",
    "\n",
    "reverse(&quot;Hello World&quot;) ➞ &quot;DLROw OLLEh&quot;\n",
    "\n",
    "reverse(&quot;ReVeRsE&quot;) ➞ &quot;eSrEvEr&quot;\n",
    "\n",
    "reverse(&quot;Radar&quot;) ➞ &quot;RADAr&quot;"
   ]
  },
  {
   "cell_type": "code",
   "execution_count": 3,
   "id": "cardiovascular-jefferson",
   "metadata": {},
   "outputs": [],
   "source": [
    "def reverse(user_str):\n",
    "    \n",
    "    # Reversing the string\n",
    "    rvrs_str = user_str[::-1]\n",
    "    \n",
    "    # Reversing the string case\n",
    "    rvrs_str = rvrs_str.swapcase()\n",
    "    \n",
    "    return rvrs_str\n",
    "    \n",
    "    "
   ]
  },
  {
   "cell_type": "code",
   "execution_count": 5,
   "id": "cellular-lambda",
   "metadata": {},
   "outputs": [
    {
     "name": "stdout",
     "output_type": "stream",
     "text": [
      "DLROw OLLEh\n",
      "eSrEvEr\n",
      "RADAr\n"
     ]
    }
   ],
   "source": [
    "print(reverse(\"Hello World\"))\n",
    "print(reverse(\"ReVeRsE\"))\n",
    "print(reverse(\"Radar\"))"
   ]
  },
  {
   "cell_type": "markdown",
   "id": "continental-container",
   "metadata": {},
   "source": [
    "# Q3 :\n",
    "You can assign variables from lists like this:\n",
    "    \n",
    "lst = [1, 2, 3, 4, 5, 6]\n",
    "\n",
    "first = lst[0]\n",
    "\n",
    "middle = lst[1:-1]\n",
    "\n",
    "last = lst[-1]\n",
    "\n",
    "print(first) ➞ outputs 1\n",
    "\n",
    "print(middle) ➞ outputs [2, 3, 4, 5]\n",
    "\n",
    "print(last) ➞ outputs 6\n",
    "\n",
    "With Python 3, you can assign variables from lists in a much more succinct way. Create\n",
    "variables first, middle and last from the given list using destructuring assignment\n",
    "(check the Resources tab for some examples), where:\n",
    "    \n",
    "first ➞ 1\n",
    "\n",
    "middle ➞ [2, 3, 4, 5]\n",
    "\n",
    "last ➞ 6\n",
    "\n",
    "Your task is to unpack the list writeyourcodehere into three variables, being first,\n",
    "middle, and last, with middle being everything in between the first and last element. Then\n",
    "print all three variables."
   ]
  },
  {
   "cell_type": "code",
   "execution_count": 7,
   "id": "worst-syndication",
   "metadata": {},
   "outputs": [
    {
     "name": "stdout",
     "output_type": "stream",
     "text": [
      "1\n",
      "[2, 3, 4, 5]\n",
      "6\n"
     ]
    }
   ],
   "source": [
    "lst = [1,2,3,4,5,6]\n",
    "\n",
    "first = lst[0]\n",
    "middle = lst[1:-1]\n",
    "last = lst[-1]\n",
    "\n",
    "print(first)\n",
    "print(middle)\n",
    "print(last)"
   ]
  },
  {
   "cell_type": "markdown",
   "id": "directed-breast",
   "metadata": {},
   "source": [
    "# Q4 :\n",
    "Write a function that calculates the factorial of a number recursively.\n",
    "\n",
    "Examples:\n",
    "\n",
    "factorial(5) ➞ 120\n",
    "\n",
    "factorial(3) ➞ 6\n",
    "\n",
    "factorial(1) ➞ 1\n",
    "\n",
    "factorial(0) ➞ 1"
   ]
  },
  {
   "cell_type": "code",
   "execution_count": 10,
   "id": "former-premium",
   "metadata": {},
   "outputs": [
    {
     "name": "stdout",
     "output_type": "stream",
     "text": [
      "The factorial of 5 is 120\n",
      "The factorial of 3 is 6\n",
      "The factorial of 1 is 1\n",
      "The factorial of 0 is 1\n",
      "Sorry, factorial does not exist for negative numbers\n"
     ]
    }
   ],
   "source": [
    "# Factorial of a number using recursion\n",
    "\n",
    "def recur_factorial(n):\n",
    "    if n == 1:\n",
    "        return n\n",
    "    else:\n",
    "        return n*recur_factorial(n-1)\n",
    "\n",
    "lst = [5,3,1,0,-1]\n",
    "# check if the number is negative\n",
    "for num in lst:\n",
    "    if num < 0:\n",
    "        print(\"Sorry, factorial does not exist for negative numbers\")\n",
    "    elif num == 0:\n",
    "        print(\"The factorial of 0 is 1\")\n",
    "    else:\n",
    "        print(\"The factorial of\", num, \"is\", recur_factorial(num))\n",
    "    "
   ]
  },
  {
   "cell_type": "markdown",
   "id": "vocal-laser",
   "metadata": {},
   "source": [
    "# Q5 :\n",
    "Write a function that moves all elements of one type to the end of the list.\n",
    "\n",
    "Examples:\n",
    "    \n",
    "move_to_end([1, 3, 2, 4, 4, 1], 1) ➞ [3, 2, 4, 4, 1, 1]\n",
    "Move all the 1s to the end of the array.\n",
    "\n",
    "move_to_end([7, 8, 9, 1, 2, 3, 4], 9) ➞ [7, 8, 1, 2, 3, 4, 9]\n",
    "\n",
    "move_to_end([&quot;a&quot;, &quot;a&quot;, &quot;a&quot;, &quot;b&quot;], &quot;a&quot;) ➞ [&quot;b&quot;, &quot;a&quot;, &quot;a&quot;, &quot;a&quot;]"
   ]
  },
  {
   "cell_type": "code",
   "execution_count": 19,
   "id": "serial-comedy",
   "metadata": {},
   "outputs": [],
   "source": [
    "def move_to_end(array, toMove):\n",
    "\n",
    "    # Mark left pointer\n",
    "    i = 0\n",
    "\n",
    "    # Mark the right pointer\n",
    "    j = len(array) - 1\n",
    "\n",
    "    # Iterate untill left pointer\n",
    "    # crosses the right pointer\n",
    "    while (i < j):\n",
    "\n",
    "        while (i < j and array[j] == toMove):\n",
    "\n",
    "            # decrement right pointer\n",
    "            j-=1\n",
    "\n",
    "        if (array[i] == toMove):\n",
    "\n",
    "            # swap the two elements\n",
    "            # in the array\n",
    "            array[i], array[j] = array[j] , array[i]\n",
    "\n",
    "        # increment left pointer\n",
    "        i += 1\n",
    "\n",
    "    # return the result\n",
    "    return arrayl\n"
   ]
  },
  {
   "cell_type": "code",
   "execution_count": 29,
   "id": "bronze-accused",
   "metadata": {},
   "outputs": [
    {
     "name": "stdout",
     "output_type": "stream",
     "text": [
      "[3, 2, 4, 4, 1, 1]\n",
      "[7, 8, 1, 2, 3, 4, 9]\n",
      "['b', 'a', 'a', 'a']\n"
     ]
    }
   ],
   "source": [
    "print(move_to_end([1, 3, 2, 4, 4, 1], 1))\n",
    "print(move_to_end([7, 8, 9, 1, 2, 3, 4], 9))\n",
    "print(move_to_end([\"a\", \"a\", \"a\", \"b\"], \"a\"))"
   ]
  },
  {
   "cell_type": "code",
   "execution_count": 27,
   "id": "optional-links",
   "metadata": {},
   "outputs": [],
   "source": [
    "def move_to_end(lst,ele):\n",
    "    \n",
    "    lst.sort(key = ele.__eq__)\n",
    "    \n",
    "    return lst\n"
   ]
  },
  {
   "cell_type": "code",
   "execution_count": 17,
   "id": "sacred-stage",
   "metadata": {},
   "outputs": [
    {
     "name": "stdout",
     "output_type": "stream",
     "text": [
      "[3, 2, 4, 4, 1, 1]\n",
      "[7, 8, 1, 2, 3, 4, 9]\n",
      "['b', 'a', 'a', 'a']\n"
     ]
    }
   ],
   "source": [
    "print(move_to_end([1, 3, 2, 4, 4, 1], 1))\n",
    "print(move_to_end([7, 8, 9, 1, 2, 3, 4], 9))\n",
    "print(move_to_end([\"a\", \"a\", \"a\", \"b\"], \"a\"))"
   ]
  }
 ],
 "metadata": {
  "kernelspec": {
   "display_name": "Python 3",
   "language": "python",
   "name": "python3"
  },
  "language_info": {
   "codemirror_mode": {
    "name": "ipython",
    "version": 3
   },
   "file_extension": ".py",
   "mimetype": "text/x-python",
   "name": "python",
   "nbconvert_exporter": "python",
   "pygments_lexer": "ipython3",
   "version": "3.8.8"
  }
 },
 "nbformat": 4,
 "nbformat_minor": 5
}
