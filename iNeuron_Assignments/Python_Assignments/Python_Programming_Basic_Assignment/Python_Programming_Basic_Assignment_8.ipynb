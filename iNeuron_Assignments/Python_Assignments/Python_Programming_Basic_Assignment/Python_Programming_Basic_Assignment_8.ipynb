{
 "cells": [
  {
   "cell_type": "markdown",
   "id": "structural-sword",
   "metadata": {},
   "source": [
    "# Python Programming Basic Assignment 8"
   ]
  },
  {
   "cell_type": "markdown",
   "id": "thick-realtor",
   "metadata": {},
   "source": [
    "Q1 : Write a Python Program to Add Two Matrices?"
   ]
  },
  {
   "cell_type": "code",
   "execution_count": 15,
   "id": "proof-massage",
   "metadata": {},
   "outputs": [
    {
     "name": "stdout",
     "output_type": "stream",
     "text": [
      "Sum of matrix :  [[1, 2, 3], [4, 5, 6], [7, 8, 9]] \n",
      "and :  [[9, 8, 7], [6, 5, 4], [3, 2, 1]] \n",
      "\n",
      "is :  [[10, 10, 10], [10, 10, 10], [10, 10, 10]]\n"
     ]
    }
   ],
   "source": [
    "\n",
    "X = [[1,2,3],\n",
    "    [4 ,5,6],\n",
    "    [7 ,8,9]]\n",
    "\n",
    "Y = [[9,8,7],\n",
    "    [6,5,4],\n",
    "    [3,2,1]]\n",
    "\n",
    "\n",
    "result = [[0,0,0],\n",
    "        [0,0,0],\n",
    "        [0,0,0]]\n",
    "\n",
    "for i in range(len(X)):\n",
    "    for j in range(len(X[0])):\n",
    "        result[i][j] = X[i][j] + Y[i][j]\n",
    "\n",
    "print(\"Sum of matrix : \" , X ,\"\\nand : \", Y ,\"\\n\\nis : \", result)\n"
   ]
  },
  {
   "cell_type": "markdown",
   "id": "cutting-bicycle",
   "metadata": {},
   "source": [
    "Q2 : Write a Python Program to Multiply Two Matrices?"
   ]
  },
  {
   "cell_type": "code",
   "execution_count": 16,
   "id": "alternate-american",
   "metadata": {},
   "outputs": [
    {
     "name": "stdout",
     "output_type": "stream",
     "text": [
      "Multiplication of matrix :  [[12, 7, 3], [4, 5, 6], [7, 8, 9]] \n",
      "and :  [[5, 8, 1, 2], [6, 7, 3, 0], [4, 5, 9, 1]] \n",
      "\n",
      "is :  [[114, 160, 60, 27], [74, 97, 73, 14], [119, 157, 112, 23]]\n"
     ]
    }
   ],
   "source": [
    "\n",
    "A = [[12, 7, 3],\n",
    "    [4, 5, 6],\n",
    "    [7, 8, 9]]\n",
    "\n",
    "B = [[5, 8, 1, 2],\n",
    "    [6, 7, 3, 0],\n",
    "    [4, 5, 9, 1]]\n",
    "\n",
    "result = [[0, 0, 0, 0],\n",
    "        [0, 0, 0, 0],\n",
    "        [0, 0, 0, 0]]\n",
    "\n",
    "# iterating by row of A\n",
    "for i in range(len(A)):\n",
    "    # iterating by coloum by B\n",
    "    for j in range(len(B[0])):\n",
    "        # iterating by rows of B\n",
    "        for k in range(len(B)):\n",
    "            result[i][j] += A[i][k] * B[k][j]\n",
    "\n",
    "print(\"Multiplication of matrix : \" , A ,\"\\nand : \", B ,\"\\n\\nis : \", result)\n"
   ]
  },
  {
   "cell_type": "markdown",
   "id": "sustainable-complexity",
   "metadata": {},
   "source": [
    "Q3 : Write a Python Program to Transpose a Matrix?"
   ]
  },
  {
   "cell_type": "code",
   "execution_count": 26,
   "id": "careful-photography",
   "metadata": {},
   "outputs": [
    {
     "name": "stdout",
     "output_type": "stream",
     "text": [
      "Transpose of matrix :  [[12, 7, 7], [4, 5, 9], [3, 8, 9]]\n",
      "\n",
      " [[12, 4, 3], [7, 5, 8], [7, 9, 9]]\n"
     ]
    }
   ],
   "source": [
    "X = [[12,7,7],\n",
    "    [4 ,5,9],\n",
    "    [3 ,8,9]]\n",
    "\n",
    "result = [[X[j][i] for j in range(len(X))] for i in range(len(X[0]))]\n",
    "\n",
    "print(\"Transpose of matrix : \", X)\n",
    "print(\"\\n\",result)"
   ]
  },
  {
   "cell_type": "markdown",
   "id": "antique-persian",
   "metadata": {},
   "source": [
    "Q4 : Write a Python Program to Sort Words in Alphabetic Order?"
   ]
  },
  {
   "cell_type": "code",
   "execution_count": 34,
   "id": "closing-writer",
   "metadata": {},
   "outputs": [
    {
     "name": "stdout",
     "output_type": "stream",
     "text": [
      "Enter a string: surya parbat apple\n",
      "Sorted words in Alphabetical order : \n",
      "apple\n",
      "parbat\n",
      "surya\n"
     ]
    }
   ],
   "source": [
    "my_str = input(\"Enter a string: \")  \n",
    "\n",
    "my_str1 = my_str.lower()\n",
    "\n",
    "words = my_str1.split()\n",
    "\n",
    "words.sort()  \n",
    "  \n",
    "print(\"Sorted words in Alphabetical order : \" ) \n",
    "for word in words:  \n",
    "    print(word)"
   ]
  },
  {
   "cell_type": "markdown",
   "id": "frank-oliver",
   "metadata": {},
   "source": [
    "Q5 : Write a Python Program to Remove Punctuation From a String?"
   ]
  },
  {
   "cell_type": "code",
   "execution_count": 37,
   "id": "blocked-elevation",
   "metadata": {},
   "outputs": [
    {
     "name": "stdout",
     "output_type": "stream",
     "text": [
      "Enter a string: @@@@Surya &&&&&&Parabt#####$$$!!!\n",
      "String after removing all punctuations :  Surya Parabt\n"
     ]
    }
   ],
   "source": [
    "punctuations = '''!()-[]{};:'\"\\,<>./?@#$%^&*_~'''\n",
    "\n",
    "my_str = input(\"Enter a string: \")\n",
    "\n",
    "no_punct = \"\"\n",
    "for char in my_str:\n",
    "    if char not in punctuations:\n",
    "        no_punct = no_punct + char\n",
    "\n",
    "print(\"String after removing all punctuations : \",no_punct)"
   ]
  }
 ],
 "metadata": {
  "kernelspec": {
   "display_name": "Python 3",
   "language": "python",
   "name": "python3"
  },
  "language_info": {
   "codemirror_mode": {
    "name": "ipython",
    "version": 3
   },
   "file_extension": ".py",
   "mimetype": "text/x-python",
   "name": "python",
   "nbconvert_exporter": "python",
   "pygments_lexer": "ipython3",
   "version": "3.8.8"
  }
 },
 "nbformat": 4,
 "nbformat_minor": 5
}
