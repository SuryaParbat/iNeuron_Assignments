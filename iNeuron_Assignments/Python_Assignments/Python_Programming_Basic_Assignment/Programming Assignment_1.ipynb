{
 "cells": [
  {
   "cell_type": "markdown",
   "id": "competitive-candy",
   "metadata": {},
   "source": [
    "# Python Programming Assignment_1"
   ]
  },
  {
   "cell_type": "markdown",
   "id": "convenient-invention",
   "metadata": {},
   "source": [
    "Q1: Write a Python program to print\"Hello Python\" ?"
   ]
  },
  {
   "cell_type": "code",
   "execution_count": 1,
   "id": "vulnerable-command",
   "metadata": {},
   "outputs": [
    {
     "name": "stdout",
     "output_type": "stream",
     "text": [
      "Hello Python\n"
     ]
    }
   ],
   "source": [
    "print(\"Hello Python\")"
   ]
  },
  {
   "cell_type": "markdown",
   "id": "atmospheric-sullivan",
   "metadata": {},
   "source": [
    "Q2: Write a Python program to do arithmetical operations addition and division.?"
   ]
  },
  {
   "cell_type": "code",
   "execution_count": 12,
   "id": "silent-patent",
   "metadata": {},
   "outputs": [
    {
     "name": "stdout",
     "output_type": "stream",
     "text": [
      "Enter first number : 12\n",
      "Enter second number : 4\n",
      "Enter 1 for addition and 2 for division : 3\n",
      "Enter valid choice\n"
     ]
    }
   ],
   "source": [
    "num1 = int(input(\"Enter first number : \"))\n",
    "num2 = int(input(\"Enter second number : \"))\n",
    "choice = int(input(\"Enter 1 for addition and 2 for division : \"))\n",
    "if choice == 1:\n",
    "    add = num1 + num2\n",
    "    print(f\"Addition of {num1} and {num2} is {add}\")\n",
    "if choice == 2 :\n",
    "    div = num1/num2\n",
    "    print(f\"Division of {num1} and {num2} is {div}\")\n",
    "else:\n",
    "    print(\"Enter valid choice\")"
   ]
  },
  {
   "cell_type": "markdown",
   "id": "expired-pennsylvania",
   "metadata": {},
   "source": [
    "Q3: Write a Python program to find the area of a triangle?"
   ]
  },
  {
   "cell_type": "code",
   "execution_count": 17,
   "id": "sorted-rental",
   "metadata": {},
   "outputs": [
    {
     "name": "stdout",
     "output_type": "stream",
     "text": [
      "Please Enter the First side of a Triangle: 5\n",
      "Please Enter the Second side of a Triangle: 6\n",
      "Please Enter the Third side of a Triangle: 7\n",
      "\n",
      " The Area of a Triangle is 14.70\n"
     ]
    }
   ],
   "source": [
    "a = float(input('Please Enter the First side of a Triangle: '))\n",
    "b = float(input('Please Enter the Second side of a Triangle: '))\n",
    "c = float(input('Please Enter the Third side of a Triangle: '))\n",
    "\n",
    "# semi-perimeter\n",
    "s = (a + b + c) / 2\n",
    "\n",
    "Area = (s*(s-a)*(s-b)*(s-c)) ** 0.5\n",
    "\n",
    "print(\"\\n The Area of a Triangle is %0.2f\" %Area)\n"
   ]
  },
  {
   "cell_type": "markdown",
   "id": "checked-lightning",
   "metadata": {},
   "source": [
    "Q4: Write a Python program to swap two variables?"
   ]
  },
  {
   "cell_type": "code",
   "execution_count": 20,
   "id": "handmade-dubai",
   "metadata": {},
   "outputs": [
    {
     "name": "stdout",
     "output_type": "stream",
     "text": [
      "Enter value of x: 23\n",
      "Enter value of y: 67\n",
      "\n",
      "The value of x after swapping: 67\n",
      "\n",
      "The value of y after swapping: 23\n"
     ]
    }
   ],
   "source": [
    "x = input('Enter value of x: ')\n",
    "y = input('Enter value of y: ')\n",
    "\n",
    "# temporary variable and swap the values\n",
    "temp = x\n",
    "x = y\n",
    "y = temp\n",
    "\n",
    "print('\\nThe value of x after swapping: {}'.format(x))\n",
    "print('\\nThe value of y after swapping: {}'.format(y))"
   ]
  },
  {
   "cell_type": "markdown",
   "id": "logical-alberta",
   "metadata": {},
   "source": [
    "Q5: Write a Python program to generate a random number?"
   ]
  },
  {
   "cell_type": "code",
   "execution_count": 28,
   "id": "facial-upset",
   "metadata": {},
   "outputs": [
    {
     "name": "stdout",
     "output_type": "stream",
     "text": [
      "Random number between 0 and 100 is 50\n"
     ]
    }
   ],
   "source": [
    "import random \n",
    "  \n",
    "r1 = random.randint(0, 100) \n",
    "print(\"Random number between 0 and 100 is {}\" .format(r1)) "
   ]
  },
  {
   "cell_type": "code",
   "execution_count": null,
   "id": "hundred-conference",
   "metadata": {},
   "outputs": [],
   "source": []
  }
 ],
 "metadata": {
  "kernelspec": {
   "display_name": "Python 3",
   "language": "python",
   "name": "python3"
  },
  "language_info": {
   "codemirror_mode": {
    "name": "ipython",
    "version": 3
   },
   "file_extension": ".py",
   "mimetype": "text/x-python",
   "name": "python",
   "nbconvert_exporter": "python",
   "pygments_lexer": "ipython3",
   "version": "3.8.8"
  }
 },
 "nbformat": 4,
 "nbformat_minor": 5
}
